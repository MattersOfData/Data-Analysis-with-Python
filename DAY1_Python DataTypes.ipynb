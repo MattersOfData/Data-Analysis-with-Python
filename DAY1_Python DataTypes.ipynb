{
 "cells": [
  {
   "cell_type": "markdown",
   "id": "fabbac20",
   "metadata": {},
   "source": [
    "# [파이썬 자료형]"
   ]
  },
  {
   "cell_type": "code",
   "execution_count": 1,
   "id": "cd153f8a",
   "metadata": {},
   "outputs": [
    {
     "name": "stdout",
     "output_type": "stream",
     "text": [
      "<class 'str'>\n",
      "<class 'int'>\n",
      "<class 'str'>\n",
      "<class 'list'>\n",
      "<class 'dict'>\n",
      "<class 'bool'>\n"
     ]
    }
   ],
   "source": [
    "x = \"python\" # 문자\n",
    "print(type(x))\n",
    "\n",
    "x = 123 # 숫자(int)\n",
    "print(type(x))\n",
    "\n",
    "x = \"123\" # 문자\n",
    "print(type(x))\n",
    "\n",
    "x = [1,2,3,4] # 리스트(대괄호)\n",
    "print(type(x))\n",
    "\n",
    "x = {\"name\" : \"leo\", \"age\" : \"32\"} #dict{키 : 밸류}\n",
    "print(type(x))\n",
    "\n",
    "x= True # bool형 (True or False)/(맨 앞은 대문자)\n",
    "print(type(x))"
   ]
  },
  {
   "cell_type": "markdown",
   "id": "c71d0d1c",
   "metadata": {},
   "source": [
    "## 1. 숫자형(Number) : 사칙연산 가능!"
   ]
  },
  {
   "cell_type": "code",
   "execution_count": 2,
   "id": "ce5e3060",
   "metadata": {},
   "outputs": [
    {
     "name": "stdout",
     "output_type": "stream",
     "text": [
      "2\n",
      "11\n"
     ]
    }
   ],
   "source": [
    "a = 1 + 1  # 숫자 2\n",
    "print(a)\n",
    "\n",
    "a = \"1\" + \"1\" # 문자 11\n",
    "print(a)"
   ]
  },
  {
   "cell_type": "markdown",
   "id": "2295a289",
   "metadata": {},
   "source": [
    "## 2. 문자형 (String) \n",
    "- 큰 따옴표(\"\") 또는 작은 따옴표('')에 감싸져 있는 형태"
   ]
  },
  {
   "cell_type": "markdown",
   "id": "281ef70a",
   "metadata": {},
   "source": [
    "### 문자형 다루기"
   ]
  },
  {
   "cell_type": "code",
   "execution_count": 5,
   "id": "57520435",
   "metadata": {},
   "outputs": [
    {
     "name": "stdout",
     "output_type": "stream",
     "text": [
      "<class 'str'>\n",
      "<class 'str'>\n"
     ]
    }
   ],
   "source": [
    "a = \"python\"\n",
    "print(type(a))\n",
    "\n",
    "b = 'python'\n",
    "print(type(b))"
   ]
  },
  {
   "cell_type": "code",
   "execution_count": 6,
   "id": "5fd26d59",
   "metadata": {},
   "outputs": [
    {
     "name": "stdout",
     "output_type": "stream",
     "text": [
      "Act as though \n",
      "is impossible to fail\n",
      "   \n",
      "Act as though \n",
      "is impossible to fai\n",
      "\n"
     ]
    }
   ],
   "source": [
    "# 1)여러줄 표현하고 싶을때\n",
    "\n",
    "# (1) \\n 사용(= Enter)\n",
    "a = \"Act as though \\nis impossible to fail\" # \\n : Enter\n",
    "print(a)\n",
    "\n",
    "# (2) \"\"\",''' 는 안에있는 문자 그대로 입력하기\n",
    "a = \"\"\"   \n",
    "Act as though \n",
    "is impossible to fai\n",
    "\"\"\"\n",
    "print(a)"
   ]
  },
  {
   "cell_type": "code",
   "execution_count": 18,
   "id": "f38d3137",
   "metadata": {},
   "outputs": [
    {
     "name": "stdout",
     "output_type": "stream",
     "text": [
      "\"Failure is simply the oppurtunity to begin again.\" he\n",
      "says.\"\n",
      "\"Failure is simply the oppurtunity to begin again.\" he \n",
      " says.\"\n",
      "\"Failure is simply the oppurtunity to begin again.\" he \n",
      " says.\"\n"
     ]
    }
   ],
   "source": [
    "# Quiz\n",
    "\n",
    "# (1) \\n 사용(Enter)\n",
    "a = '\"Failure is simply the oppurtunity to begin again.\" he \\n says.\"'\n",
    "print(a)\n",
    "\n",
    "# (2) ''' ''' 사용 \n",
    "a = '''\"Failure is simply the oppurtunity to begin again.\" he\n",
    "says.\"'''\n",
    "print(a)\n",
    "\n",
    "#(3) 문자 \"\"나타낼때에는 앞에 \\ 표시\n",
    "\n",
    "a = \"\\\"Failure is simply the oppurtunity to begin again.\\\" he \\n says.\\\"\"\n",
    "print(a)"
   ]
  },
  {
   "cell_type": "code",
   "execution_count": 28,
   "id": "cca5bb5b",
   "metadata": {},
   "outputs": [
    {
     "name": "stdout",
     "output_type": "stream",
     "text": [
      "It's kind of fun to do the impossible\n",
      "It's kind of fun to do the impossible\n"
     ]
    }
   ],
   "source": [
    "# 2) 문자열 안에 ', \" 가 들어가는 경우\n",
    "\n",
    "# (1) ' 또는 \" 바로 앞에 백슬래시(\\)를 삽입\n",
    "a = 'It\\'s kind of fun to do the impossible'\n",
    "print(a)\n",
    "\n",
    "#(2) \"\"로 문자열 만들기\n",
    "b = \"It\\'s kind of fun to do the impossible\"\n",
    "print(b)"
   ]
  },
  {
   "cell_type": "code",
   "execution_count": 29,
   "id": "c20683fa",
   "metadata": {},
   "outputs": [
    {
     "name": "stdout",
     "output_type": "stream",
     "text": [
      "AB\n",
      "AAAAAAAAAAAAAAAAAAAAAAAAAAAAAAAAAAAAAAAAAAAAAAAAAAAAAAAAAAAAAAAAAAAAAAAAAAAAAAAAAAAAAAAAAAAAAAAAAAAA\n"
     ]
    }
   ],
   "source": [
    "# 3) 문자열 연산(더하기, 문자*숫자만 가능)\n",
    "a = \"A\"\n",
    "b = \"B\"\n",
    "\n",
    "print(a+b) \n",
    "print(a*100) "
   ]
  },
  {
   "cell_type": "code",
   "execution_count": null,
   "id": "db76df9a",
   "metadata": {},
   "outputs": [],
   "source": [
    "# 4) 문자열 길이 구하기 (len)\n",
    "c = \"hello python!\"\n",
    "print(len(c))"
   ]
  },
  {
   "cell_type": "code",
   "execution_count": 45,
   "id": "1bd83d1a",
   "metadata": {},
   "outputs": [
    {
     "name": "stdout",
     "output_type": "stream",
     "text": [
      "!\n",
      "!\n",
      "hello\n",
      "python!\n",
      "hello python!\n"
     ]
    }
   ],
   "source": [
    "# 5) 문자열 인덱싱 (Indexing) & 슬라이싱(slicing)\n",
    "c = \"hello python!\"\n",
    "print(c[12]) # indexing(하나만 지정)\n",
    "print(c[-1])\n",
    "\n",
    "print(c[0:5]) # slicing(범위지정) 0 <= c <5\n",
    "print(c[6:]) # 빈칸 = 끝까지 \n",
    "print(c[:]) # 처음 ~ 끝까지"
   ]
  },
  {
   "attachments": {
    "image.png": {
     "image/png": "[encoded data removed]"
    }
   },
   "cell_type": "markdown",
   "id": "0f0053e5",
   "metadata": {},
   "source": [
    "![image.png](attachment:image.png)"
   ]
  },
  {
   "cell_type": "code",
   "execution_count": 50,
   "id": "f0676adf",
   "metadata": {},
   "outputs": [
    {
     "name": "stdout",
     "output_type": "stream",
     "text": [
      "Title :  Titanic Director :  James\n",
      "Title =  Titanic, Director = James\n"
     ]
    }
   ],
   "source": [
    "# Quiz\n",
    "x = \"TitanicJames\"\n",
    "title = x[:7]\n",
    "director = x[7:]\n",
    "\n",
    "print('Title : ' , title , 'Director : ' , director) \n",
    "print(f'Title =  {title}, Director = {director}')"
   ]
  },
  {
   "cell_type": "markdown",
   "id": "9c4f0ac5",
   "metadata": {},
   "source": [
    "## 3.리스트형 (List) \n",
    "- 여러 데이터 한번에 담기 위해 나온 자료형\n",
    "- [] 로 표현"
   ]
  },
  {
   "cell_type": "code",
   "execution_count": 54,
   "id": "3ca4261d",
   "metadata": {},
   "outputs": [
    {
     "name": "stdout",
     "output_type": "stream",
     "text": [
      "a\n",
      "d\n",
      "['c', 'd', 'e']\n",
      "d\n"
     ]
    }
   ],
   "source": [
    "a = [\"a\", \"b\", \"c\", \"d\", \"e\"]\n",
    "print(a[0])\n",
    "\n",
    "b = [\"a\",\"b\", [\"c\", \"d\", \"e\"]]\n",
    "print(b[2]) # b안에 있는 리스트의 리스트에서 d 가져오기\n",
    "print(b[2][1]) # d 가져오기"
   ]
  },
  {
   "attachments": {
    "image.png": {
     "image/png": "[encoded data removed]"
    }
   },
   "cell_type": "markdown",
   "id": "4228926e",
   "metadata": {},
   "source": [
    "![image.png](attachment:image.png)"
   ]
  },
  {
   "cell_type": "markdown",
   "id": "10d87a59",
   "metadata": {},
   "source": [
    "### 4-1 튜플 \n",
    "- 소괄호 () 로 표현\n",
    "- 잘 사용하진 않음"
   ]
  },
  {
   "cell_type": "code",
   "execution_count": 56,
   "id": "25395c23",
   "metadata": {},
   "outputs": [
    {
     "name": "stdout",
     "output_type": "stream",
     "text": [
      "<class 'tuple'>\n"
     ]
    }
   ],
   "source": [
    "t = (\"a\", \"a\")\n",
    "print(type(t))"
   ]
  },
  {
   "cell_type": "markdown",
   "id": "46c0676f",
   "metadata": {},
   "source": [
    "### 4-2. 딕셔너리형(Dict)\n",
    "- 키값 & 밸류값 : {Key1:Value1, Key2:Value2, Key3:Value3, ...}\n",
    "- {}로 표현"
   ]
  },
  {
   "cell_type": "code",
   "execution_count": 57,
   "id": "ce335351",
   "metadata": {},
   "outputs": [
    {
     "name": "stdout",
     "output_type": "stream",
     "text": [
      "value2\n"
     ]
    }
   ],
   "source": [
    "x = {\"kye1\":\"value1\", \"key2\" : \"value2\"}\n",
    "print(x[\"key2\"]) # 가져오고자 하는 키 값 "
   ]
  },
  {
   "cell_type": "markdown",
   "id": "0f884cbe",
   "metadata": {},
   "source": [
    "### 4-3 집합형(Set)\n",
    "- 순서를 갖지 않는다. (Unordered)\n",
    "\n",
    "- 중복을 허용하지 않는다(중복 삭제) : 중복된 값 필요 없을때 사용!"
   ]
  },
  {
   "cell_type": "code",
   "execution_count": 59,
   "id": "7b9a966e",
   "metadata": {},
   "outputs": [
    {
     "name": "stdout",
     "output_type": "stream",
     "text": [
      "{1, 2, 3}\n"
     ]
    }
   ],
   "source": [
    "y = set([1,2,3,2,1,1])\n",
    "print(y)"
   ]
  },
  {
   "cell_type": "markdown",
   "id": "53353c42",
   "metadata": {},
   "source": [
    "### 5. 불형(Boolean)\n",
    "- True, False 표현"
   ]
  },
  {
   "cell_type": "code",
   "execution_count": 62,
   "id": "a6345bda",
   "metadata": {},
   "outputs": [
    {
     "name": "stdout",
     "output_type": "stream",
     "text": [
      "<class 'bool'>\n"
     ]
    }
   ],
   "source": [
    "x = True\n",
    "print(type(x))"
   ]
  }
 ],
 "metadata": {
  "kernelspec": {
   "display_name": "Python 3 (ipykernel)",
   "language": "python",
   "name": "python3"
  },
  "language_info": {
   "codemirror_mode": {
    "name": "ipython",
    "version": 3
   },
   "file_extension": ".py",
   "mimetype": "text/x-python",
   "name": "python",
   "nbconvert_exporter": "python",
   "pygments_lexer": "ipython3",
   "version": "3.9.12"
  }
 },
 "nbformat": 4,
 "nbformat_minor": 5
}
