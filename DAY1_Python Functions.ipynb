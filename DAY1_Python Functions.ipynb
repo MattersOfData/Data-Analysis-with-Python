{
 "cells": [
  {
   "cell_type": "markdown",
   "id": "41c29389",
   "metadata": {},
   "source": [
    "# 파이썬 함수"
   ]
  },
  {
   "cell_type": "markdown",
   "id": "11da5804",
   "metadata": {},
   "source": [
    "### 1. 파이썬 함수(def= define)\n",
    "- 반복적으로 생성되는 코드들을 재활용"
   ]
  },
  {
   "cell_type": "code",
   "execution_count": null,
   "id": "76b11049",
   "metadata": {},
   "outputs": [],
   "source": [
    "# 함수의 구조\n",
    "\n",
    "def 함수명(매개변수): \n",
    "    실행할 문장"
   ]
  },
  {
   "cell_type": "code",
   "execution_count": 15,
   "id": "6fca437e",
   "metadata": {},
   "outputs": [
    {
     "name": "stdout",
     "output_type": "stream",
     "text": [
      "제 이름은kate입니다\n"
     ]
    }
   ],
   "source": [
    "# 1-1) 매개변수가 있는 함수\n",
    "def name(input):\n",
    "    print('제 이름은' + input + '입니다.')\n",
    "\n",
    "name(' Kate ') # kate : input -> output : 제 이름은 kate 입니다"
   ]
  },
  {
   "cell_type": "code",
   "execution_count": 16,
   "id": "52c3e2ba",
   "metadata": {},
   "outputs": [
    {
     "name": "stdout",
     "output_type": "stream",
     "text": [
      "제 이름은kate입니다\n"
     ]
    }
   ],
   "source": [
    "# 1-2 매개변수를 지정도 가능\n",
    "def my_name (name = 'kate') :\n",
    "    print('제 이름은' + name + '입니다')\n",
    "    \n",
    "my_name()"
   ]
  },
  {
   "cell_type": "code",
   "execution_count": 23,
   "id": "f2eda917",
   "metadata": {},
   "outputs": [
    {
     "name": "stdout",
     "output_type": "stream",
     "text": [
      "7\n",
      "7\n"
     ]
    }
   ],
   "source": [
    "# 1-3) 리턴이 있는 함수\n",
    "\n",
    "def sum(a,b) :\n",
    "    print(a+b)\n",
    "    return a+b # 함수에서 output 역할/ 함수는 input-output 세트 \n",
    "                # 내가 만든 함수 사용시, none이라고 오류생기면 return (output)여부 확인 !\n",
    "\n",
    "total = sum(3,4)\n",
    "print(total)"
   ]
  },
  {
   "attachments": {
    "image.png": {
     "image/png": "[encoded data removed]"
    }
   },
   "cell_type": "markdown",
   "id": "358db16d",
   "metadata": {},
   "source": [
    "![image.png](attachment:image.png)"
   ]
  },
  {
   "cell_type": "code",
   "execution_count": 47,
   "id": "b3c9dc1b",
   "metadata": {},
   "outputs": [
    {
     "name": "stdout",
     "output_type": "stream",
     "text": [
      "kate\n",
      "100\n",
      "kate 학생은 100점이기 때문에, A 등급 입니다\n"
     ]
    }
   ],
   "source": [
    "# Quiz) 성적과 이름을 입력하고, 성적에 따른 등급을 알려주는 프로그램을 만드시오.\n",
    "\n",
    "def grade(name, score) :\n",
    "    if score >= 90 :\n",
    "        print( f'{name} 학생은 {score}점이기 때문에, A 등급 입니다')\n",
    "    elif score >= 80 :\n",
    "        print( f'{name} 학생은 {score}점이기 때문에, B 등급 입니다')\n",
    "    elif score >= 70 :\n",
    "        print( f'{name} 학생은 {score}점이기 때문에, C 등급 입니다')\n",
    "    elif score >= 60 :\n",
    "        print( f'{name} 학생은 {score}점이기 때문에, D 등급 입니다')\n",
    "    else :\n",
    "        print( f'{name} 학생은 {score}점이기 때문에, F 등급 입니다')\n",
    "\n",
    "name = input()\n",
    "score = int(input())\n",
    "\n",
    "my_grade = grade(name,score)"
   ]
  },
  {
   "cell_type": "markdown",
   "id": "37a8c1b7",
   "metadata": {},
   "source": [
    "## 2. 파이썬 내장함수 / 외장함수\n",
    "- 특히 영어데이터의 경우, all 소문자 or 대문자로 변환\n",
    "- 기본적으로 내장되어 있어 바로 사용가능한 함수들(내장함수, Built-in Function)\n",
    "    - range(), len(), print(), int(), upper()\n",
    "- 내장되어 있지 않아 외부에서 받아와서 사용가능한 함수들 (외장함수, Extenal Function)\n",
    "    - import 함수 : random, sys, os, time"
   ]
  },
  {
   "cell_type": "code",
   "execution_count": null,
   "id": "69a28ae8",
   "metadata": {},
   "outputs": [],
   "source": [
    "#[날짜별 폴더생성]\n",
    "import os \n",
    "from datetime import datetime\n",
    "os.mkdir(datetime.now().strftime(\"%Y-%m-%d\")) \n",
    "\n",
    "#[시간별 폴더생성]\n",
    "import os \n",
    "from datetime import datetime\n",
    "os.mkdir(datetime.now().strftime(\"%H:%M:%S\")) \n",
    "\n",
    "#[class : 함수의 모임]\n",
    "#[Moduel : 클래스의 모임]\n",
    "#[Package: 모듈의 모임]\n"
   ]
  }
 ],
 "metadata": {
  "kernelspec": {
   "display_name": "Python 3 (ipykernel)",
   "language": "python",
   "name": "python3"
  },
  "language_info": {
   "codemirror_mode": {
    "name": "ipython",
    "version": 3
   },
   "file_extension": ".py",
   "mimetype": "text/x-python",
   "name": "python",
   "nbconvert_exporter": "python",
   "pygments_lexer": "ipython3",
   "version": "3.9.12"
  }
 },
 "nbformat": 4,
 "nbformat_minor": 5
}
