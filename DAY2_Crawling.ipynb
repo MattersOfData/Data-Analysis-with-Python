{
 "cells": [
  {
   "cell_type": "markdown",
   "id": "995849d7",
   "metadata": {},
   "source": [
    "## 1. 네이버 날씨 Crawling"
   ]
  },
  {
   "cell_type": "markdown",
   "id": "b7a2ea12",
   "metadata": {},
   "source": [
    "### 2 가지 방법\n",
    "1) 네이버 홈 -> 키워드 : '날씨' 입력 -> 검색 \\\n",
    "2) 처음부터  날씨URL 로 접근"
   ]
  },
  {
   "cell_type": "code",
   "execution_count": 1,
   "id": "b72a6c47",
   "metadata": {},
   "outputs": [
    {
     "name": "stdout",
     "output_type": "stream",
     "text": [
      "Requirement already satisfied: selenium in c:\\users\\miyoung\\anaconda3\\lib\\site-packages (4.5.0)\n",
      "Requirement already satisfied: trio-websocket~=0.9 in c:\\users\\miyoung\\anaconda3\\lib\\site-packages (from selenium) (0.9.2)\n",
      "Requirement already satisfied: urllib3[socks]~=1.26 in c:\\users\\miyoung\\anaconda3\\lib\\site-packages (from selenium) (1.26.9)\n",
      "Requirement already satisfied: trio~=0.17 in c:\\users\\miyoung\\anaconda3\\lib\\site-packages (from selenium) (0.22.0)\n",
      "Requirement already satisfied: certifi>=2021.10.8 in c:\\users\\miyoung\\anaconda3\\lib\\site-packages (from selenium) (2021.10.8)\n",
      "Requirement already satisfied: sniffio in c:\\users\\miyoung\\anaconda3\\lib\\site-packages (from trio~=0.17->selenium) (1.2.0)\n",
      "Requirement already satisfied: async-generator>=1.9 in c:\\users\\miyoung\\anaconda3\\lib\\site-packages (from trio~=0.17->selenium) (1.10)\n",
      "Requirement already satisfied: cffi>=1.14 in c:\\users\\miyoung\\anaconda3\\lib\\site-packages (from trio~=0.17->selenium) (1.15.0)\n",
      "Requirement already satisfied: sortedcontainers in c:\\users\\miyoung\\anaconda3\\lib\\site-packages (from trio~=0.17->selenium) (2.4.0)\n",
      "Requirement already satisfied: outcome in c:\\users\\miyoung\\anaconda3\\lib\\site-packages (from trio~=0.17->selenium) (1.2.0)\n",
      "Requirement already satisfied: attrs>=19.2.0 in c:\\users\\miyoung\\anaconda3\\lib\\site-packages (from trio~=0.17->selenium) (21.4.0)\n",
      "Requirement already satisfied: idna in c:\\users\\miyoung\\anaconda3\\lib\\site-packages (from trio~=0.17->selenium) (3.3)\n",
      "Requirement already satisfied: exceptiongroup>=1.0.0rc9 in c:\\users\\miyoung\\anaconda3\\lib\\site-packages (from trio~=0.17->selenium) (1.0.0rc9)\n",
      "Requirement already satisfied: pycparser in c:\\users\\miyoung\\anaconda3\\lib\\site-packages (from cffi>=1.14->trio~=0.17->selenium) (2.21)\n",
      "Requirement already satisfied: wsproto>=0.14 in c:\\users\\miyoung\\anaconda3\\lib\\site-packages (from trio-websocket~=0.9->selenium) (1.2.0)\n",
      "Requirement already satisfied: PySocks!=1.5.7,<2.0,>=1.5.6 in c:\\users\\miyoung\\anaconda3\\lib\\site-packages (from urllib3[socks]~=1.26->selenium) (1.7.1)\n",
      "Requirement already satisfied: h11<1,>=0.9.0 in c:\\users\\miyoung\\anaconda3\\lib\\site-packages (from wsproto>=0.14->trio-websocket~=0.9->selenium) (0.14.0)\n",
      "Note: you may need to restart the kernel to use updated packages.\n"
     ]
    }
   ],
   "source": [
    "pip install selenium"
   ]
  },
  {
   "cell_type": "code",
   "execution_count": 2,
   "id": "8e3338f3",
   "metadata": {},
   "outputs": [],
   "source": [
    "from selenium import webdriver"
   ]
  },
  {
   "cell_type": "code",
   "execution_count": 37,
   "id": "0c231dba",
   "metadata": {},
   "outputs": [],
   "source": [
    "# 컨트롤 할 수 있는 Chrome 을 browser 에 담음\n",
    "\n",
    "browser = webdriver.Chrome()"
   ]
  },
  {
   "cell_type": "code",
   "execution_count": null,
   "id": "07ecd140",
   "metadata": {},
   "outputs": [],
   "source": [
    "# browser 명령어\n",
    "\n",
    "browser.back() # 뒤로가기\n",
    "browser.forward() #앞으로 가기\n",
    "broswer.refresh() #새로고침"
   ]
  },
  {
   "cell_type": "markdown",
   "id": "3514a612",
   "metadata": {},
   "source": [
    "### 방법 1)"
   ]
  },
  {
   "cell_type": "code",
   "execution_count": 38,
   "id": "fa863b49",
   "metadata": {},
   "outputs": [],
   "source": [
    "# 해당 링크로 이동 \n",
    "\n",
    "browser.get(\"http://www.naver.com\")"
   ]
  },
  {
   "cell_type": "markdown",
   "id": "063383dc",
   "metadata": {},
   "source": [
    "### 방법 2)"
   ]
  },
  {
   "cell_type": "code",
   "execution_count": 8,
   "id": "34812716",
   "metadata": {},
   "outputs": [],
   "source": [
    "# 해당 링크로 이동 \n",
    "\n",
    "browser.get(\"https://search.naver.com/search.naver?where=nexearch&sm=top_hty&fbm=1&ie=utf8&query=%EB%82%A0%EC%94%A8\")"
   ]
  },
  {
   "cell_type": "code",
   "execution_count": 14,
   "id": "14e55fe0",
   "metadata": {},
   "outputs": [],
   "source": [
    "from selenium.webdriver.common.by import By # Selenium 업데이트되면서 필요 "
   ]
  },
  {
   "cell_type": "code",
   "execution_count": 43,
   "id": "a1f9af75",
   "metadata": {},
   "outputs": [],
   "source": [
    "# 검색창 클릭\n",
    "\n",
    "browser.find_element(By.ID , 'query').click()"
   ]
  },
  {
   "cell_type": "code",
   "execution_count": 44,
   "id": "4941415b",
   "metadata": {},
   "outputs": [],
   "source": [
    "# 날씨 키워드 입력\n",
    "\n",
    "browser.find_element(By.ID , 'query').send_keys(\"날씨\") "
   ]
  },
  {
   "cell_type": "code",
   "execution_count": 45,
   "id": "840f08d4",
   "metadata": {},
   "outputs": [],
   "source": [
    "# 검색 아이콘 클릭\n",
    "\n",
    "browser.find_element(By.ID , 'search_btn').click()\n",
    "#browser.find_element(By.XPATH, '//*[@id=\"search_btn\"]').click()"
   ]
  },
  {
   "cell_type": "code",
   "execution_count": 33,
   "id": "84544dc1",
   "metadata": {},
   "outputs": [
    {
     "data": {
      "text/plain": [
       "'-5.0'"
      ]
     },
     "execution_count": 33,
     "metadata": {},
     "output_type": "execute_result"
    }
   ],
   "source": [
    "# 온도 데이터(텍스트)값만 가져오기\n",
    "\n",
    "data = browser.find_element(By.CLASS_NAME ,'temperature_text').text\n",
    "data[6:10]"
   ]
  },
  {
   "cell_type": "code",
   "execution_count": 34,
   "id": "b4b481bb",
   "metadata": {},
   "outputs": [
    {
     "data": {
      "text/plain": [
       "'°'"
      ]
     },
     "execution_count": 34,
     "metadata": {},
     "output_type": "execute_result"
    }
   ],
   "source": [
    "# 온도 (') 기호 값만 가져오기 -> find_element 2번 사용\n",
    "\n",
    "browser.find_element(By.XPATH ,'//*[@id=\"main_pack\"]/section[1]/div[1]/div[2]/div[1]/div[1]/div/div[2]/div/div[1]/div[1]/div[2]').find_element(By.CLASS_NAME, 'celsius').text"
   ]
  },
  {
   "cell_type": "markdown",
   "id": "eeec4d9f",
   "metadata": {},
   "source": [
    "## 2. 네이버 환율 Crawling\n",
    "- 입력했던 키워드를 지우고, 새로운 키워드를 입력하고 싶을 경우"
   ]
  },
  {
   "cell_type": "code",
   "execution_count": 47,
   "id": "987d5d6f",
   "metadata": {},
   "outputs": [],
   "source": [
    "# 검색창 클릭\n",
    "\n",
    "browser.find_element(By.ID , 'nx_query').click()"
   ]
  },
  {
   "cell_type": "code",
   "execution_count": 54,
   "id": "8dd731a8",
   "metadata": {},
   "outputs": [],
   "source": [
    "# 입력되어있는 키워드 전체 지우기\n",
    "\n",
    "browser.find_element(By.ID , 'nx_query').clear()"
   ]
  },
  {
   "cell_type": "code",
   "execution_count": 55,
   "id": "57de44f2",
   "metadata": {},
   "outputs": [],
   "source": [
    "# 환율 키워드 입력\n",
    "\n",
    "browser.find_element(By.ID , 'nx_query').send_keys(\"환율\") "
   ]
  },
  {
   "cell_type": "code",
   "execution_count": 57,
   "id": "59fababb",
   "metadata": {},
   "outputs": [],
   "source": [
    "# 검색 아이콘 클릭\n",
    "\n",
    "browser.find_element(By.CLASS_NAME , 'bt_search').click()"
   ]
  },
  {
   "cell_type": "code",
   "execution_count": 58,
   "id": "831f2043",
   "metadata": {},
   "outputs": [
    {
     "data": {
      "text/plain": [
       "'1,237.00'"
      ]
     },
     "execution_count": 58,
     "metadata": {},
     "output_type": "execute_result"
    }
   ],
   "source": [
    "# 환율(텍스트) 가져오기\n",
    "\n",
    "browser.find_element(By.XPATH, '//*[@id=\"_cs_foreigninfo\"]/div[1]/div[2]/div/div[1]/div[1]/div[1]/div[1]/h3/a/span[2]/strong').text"
   ]
  },
  {
   "cell_type": "code",
   "execution_count": 61,
   "id": "6e0a07eb",
   "metadata": {},
   "outputs": [
    {
     "ename": "NoSuchElementException",
     "evalue": "Message: no such element: Unable to locate element: {\"method\":\"css selector\",\"selector\":\".rate_table_bx _table\"}\n  (Session info: chrome=109.0.5414.74)\nStacktrace:\nBacktrace:\n\t(No symbol) [0x00CD6643]\n\t(No symbol) [0x00C6BE21]\n\t(No symbol) [0x00B6DA9D]\n\t(No symbol) [0x00BA1342]\n\t(No symbol) [0x00BA147B]\n\t(No symbol) [0x00BD8DC2]\n\t(No symbol) [0x00BBFDC4]\n\t(No symbol) [0x00BD6B09]\n\t(No symbol) [0x00BBFB76]\n\t(No symbol) [0x00B949C1]\n\t(No symbol) [0x00B95E5D]\n\tGetHandleVerifier [0x00F4A142+2497106]\n\tGetHandleVerifier [0x00F785D3+2686691]\n\tGetHandleVerifier [0x00F7BB9C+2700460]\n\tGetHandleVerifier [0x00D83B10+635936]\n\t(No symbol) [0x00C74A1F]\n\t(No symbol) [0x00C7A418]\n\t(No symbol) [0x00C7A505]\n\t(No symbol) [0x00C8508B]\n\tBaseThreadInitThunk [0x751F00F9+25]\n\tRtlGetAppContainerNamedObjectPath [0x77287BBE+286]\n\tRtlGetAppContainerNamedObjectPath [0x77287B8E+238]\n",
     "output_type": "error",
     "traceback": [
      "\u001b[1;31m---------------------------------------------------------------------------\u001b[0m",
      "\u001b[1;31mNoSuchElementException\u001b[0m                    Traceback (most recent call last)",
      "Input \u001b[1;32mIn [61]\u001b[0m, in \u001b[0;36m<cell line: 1>\u001b[1;34m()\u001b[0m\n\u001b[1;32m----> 1\u001b[0m \u001b[43mbrowser\u001b[49m\u001b[38;5;241;43m.\u001b[39;49m\u001b[43mfind_element\u001b[49m\u001b[43m(\u001b[49m\u001b[43mBy\u001b[49m\u001b[38;5;241;43m.\u001b[39;49m\u001b[43mCLASS_NAME\u001b[49m\u001b[43m,\u001b[49m\u001b[43m \u001b[49m\u001b[38;5;124;43m'\u001b[39;49m\u001b[38;5;124;43mrate_table_bx _table\u001b[39;49m\u001b[38;5;124;43m'\u001b[39;49m\u001b[43m)\u001b[49m\u001b[38;5;241m.\u001b[39mtext\n",
      "File \u001b[1;32m~\\anaconda3\\lib\\site-packages\\selenium\\webdriver\\remote\\webdriver.py:856\u001b[0m, in \u001b[0;36mWebDriver.find_element\u001b[1;34m(self, by, value)\u001b[0m\n\u001b[0;32m    853\u001b[0m     by \u001b[38;5;241m=\u001b[39m By\u001b[38;5;241m.\u001b[39mCSS_SELECTOR\n\u001b[0;32m    854\u001b[0m     value \u001b[38;5;241m=\u001b[39m \u001b[38;5;124m'\u001b[39m\u001b[38;5;124m[name=\u001b[39m\u001b[38;5;124m\"\u001b[39m\u001b[38;5;132;01m%s\u001b[39;00m\u001b[38;5;124m\"\u001b[39m\u001b[38;5;124m]\u001b[39m\u001b[38;5;124m'\u001b[39m \u001b[38;5;241m%\u001b[39m value\n\u001b[1;32m--> 856\u001b[0m \u001b[38;5;28;01mreturn\u001b[39;00m \u001b[38;5;28;43mself\u001b[39;49m\u001b[38;5;241;43m.\u001b[39;49m\u001b[43mexecute\u001b[49m\u001b[43m(\u001b[49m\u001b[43mCommand\u001b[49m\u001b[38;5;241;43m.\u001b[39;49m\u001b[43mFIND_ELEMENT\u001b[49m\u001b[43m,\u001b[49m\u001b[43m \u001b[49m\u001b[43m{\u001b[49m\n\u001b[0;32m    857\u001b[0m \u001b[43m    \u001b[49m\u001b[38;5;124;43m'\u001b[39;49m\u001b[38;5;124;43musing\u001b[39;49m\u001b[38;5;124;43m'\u001b[39;49m\u001b[43m:\u001b[49m\u001b[43m \u001b[49m\u001b[43mby\u001b[49m\u001b[43m,\u001b[49m\n\u001b[0;32m    858\u001b[0m \u001b[43m    \u001b[49m\u001b[38;5;124;43m'\u001b[39;49m\u001b[38;5;124;43mvalue\u001b[39;49m\u001b[38;5;124;43m'\u001b[39;49m\u001b[43m:\u001b[49m\u001b[43m \u001b[49m\u001b[43mvalue\u001b[49m\u001b[43m}\u001b[49m\u001b[43m)\u001b[49m[\u001b[38;5;124m'\u001b[39m\u001b[38;5;124mvalue\u001b[39m\u001b[38;5;124m'\u001b[39m]\n",
      "File \u001b[1;32m~\\anaconda3\\lib\\site-packages\\selenium\\webdriver\\remote\\webdriver.py:429\u001b[0m, in \u001b[0;36mWebDriver.execute\u001b[1;34m(self, driver_command, params)\u001b[0m\n\u001b[0;32m    427\u001b[0m response \u001b[38;5;241m=\u001b[39m \u001b[38;5;28mself\u001b[39m\u001b[38;5;241m.\u001b[39mcommand_executor\u001b[38;5;241m.\u001b[39mexecute(driver_command, params)\n\u001b[0;32m    428\u001b[0m \u001b[38;5;28;01mif\u001b[39;00m response:\n\u001b[1;32m--> 429\u001b[0m     \u001b[38;5;28;43mself\u001b[39;49m\u001b[38;5;241;43m.\u001b[39;49m\u001b[43merror_handler\u001b[49m\u001b[38;5;241;43m.\u001b[39;49m\u001b[43mcheck_response\u001b[49m\u001b[43m(\u001b[49m\u001b[43mresponse\u001b[49m\u001b[43m)\u001b[49m\n\u001b[0;32m    430\u001b[0m     response[\u001b[38;5;124m'\u001b[39m\u001b[38;5;124mvalue\u001b[39m\u001b[38;5;124m'\u001b[39m] \u001b[38;5;241m=\u001b[39m \u001b[38;5;28mself\u001b[39m\u001b[38;5;241m.\u001b[39m_unwrap_value(\n\u001b[0;32m    431\u001b[0m         response\u001b[38;5;241m.\u001b[39mget(\u001b[38;5;124m'\u001b[39m\u001b[38;5;124mvalue\u001b[39m\u001b[38;5;124m'\u001b[39m, \u001b[38;5;28;01mNone\u001b[39;00m))\n\u001b[0;32m    432\u001b[0m     \u001b[38;5;28;01mreturn\u001b[39;00m response\n",
      "File \u001b[1;32m~\\anaconda3\\lib\\site-packages\\selenium\\webdriver\\remote\\errorhandler.py:243\u001b[0m, in \u001b[0;36mErrorHandler.check_response\u001b[1;34m(self, response)\u001b[0m\n\u001b[0;32m    241\u001b[0m         alert_text \u001b[38;5;241m=\u001b[39m value[\u001b[38;5;124m'\u001b[39m\u001b[38;5;124malert\u001b[39m\u001b[38;5;124m'\u001b[39m]\u001b[38;5;241m.\u001b[39mget(\u001b[38;5;124m'\u001b[39m\u001b[38;5;124mtext\u001b[39m\u001b[38;5;124m'\u001b[39m)\n\u001b[0;32m    242\u001b[0m     \u001b[38;5;28;01mraise\u001b[39;00m exception_class(message, screen, stacktrace, alert_text)  \u001b[38;5;66;03m# type: ignore[call-arg]  # mypy is not smart enough here\u001b[39;00m\n\u001b[1;32m--> 243\u001b[0m \u001b[38;5;28;01mraise\u001b[39;00m exception_class(message, screen, stacktrace)\n",
      "\u001b[1;31mNoSuchElementException\u001b[0m: Message: no such element: Unable to locate element: {\"method\":\"css selector\",\"selector\":\".rate_table_bx _table\"}\n  (Session info: chrome=109.0.5414.74)\nStacktrace:\nBacktrace:\n\t(No symbol) [0x00CD6643]\n\t(No symbol) [0x00C6BE21]\n\t(No symbol) [0x00B6DA9D]\n\t(No symbol) [0x00BA1342]\n\t(No symbol) [0x00BA147B]\n\t(No symbol) [0x00BD8DC2]\n\t(No symbol) [0x00BBFDC4]\n\t(No symbol) [0x00BD6B09]\n\t(No symbol) [0x00BBFB76]\n\t(No symbol) [0x00B949C1]\n\t(No symbol) [0x00B95E5D]\n\tGetHandleVerifier [0x00F4A142+2497106]\n\tGetHandleVerifier [0x00F785D3+2686691]\n\tGetHandleVerifier [0x00F7BB9C+2700460]\n\tGetHandleVerifier [0x00D83B10+635936]\n\t(No symbol) [0x00C74A1F]\n\t(No symbol) [0x00C7A418]\n\t(No symbol) [0x00C7A505]\n\t(No symbol) [0x00C8508B]\n\tBaseThreadInitThunk [0x751F00F9+25]\n\tRtlGetAppContainerNamedObjectPath [0x77287BBE+286]\n\tRtlGetAppContainerNamedObjectPath [0x77287B8E+238]\n"
     ]
    }
   ],
   "source": [
    "# 환율 테이블 가져오기\n",
    "\n",
    "browser.find_element(By.CLASS_NAME, 'rate_table_bx _table').text"
   ]
  },
  {
   "cell_type": "markdown",
   "id": "d9df9537",
   "metadata": {},
   "source": [
    "## 3. 구글 뉴스 Crawling (단건) "
   ]
  },
  {
   "cell_type": "code",
   "execution_count": 63,
   "id": "cf37486d",
   "metadata": {},
   "outputs": [],
   "source": [
    "# 컨트롤 할 수 있는 Chrome 을 browser 에 담음\n",
    "\n",
    "browser = webdriver.Chrome()"
   ]
  },
  {
   "cell_type": "code",
   "execution_count": 64,
   "id": "d0d89075",
   "metadata": {},
   "outputs": [],
   "source": [
    "# 자동화 키워드 입력 및 도구- 지난1주 선택된 URL 으로 이동\n",
    "## 만약, 조건으로써 도구 - 지난1주 선택이 안되었다면, 클릭 하는 과정 추가해야 함\n",
    "\n",
    "browser.get('https://www.google.com/search?q=%EC%9E%90%EB%8F%99%ED%99%94&tbm=nws&source=lnt&tbs=qdr:w&sa=X&ved=2ahUKEwi934GWosz8AhUysVYBHUODBZ4QpwV6BAgBEBs&biw=1190&bih=1284&dpr=1')"
   ]
  },
  {
   "cell_type": "code",
   "execution_count": 67,
   "id": "9d85b602",
   "metadata": {},
   "outputs": [
    {
     "data": {
      "text/plain": [
       "'블루프리즘 “커지는 ‘지능형 자동화’ 시장, AI가 이끈다”'"
      ]
     },
     "execution_count": 67,
     "metadata": {},
     "output_type": "execute_result"
    }
   ],
   "source": [
    "browser.find_element(By.XPATH, '//*[@id=\"rso\"]/div/div/div[1]/div/div/a/div/div[2]/div[2]').text"
   ]
  },
  {
   "cell_type": "code",
   "execution_count": 68,
   "id": "6949a3b9",
   "metadata": {},
   "outputs": [
    {
     "data": {
      "text/plain": [
       "'로보틱프로세스자동화(RPA) 기업 SS&C 블루프리즘이 2023년 기업이 주목해야 할 7가지 지능형 자동화 전망을 10일 발표했다. 이번 발표에 따르면 올해 불확실한 경제...'"
      ]
     },
     "execution_count": 68,
     "metadata": {},
     "output_type": "execute_result"
    }
   ],
   "source": [
    "browser.find_element(By.XPATH, '//*[@id=\"rso\"]/div/div/div[1]/div/div/a/div/div[2]/div[3]').text"
   ]
  },
  {
   "cell_type": "code",
   "execution_count": 75,
   "id": "9f24f924",
   "metadata": {},
   "outputs": [
    {
     "data": {
      "text/plain": [
       "'https://digitalchosun.dizzo.com/site/data/html_dir/2023/01/10/2023011080203.html'"
      ]
     },
     "execution_count": 75,
     "metadata": {},
     "output_type": "execute_result"
    }
   ],
   "source": [
    "browser.find_element(By.CLASS_NAME, 'WlydOe').get_attribute('href')"
   ]
  },
  {
   "cell_type": "code",
   "execution_count": null,
   "id": "4448909e",
   "metadata": {},
   "outputs": [],
   "source": []
  }
 ],
 "metadata": {
  "kernelspec": {
   "display_name": "Python 3 (ipykernel)",
   "language": "python",
   "name": "python3"
  },
  "language_info": {
   "codemirror_mode": {
    "name": "ipython",
    "version": 3
   },
   "file_extension": ".py",
   "mimetype": "text/x-python",
   "name": "python",
   "nbconvert_exporter": "python",
   "pygments_lexer": "ipython3",
   "version": "3.9.12"
  }
 },
 "nbformat": 4,
 "nbformat_minor": 5
}
