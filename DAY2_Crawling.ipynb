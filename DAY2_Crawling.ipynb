{
 "cells": [
  {
   "cell_type": "markdown",
   "id": "995849d7",
   "metadata": {},
   "source": [
    "## 1. 네이버 날씨 Crawling"
   ]
  },
  {
   "cell_type": "markdown",
   "id": "b7a2ea12",
   "metadata": {},
   "source": [
    "### 2 가지 방법\n",
    "1) 네이버 홈 -> 키워드 : '날씨' 입력 -> 검색 \\\n",
    "2) 처음부터  날씨URL 로 접근"
   ]
  },
  {
   "cell_type": "code",
   "execution_count": 1,
   "id": "b72a6c47",
   "metadata": {},
   "outputs": [
    {
     "name": "stdout",
     "output_type": "stream",
     "text": [
      "Requirement already satisfied: selenium in c:\\users\\miyoung\\anaconda3\\lib\\site-packages (4.5.0)\n",
      "Requirement already satisfied: trio-websocket~=0.9 in c:\\users\\miyoung\\anaconda3\\lib\\site-packages (from selenium) (0.9.2)\n",
      "Requirement already satisfied: urllib3[socks]~=1.26 in c:\\users\\miyoung\\anaconda3\\lib\\site-packages (from selenium) (1.26.9)\n",
      "Requirement already satisfied: certifi>=2021.10.8 in c:\\users\\miyoung\\anaconda3\\lib\\site-packages (from selenium) (2021.10.8)\n",
      "Requirement already satisfied: trio~=0.17 in c:\\users\\miyoung\\anaconda3\\lib\\site-packages (from selenium) (0.22.0)\n",
      "Requirement already satisfied: sniffio in c:\\users\\miyoung\\anaconda3\\lib\\site-packages (from trio~=0.17->selenium) (1.2.0)\n",
      "Requirement already satisfied: cffi>=1.14 in c:\\users\\miyoung\\anaconda3\\lib\\site-packages (from trio~=0.17->selenium) (1.15.0)\n",
      "Requirement already satisfied: attrs>=19.2.0 in c:\\users\\miyoung\\anaconda3\\lib\\site-packages (from trio~=0.17->selenium) (21.4.0)\n",
      "Requirement already satisfied: async-generator>=1.9 in c:\\users\\miyoung\\anaconda3\\lib\\site-packages (from trio~=0.17->selenium) (1.10)\n",
      "Requirement already satisfied: sortedcontainers in c:\\users\\miyoung\\anaconda3\\lib\\site-packages (from trio~=0.17->selenium) (2.4.0)\n",
      "Requirement already satisfied: outcome in c:\\users\\miyoung\\anaconda3\\lib\\site-packages (from trio~=0.17->selenium) (1.2.0)\n",
      "Requirement already satisfied: exceptiongroup>=1.0.0rc9 in c:\\users\\miyoung\\anaconda3\\lib\\site-packages (from trio~=0.17->selenium) (1.0.0rc9)\n",
      "Requirement already satisfied: idna in c:\\users\\miyoung\\anaconda3\\lib\\site-packages (from trio~=0.17->selenium) (3.3)\n",
      "Requirement already satisfied: pycparser in c:\\users\\miyoung\\anaconda3\\lib\\site-packages (from cffi>=1.14->trio~=0.17->selenium) (2.21)\n",
      "Requirement already satisfied: wsproto>=0.14 in c:\\users\\miyoung\\anaconda3\\lib\\site-packages (from trio-websocket~=0.9->selenium) (1.2.0)\n",
      "Requirement already satisfied: PySocks!=1.5.7,<2.0,>=1.5.6 in c:\\users\\miyoung\\anaconda3\\lib\\site-packages (from urllib3[socks]~=1.26->selenium) (1.7.1)\n",
      "Requirement already satisfied: h11<1,>=0.9.0 in c:\\users\\miyoung\\anaconda3\\lib\\site-packages (from wsproto>=0.14->trio-websocket~=0.9->selenium) (0.14.0)\n",
      "Note: you may need to restart the kernel to use updated packages.\n"
     ]
    }
   ],
   "source": [
    "pip install selenium"
   ]
  },
  {
   "cell_type": "code",
   "execution_count": 2,
   "id": "8e3338f3",
   "metadata": {},
   "outputs": [],
   "source": [
    "from selenium import webdriver"
   ]
  },
  {
   "cell_type": "code",
   "execution_count": 3,
   "id": "0c231dba",
   "metadata": {},
   "outputs": [],
   "source": [
    "# 컨트롤 할 수 있는 Chrome 을 browser 에 담음\n",
    "\n",
    "browser = webdriver.Chrome()"
   ]
  },
  {
   "cell_type": "code",
   "execution_count": 7,
   "id": "14e55fe0",
   "metadata": {},
   "outputs": [],
   "source": [
    "from selenium.webdriver.common.by import By # Selenium 업데이트되면서 필요 "
   ]
  },
  {
   "cell_type": "code",
   "execution_count": 19,
   "id": "07ecd140",
   "metadata": {},
   "outputs": [],
   "source": [
    "# browser 명령어\n",
    "\n",
    "# browser.back() # 뒤로가기\n",
    "# browser.forward() #앞으로 가기\n",
    "# broswer.refresh() #새로고침"
   ]
  },
  {
   "cell_type": "markdown",
   "id": "3514a612",
   "metadata": {},
   "source": [
    "### 방법 1)"
   ]
  },
  {
   "cell_type": "code",
   "execution_count": 4,
   "id": "fa863b49",
   "metadata": {},
   "outputs": [],
   "source": [
    "# 해당 링크로 이동 \n",
    "\n",
    "browser.get(\"http://www.naver.com\")"
   ]
  },
  {
   "cell_type": "markdown",
   "id": "063383dc",
   "metadata": {},
   "source": [
    "### 방법 2)"
   ]
  },
  {
   "cell_type": "code",
   "execution_count": 21,
   "id": "34812716",
   "metadata": {},
   "outputs": [],
   "source": [
    "# 해당 링크로 이동 \n",
    "\n",
    "browser.get(\"https://search.naver.com/search.naver?where=nexearch&sm=top_hty&fbm=1&ie=utf8&query=%EB%82%A0%EC%94%A8\")"
   ]
  },
  {
   "cell_type": "code",
   "execution_count": 8,
   "id": "a1f9af75",
   "metadata": {},
   "outputs": [],
   "source": [
    "# 검색창 클릭\n",
    "\n",
    "browser.find_element(By.ID , 'query').click()"
   ]
  },
  {
   "cell_type": "code",
   "execution_count": 9,
   "id": "4941415b",
   "metadata": {},
   "outputs": [],
   "source": [
    "# 날씨 키워드 입력\n",
    "\n",
    "browser.find_element(By.ID , 'query').send_keys(\"날씨\") "
   ]
  },
  {
   "cell_type": "code",
   "execution_count": 10,
   "id": "840f08d4",
   "metadata": {},
   "outputs": [],
   "source": [
    "# 검색 아이콘 클릭\n",
    "\n",
    "browser.find_element(By.ID , 'search_btn').click()\n",
    "#browser.find_element(By.XPATH, '//*[@id=\"search_btn\"]').click()"
   ]
  },
  {
   "cell_type": "code",
   "execution_count": 11,
   "id": "84544dc1",
   "metadata": {},
   "outputs": [
    {
     "data": {
      "text/plain": [
       "'-1.3'"
      ]
     },
     "execution_count": 11,
     "metadata": {},
     "output_type": "execute_result"
    }
   ],
   "source": [
    "# 온도 데이터(텍스트)값만 가져오기\n",
    "\n",
    "data = browser.find_element(By.CLASS_NAME ,'temperature_text').text\n",
    "data[6:10]"
   ]
  },
  {
   "cell_type": "code",
   "execution_count": 12,
   "id": "b4b481bb",
   "metadata": {},
   "outputs": [
    {
     "data": {
      "text/plain": [
       "'°'"
      ]
     },
     "execution_count": 12,
     "metadata": {},
     "output_type": "execute_result"
    }
   ],
   "source": [
    "# 온도 (') 기호 값만 가져오기 -> find_element 2번 사용\n",
    "\n",
    "browser.find_element(By.XPATH ,'//*[@id=\"main_pack\"]/section[1]/div[1]/div[2]/div[1]/div[1]/div/div[2]/div/div[1]/div[1]/div[2]').find_element(By.CLASS_NAME, 'celsius').text"
   ]
  },
  {
   "cell_type": "markdown",
   "id": "eeec4d9f",
   "metadata": {},
   "source": [
    "## 2. 네이버 환율 Crawling\n",
    "- 입력했던 키워드를 지우고, 새로운 키워드를 입력하고 싶을 경우"
   ]
  },
  {
   "cell_type": "code",
   "execution_count": 13,
   "id": "987d5d6f",
   "metadata": {},
   "outputs": [],
   "source": [
    "# 검색창 클릭\n",
    "\n",
    "browser.find_element(By.ID , 'nx_query').click()"
   ]
  },
  {
   "cell_type": "code",
   "execution_count": 14,
   "id": "8dd731a8",
   "metadata": {},
   "outputs": [],
   "source": [
    "# 입력되어있는 키워드 전체 지우기\n",
    "\n",
    "browser.find_element(By.ID , 'nx_query').clear()"
   ]
  },
  {
   "cell_type": "code",
   "execution_count": 15,
   "id": "57de44f2",
   "metadata": {},
   "outputs": [],
   "source": [
    "# 환율 키워드 입력\n",
    "\n",
    "browser.find_element(By.ID , 'nx_query').send_keys(\"환율\") "
   ]
  },
  {
   "cell_type": "code",
   "execution_count": 16,
   "id": "59fababb",
   "metadata": {},
   "outputs": [],
   "source": [
    "# 검색 아이콘 클릭\n",
    "\n",
    "browser.find_element(By.CLASS_NAME , 'bt_search').click()"
   ]
  },
  {
   "cell_type": "code",
   "execution_count": 17,
   "id": "831f2043",
   "metadata": {},
   "outputs": [
    {
     "data": {
      "text/plain": [
       "'1,239.50'"
      ]
     },
     "execution_count": 17,
     "metadata": {},
     "output_type": "execute_result"
    }
   ],
   "source": [
    "# 환율(텍스트) 가져오기\n",
    "\n",
    "browser.find_element(By.XPATH, '//*[@id=\"_cs_foreigninfo\"]/div[1]/div[2]/div/div[1]/div[1]/div[1]/div[1]/h3/a/span[2]/strong').text"
   ]
  },
  {
   "cell_type": "code",
   "execution_count": 61,
   "id": "6e0a07eb",
   "metadata": {},
   "outputs": [
    {
     "ename": "NoSuchElementException",
     "evalue": "Message: no such element: Unable to locate element: {\"method\":\"css selector\",\"selector\":\".rate_table_bx _table\"}\n  (Session info: chrome=109.0.5414.74)\nStacktrace:\nBacktrace:\n\t(No symbol) [0x00CD6643]\n\t(No symbol) [0x00C6BE21]\n\t(No symbol) [0x00B6DA9D]\n\t(No symbol) [0x00BA1342]\n\t(No symbol) [0x00BA147B]\n\t(No symbol) [0x00BD8DC2]\n\t(No symbol) [0x00BBFDC4]\n\t(No symbol) [0x00BD6B09]\n\t(No symbol) [0x00BBFB76]\n\t(No symbol) [0x00B949C1]\n\t(No symbol) [0x00B95E5D]\n\tGetHandleVerifier [0x00F4A142+2497106]\n\tGetHandleVerifier [0x00F785D3+2686691]\n\tGetHandleVerifier [0x00F7BB9C+2700460]\n\tGetHandleVerifier [0x00D83B10+635936]\n\t(No symbol) [0x00C74A1F]\n\t(No symbol) [0x00C7A418]\n\t(No symbol) [0x00C7A505]\n\t(No symbol) [0x00C8508B]\n\tBaseThreadInitThunk [0x751F00F9+25]\n\tRtlGetAppContainerNamedObjectPath [0x77287BBE+286]\n\tRtlGetAppContainerNamedObjectPath [0x77287B8E+238]\n",
     "output_type": "error",
     "traceback": [
      "\u001b[1;31m---------------------------------------------------------------------------\u001b[0m",
      "\u001b[1;31mNoSuchElementException\u001b[0m                    Traceback (most recent call last)",
      "Input \u001b[1;32mIn [61]\u001b[0m, in \u001b[0;36m<cell line: 1>\u001b[1;34m()\u001b[0m\n\u001b[1;32m----> 1\u001b[0m \u001b[43mbrowser\u001b[49m\u001b[38;5;241;43m.\u001b[39;49m\u001b[43mfind_element\u001b[49m\u001b[43m(\u001b[49m\u001b[43mBy\u001b[49m\u001b[38;5;241;43m.\u001b[39;49m\u001b[43mCLASS_NAME\u001b[49m\u001b[43m,\u001b[49m\u001b[43m \u001b[49m\u001b[38;5;124;43m'\u001b[39;49m\u001b[38;5;124;43mrate_table_bx _table\u001b[39;49m\u001b[38;5;124;43m'\u001b[39;49m\u001b[43m)\u001b[49m\u001b[38;5;241m.\u001b[39mtext\n",
      "File \u001b[1;32m~\\anaconda3\\lib\\site-packages\\selenium\\webdriver\\remote\\webdriver.py:856\u001b[0m, in \u001b[0;36mWebDriver.find_element\u001b[1;34m(self, by, value)\u001b[0m\n\u001b[0;32m    853\u001b[0m     by \u001b[38;5;241m=\u001b[39m By\u001b[38;5;241m.\u001b[39mCSS_SELECTOR\n\u001b[0;32m    854\u001b[0m     value \u001b[38;5;241m=\u001b[39m \u001b[38;5;124m'\u001b[39m\u001b[38;5;124m[name=\u001b[39m\u001b[38;5;124m\"\u001b[39m\u001b[38;5;132;01m%s\u001b[39;00m\u001b[38;5;124m\"\u001b[39m\u001b[38;5;124m]\u001b[39m\u001b[38;5;124m'\u001b[39m \u001b[38;5;241m%\u001b[39m value\n\u001b[1;32m--> 856\u001b[0m \u001b[38;5;28;01mreturn\u001b[39;00m \u001b[38;5;28;43mself\u001b[39;49m\u001b[38;5;241;43m.\u001b[39;49m\u001b[43mexecute\u001b[49m\u001b[43m(\u001b[49m\u001b[43mCommand\u001b[49m\u001b[38;5;241;43m.\u001b[39;49m\u001b[43mFIND_ELEMENT\u001b[49m\u001b[43m,\u001b[49m\u001b[43m \u001b[49m\u001b[43m{\u001b[49m\n\u001b[0;32m    857\u001b[0m \u001b[43m    \u001b[49m\u001b[38;5;124;43m'\u001b[39;49m\u001b[38;5;124;43musing\u001b[39;49m\u001b[38;5;124;43m'\u001b[39;49m\u001b[43m:\u001b[49m\u001b[43m \u001b[49m\u001b[43mby\u001b[49m\u001b[43m,\u001b[49m\n\u001b[0;32m    858\u001b[0m \u001b[43m    \u001b[49m\u001b[38;5;124;43m'\u001b[39;49m\u001b[38;5;124;43mvalue\u001b[39;49m\u001b[38;5;124;43m'\u001b[39;49m\u001b[43m:\u001b[49m\u001b[43m \u001b[49m\u001b[43mvalue\u001b[49m\u001b[43m}\u001b[49m\u001b[43m)\u001b[49m[\u001b[38;5;124m'\u001b[39m\u001b[38;5;124mvalue\u001b[39m\u001b[38;5;124m'\u001b[39m]\n",
      "File \u001b[1;32m~\\anaconda3\\lib\\site-packages\\selenium\\webdriver\\remote\\webdriver.py:429\u001b[0m, in \u001b[0;36mWebDriver.execute\u001b[1;34m(self, driver_command, params)\u001b[0m\n\u001b[0;32m    427\u001b[0m response \u001b[38;5;241m=\u001b[39m \u001b[38;5;28mself\u001b[39m\u001b[38;5;241m.\u001b[39mcommand_executor\u001b[38;5;241m.\u001b[39mexecute(driver_command, params)\n\u001b[0;32m    428\u001b[0m \u001b[38;5;28;01mif\u001b[39;00m response:\n\u001b[1;32m--> 429\u001b[0m     \u001b[38;5;28;43mself\u001b[39;49m\u001b[38;5;241;43m.\u001b[39;49m\u001b[43merror_handler\u001b[49m\u001b[38;5;241;43m.\u001b[39;49m\u001b[43mcheck_response\u001b[49m\u001b[43m(\u001b[49m\u001b[43mresponse\u001b[49m\u001b[43m)\u001b[49m\n\u001b[0;32m    430\u001b[0m     response[\u001b[38;5;124m'\u001b[39m\u001b[38;5;124mvalue\u001b[39m\u001b[38;5;124m'\u001b[39m] \u001b[38;5;241m=\u001b[39m \u001b[38;5;28mself\u001b[39m\u001b[38;5;241m.\u001b[39m_unwrap_value(\n\u001b[0;32m    431\u001b[0m         response\u001b[38;5;241m.\u001b[39mget(\u001b[38;5;124m'\u001b[39m\u001b[38;5;124mvalue\u001b[39m\u001b[38;5;124m'\u001b[39m, \u001b[38;5;28;01mNone\u001b[39;00m))\n\u001b[0;32m    432\u001b[0m     \u001b[38;5;28;01mreturn\u001b[39;00m response\n",
      "File \u001b[1;32m~\\anaconda3\\lib\\site-packages\\selenium\\webdriver\\remote\\errorhandler.py:243\u001b[0m, in \u001b[0;36mErrorHandler.check_response\u001b[1;34m(self, response)\u001b[0m\n\u001b[0;32m    241\u001b[0m         alert_text \u001b[38;5;241m=\u001b[39m value[\u001b[38;5;124m'\u001b[39m\u001b[38;5;124malert\u001b[39m\u001b[38;5;124m'\u001b[39m]\u001b[38;5;241m.\u001b[39mget(\u001b[38;5;124m'\u001b[39m\u001b[38;5;124mtext\u001b[39m\u001b[38;5;124m'\u001b[39m)\n\u001b[0;32m    242\u001b[0m     \u001b[38;5;28;01mraise\u001b[39;00m exception_class(message, screen, stacktrace, alert_text)  \u001b[38;5;66;03m# type: ignore[call-arg]  # mypy is not smart enough here\u001b[39;00m\n\u001b[1;32m--> 243\u001b[0m \u001b[38;5;28;01mraise\u001b[39;00m exception_class(message, screen, stacktrace)\n",
      "\u001b[1;31mNoSuchElementException\u001b[0m: Message: no such element: Unable to locate element: {\"method\":\"css selector\",\"selector\":\".rate_table_bx _table\"}\n  (Session info: chrome=109.0.5414.74)\nStacktrace:\nBacktrace:\n\t(No symbol) [0x00CD6643]\n\t(No symbol) [0x00C6BE21]\n\t(No symbol) [0x00B6DA9D]\n\t(No symbol) [0x00BA1342]\n\t(No symbol) [0x00BA147B]\n\t(No symbol) [0x00BD8DC2]\n\t(No symbol) [0x00BBFDC4]\n\t(No symbol) [0x00BD6B09]\n\t(No symbol) [0x00BBFB76]\n\t(No symbol) [0x00B949C1]\n\t(No symbol) [0x00B95E5D]\n\tGetHandleVerifier [0x00F4A142+2497106]\n\tGetHandleVerifier [0x00F785D3+2686691]\n\tGetHandleVerifier [0x00F7BB9C+2700460]\n\tGetHandleVerifier [0x00D83B10+635936]\n\t(No symbol) [0x00C74A1F]\n\t(No symbol) [0x00C7A418]\n\t(No symbol) [0x00C7A505]\n\t(No symbol) [0x00C8508B]\n\tBaseThreadInitThunk [0x751F00F9+25]\n\tRtlGetAppContainerNamedObjectPath [0x77287BBE+286]\n\tRtlGetAppContainerNamedObjectPath [0x77287B8E+238]\n"
     ]
    }
   ],
   "source": [
    "# 환율 테이블 가져오기\n",
    "\n",
    "browser.find_element(By.CLASS_NAME, 'rate_table_bx _table').text"
   ]
  },
  {
   "cell_type": "markdown",
   "id": "d9df9537",
   "metadata": {},
   "source": [
    "## 3. 구글 뉴스 Crawling\n",
    "### 1) 단건 "
   ]
  },
  {
   "cell_type": "code",
   "execution_count": 8,
   "id": "563dd7c8",
   "metadata": {},
   "outputs": [],
   "source": [
    "from selenium import webdriver"
   ]
  },
  {
   "cell_type": "code",
   "execution_count": 7,
   "id": "0235c7e3",
   "metadata": {},
   "outputs": [],
   "source": [
    "from selenium.webdriver.common.by import By # Selenium 업데이트되면서 필요 "
   ]
  },
  {
   "cell_type": "code",
   "execution_count": 18,
   "id": "cf37486d",
   "metadata": {},
   "outputs": [],
   "source": [
    "# 컨트롤 할 수 있는 Chrome 을 browser 에 담음\n",
    "\n",
    "browser = webdriver.Chrome()"
   ]
  },
  {
   "cell_type": "code",
   "execution_count": 19,
   "id": "d0d89075",
   "metadata": {},
   "outputs": [],
   "source": [
    "# 자동화 키워드 입력 및 도구- 지난1주 선택된 URL 으로 이동\n",
    "## 만약, 조건으로써 도구 - 지난1주 선택이 안되었다면, 클릭 하는 과정 추가해야 함\n",
    "\n",
    "browser.get('https://www.google.com/search?q=%EC%9E%90%EB%8F%99%ED%99%94&tbm=nws&source=lnt&tbs=qdr:w&sa=X&ved=2ahUKEwi934GWosz8AhUysVYBHUODBZ4QpwV6BAgBEBs&biw=1190&bih=1284&dpr=1')"
   ]
  },
  {
   "cell_type": "code",
   "execution_count": 20,
   "id": "9d85b602",
   "metadata": {},
   "outputs": [
    {
     "data": {
      "text/plain": [
       "\"'곳곳서 우여곡절' 기업들이 몸소 배운 자동화의 함정\""
      ]
     },
     "execution_count": 20,
     "metadata": {},
     "output_type": "execute_result"
    }
   ],
   "source": [
    "browser.find_element(By.CLASS_NAME, 'mCBkyc').text"
   ]
  },
  {
   "cell_type": "code",
   "execution_count": 21,
   "id": "6949a3b9",
   "metadata": {},
   "outputs": [
    {
     "data": {
      "text/plain": [
       "'퍼스트 테크는 세일즈포스의 자동화 서비스를 도입하고 종이 양식을 대체하기 위해 로봇 프로세스 자동화를 구현하는 등 여러 방면으로 자동화를 시도했다. 그러나 역부족...'"
      ]
     },
     "execution_count": 21,
     "metadata": {},
     "output_type": "execute_result"
    }
   ],
   "source": [
    "browser.find_element(By.CLASS_NAME, 'GI74Re').text"
   ]
  },
  {
   "cell_type": "code",
   "execution_count": 22,
   "id": "9f24f924",
   "metadata": {},
   "outputs": [
    {
     "data": {
      "text/plain": [
       "'https://www.ciokorea.com/insider/273325'"
      ]
     },
     "execution_count": 22,
     "metadata": {},
     "output_type": "execute_result"
    }
   ],
   "source": [
    "browser.find_element(By.CLASS_NAME, 'WlydOe').get_attribute('href')"
   ]
  },
  {
   "cell_type": "markdown",
   "id": "1784a770",
   "metadata": {},
   "source": [
    "### 2) 여러건"
   ]
  },
  {
   "cell_type": "code",
   "execution_count": 24,
   "id": "7c5796e2",
   "metadata": {},
   "outputs": [
    {
     "data": {
      "text/plain": [
       "[<selenium.webdriver.remote.webelement.WebElement (session=\"dcb75cd48f4ed33abbb2120fe211983b\", element=\"8ffa04cf-64be-4af8-b7ae-1fc03c0ba85b\")>,\n",
       " <selenium.webdriver.remote.webelement.WebElement (session=\"dcb75cd48f4ed33abbb2120fe211983b\", element=\"1b10287d-6650-4b28-8061-6466fb69a018\")>,\n",
       " <selenium.webdriver.remote.webelement.WebElement (session=\"dcb75cd48f4ed33abbb2120fe211983b\", element=\"abbc78b1-277a-444e-b2f4-b33b2b94716d\")>,\n",
       " <selenium.webdriver.remote.webelement.WebElement (session=\"dcb75cd48f4ed33abbb2120fe211983b\", element=\"58180a7b-a684-4eec-a5a5-5f3dc6fd21fa\")>,\n",
       " <selenium.webdriver.remote.webelement.WebElement (session=\"dcb75cd48f4ed33abbb2120fe211983b\", element=\"45daebe4-2e05-4f66-8e33-0af03fa8664c\")>,\n",
       " <selenium.webdriver.remote.webelement.WebElement (session=\"dcb75cd48f4ed33abbb2120fe211983b\", element=\"72fc25c0-7839-4ae2-8bad-9a508e465564\")>,\n",
       " <selenium.webdriver.remote.webelement.WebElement (session=\"dcb75cd48f4ed33abbb2120fe211983b\", element=\"d5dfedae-44fc-4ad0-81d5-0a1b89453d98\")>,\n",
       " <selenium.webdriver.remote.webelement.WebElement (session=\"dcb75cd48f4ed33abbb2120fe211983b\", element=\"48a1b09c-84cc-4a09-9237-860da2c80438\")>,\n",
       " <selenium.webdriver.remote.webelement.WebElement (session=\"dcb75cd48f4ed33abbb2120fe211983b\", element=\"db29fcab-0f26-49b9-bf18-be41e191f451\")>,\n",
       " <selenium.webdriver.remote.webelement.WebElement (session=\"dcb75cd48f4ed33abbb2120fe211983b\", element=\"11b6a9bb-c0b2-4af2-a11f-7b4609878ed5\")>]"
      ]
     },
     "execution_count": 24,
     "metadata": {},
     "output_type": "execute_result"
    }
   ],
   "source": [
    "browser.find_elements(By.CLASS_NAME, 'mCBkyc') # element --> elements"
   ]
  },
  {
   "cell_type": "code",
   "execution_count": 75,
   "id": "c9705a6c",
   "metadata": {},
   "outputs": [
    {
     "data": {
      "text/plain": [
       "[\"'곳곳서 우여곡절' 기업들이 몸소 배운 자동화의 함정\",\n",
       " '온로봇 로봇 자동화 장벽 낮춘 ‘디플로이’ 플랫폼 선보여 - 조선비즈',\n",
       " \"에머슨 오리진머티리얼스 공장에 '탄소 네거티브 소재 플랜트 ...\",\n",
       " '[국토매일] 건설공사 무인-자동화 시공 앞당긴다',\n",
       " '코레일에 칼 빼든 국토부 유지보수 자동화·관제기능 통합',\n",
       " '하이비젼시스템 모빌린트와 AI 자동화 시스템 개발',\n",
       " \"KB캐피탈 중고차 상태 진단 자동화…'KB차차차 LABS' 출범\",\n",
       " '블루프리즘 “커지는 ‘지능형 자동화’ 시장 AI가 이끈다”',\n",
       " \"자율운항선박 기관자동화 실증 성공 '상용화' 눈앞\",\n",
       " \"류재철 LG전자 사장 '공장 자동화로 생산량 늘면 고용 저절로 따라올 것' - 서울경제\"]"
      ]
     },
     "execution_count": 75,
     "metadata": {},
     "output_type": "execute_result"
    }
   ],
   "source": [
    "# 기사 제목 \n",
    "\n",
    "titles = browser.find_elements(By.CLASS_NAME, 'mCBkyc') # 리스트\n",
    "\n",
    "title = [] \n",
    "\n",
    "for i in titles :\n",
    "    # print(i.text)  요소로 만든 후에, 텍스트만 추출\n",
    "    revised_title = i.text\n",
    "    revised_title = revised_title.replace(',' , '')\n",
    "    title.append(revised_title) # list 에 값 추가\n",
    "\n",
    "title"
   ]
  },
  {
   "cell_type": "code",
   "execution_count": 79,
   "id": "41cd01a5",
   "metadata": {},
   "outputs": [
    {
     "data": {
      "text/plain": [
       "['퍼스트 테크는 세일즈포스의 자동화 서비스를 도입하고 종이 양식을 대체하기 위해 로봇 프로세스 자동화를 구현하는 등 여러 방면으로 자동화를 시도했다. 그러나 역부족...',\n",
       " '로봇 자동화의 진입 장벽을 낮춰 모든 제조업체가 협동 로봇 자동화를 쉽게 활용할 수 있도록 하겠다는 게 목표다. 엔리코 크로그 이베르센 온로봇 최고경영자(CEO)는 17일...',\n",
       " '에머슨 마크 불란다 자동화솔루션사업부총괄사장은 “에머슨의 디지털 엔지니어링 전략을 활용해 식물성 플라스틱 같은 혁신적인 개념을 시장에 빠르게 도입하며 저탄소...',\n",
       " '[국토매일=백용태 기자] 머신가이던스 등 건설현장 자동화 기술을 통해 생산성과 시공 정확도가 한층 향상될 전망이다. 국토교통부는 건설기계 자율화 기술 하나인...',\n",
       " '[아시아타임즈=한진리 기자] 정부가 최근 잇따른 철도 안전사고 재발 방지를 위해 유지보수 업무를 자동화·첨단화하고 철도 관제를 중앙으로 통합한다.',\n",
       " '하이비젼시스템은 모빌린트와 협력해 인공지능(AI) 반도체 기반 자동화 시스템을 개발한다고 17일 밝혔다. 모빌린트는 AI 반도체를 개발하는 스타트업이다.',\n",
       " \"KB캐피탈이 중고차 매물의 상태 점검을 자동화한 공간을 선보였습니다. KB캐피탈은 경기도 김포에 위치한 국민차매매단지에 중고차 진단 및 전시 공간 'KB차차차 LABS'...\",\n",
       " '로보틱프로세스자동화(RPA) 기업 SS&C 블루프리즘이 2023년 기업이 주목해야 할 7가지 지능형 자동화 전망을 10일 발표했다. 이번 발표에 따르면 올해 불확실한 경제...',\n",
       " '이번 실증은 기관 자동화시스템 중 고장진단 및 예측 시스템(CMB) 기술로 기술 개발 제품화 실증까지 이룬 첫 번째 성과다. 통합사업단은 인공지능 기반 주요 장비의...',\n",
       " '고용 문제 때문에 공장 자동화 안 할 생각은 1(하나)도 없습니다. 경쟁력을 높여서 일자리를 늘리는 방법을 택해야 합니다.\" 지난 9일(현지 시간) 미국 테네시주 LG...']"
      ]
     },
     "execution_count": 79,
     "metadata": {},
     "output_type": "execute_result"
    }
   ],
   "source": [
    "# 기사 내용\n",
    "\n",
    "contents = browser.find_elements(By.CLASS_NAME, 'GI74Re') # 리스트\n",
    "\n",
    "content = [] \n",
    "\n",
    "for i in contents : \n",
    "   # print(i.text)\n",
    "    revised_content = i.text\n",
    "    revised_content = revised_content.replace(',' , '')\n",
    "    content.append(revised_content)\n",
    "    \n",
    "content"
   ]
  },
  {
   "cell_type": "code",
   "execution_count": 72,
   "id": "52dd5ba4",
   "metadata": {},
   "outputs": [
    {
     "name": "stdout",
     "output_type": "stream",
     "text": [
      "'곳곳서 우여곡절' 기업들이 몸소 배운 자동화의 함정\n"
     ]
    }
   ],
   "source": [
    "# revised_content = revised_content.replace(',' , '')\n",
    "# print(revised_content)"
   ]
  },
  {
   "cell_type": "code",
   "execution_count": 46,
   "id": "7085a4ce",
   "metadata": {},
   "outputs": [
    {
     "data": {
      "text/plain": [
       "['https://www.ciokorea.com/insider/273325',\n",
       " 'https://biz.chosun.com/it-science/ict/2023/01/17/UOHZTAG2H5FNLLPEXUJ56VYR2I/',\n",
       " 'http://www.industrynews.co.kr/news/articleView.html?idxno=48544',\n",
       " 'http://www.pmnews.co.kr/108679',\n",
       " 'https://www.asiatime.co.kr/article/20230117500202',\n",
       " 'https://www.etnews.com/20230117000233',\n",
       " 'https://biz.sbs.co.kr/article/20000098906',\n",
       " 'https://digitalchosun.dizzo.com/site/data/html_dir/2023/01/10/2023011080203.html',\n",
       " 'https://www.hellodd.com/news/articleView.html?idxno=99248',\n",
       " 'https://www.sedaily.com/NewsView/29KHGC23GR']"
      ]
     },
     "execution_count": 46,
     "metadata": {},
     "output_type": "execute_result"
    }
   ],
   "source": [
    "# [기사 링크]\n",
    "\n",
    "links = browser.find_elements(By.CLASS_NAME, 'WlydOe')\n",
    "\n",
    "link  = []\n",
    "\n",
    "for i in links :\n",
    "    # print(i.get_attribute('href')) 여기서는 text 가 아니라 get_attribute\n",
    "    link.append(i.get_attribute('href'))\n",
    "link"
   ]
  },
  {
   "cell_type": "markdown",
   "id": "a3ef1595",
   "metadata": {},
   "source": [
    "file = open('google_news.csv','a', encoding='UTF-8-sig') # 파이썬에서 파일 만들기\n",
    "\n",
    "file.write(\"{}, {}, {} \\n\".format(title[0], content[0], link[0]))\n",
    "file.write(\"{}, {}, {} \\n\".format(title[1], content[1], link[1]))\n",
    "file.write(\"{}, {}, {} \\n\".format(title[2], content[2], link[2]))\n",
    "\n",
    "file.close()"
   ]
  },
  {
   "cell_type": "code",
   "execution_count": null,
   "id": "d36b687f",
   "metadata": {},
   "outputs": [],
   "source": [
    "# for i in range(len(title)) : # 기사 개수는 바꿀 수 있으니까\n",
    "#     print(\"{}, {}, {} \\n\".format(title[i], content[i], link[i]))"
   ]
  },
  {
   "cell_type": "code",
   "execution_count": 80,
   "id": "476136d0",
   "metadata": {},
   "outputs": [],
   "source": [
    "# 기사 제목, 내용, 링크 -> csv 파일로 저장\n",
    "\n",
    "file = open('google_news.csv','w', encoding='UTF-8-sig') # 파이썬에서 파일 만들기\n",
    " # 여기서 a 로 하면 , w로 하면 이전 지우고 , 덮어쓰기\n",
    "    \n",
    "for i in range(len(title)) : # 기사 개수는 바꿀 수 있으니까\n",
    "    file.write(\"{}, {}, {} \\n\".format(title[i], content[i], link[i]))\n",
    "\n",
    "file.close()"
   ]
  },
  {
   "cell_type": "code",
   "execution_count": 64,
   "id": "0e20df5e",
   "metadata": {},
   "outputs": [
    {
     "data": {
      "text/plain": [
       "10"
      ]
     },
     "execution_count": 64,
     "metadata": {},
     "output_type": "execute_result"
    }
   ],
   "source": [
    "len(title) # 기사 개수"
   ]
  },
  {
   "cell_type": "markdown",
   "id": "88378752",
   "metadata": {},
   "source": [
    "두번째 인자 mode\n",
    "- 파일이 열리는 옵션, 모드 \n",
    "- 모드에 따라 읽기 용인지 파일을 생성하고 쓸것인지 등이 정해짐\n",
    "- 'r' : 기본값으로 정해져 있으며 파일을 읽기 위한 옵션 \n",
    "- 'w' : 쓰기모드이며 파일에 내용을 쓸 때 사용하는 옵션\n",
    "       - 이미 파일이 존재하면 커서를 맨 앞으로 돌리면서 뒤에 내용을 다 잘라내기 때문에 내용이 사라질 수 있음,  파일이 존재하지 않는다면 새롭게 파일을 생성\n",
    "- 'a' : 쓰기모드이며 파일에 내용을 쓸 때 사용하는 옵션\n",
    "    - w 옵션과는 달리 이미 파일이 존재하면 그 파일의 끝에 커서가 존재하고, 그 뒤에 이어쓰기가 가능 -> 즉, 파일 내용을 잘라내지 않고 이어서 쓸 수 있음\n",
    "- 'x' : 파일이 없으면 파일을 생성하고 쓰기모드로 열림 *단, 만약 파일이 있으면 에러를 발생\n",
    "\n",
    "- 'b' : 바이너리 모드 입니다.\n",
    "- 't' : 텍스트 모드 입니다. (기본값)\n",
    "\n",
    "[참고]\n",
    "- 두번째 인자는 'r', 'w', 'a', 'x' 와 같이 't'나 'b'를 따로 쓰지 않으면 기본적으로 텍스트 모드인 't'로 열림 \\\n",
    "- 즉, 읽기위해 'r'을 넣는다는것은 'rt'를 넣는것과 동일한 뜻 \\\n",
    "- 만약 파일을 읽기모드인데 바이너리 모드로 열고싶다면 'rb' 로 사용 \n",
    "- 따로 표기 하지않으면 기본적으로 텍스트 모드인 't'로 열림\n",
    "- 오픈한 파일을 닫으려면 파일 닫기 함수인 close()함수를 이용"
   ]
  },
  {
   "cell_type": "code",
   "execution_count": null,
   "id": "a3e19379",
   "metadata": {},
   "outputs": [],
   "source": []
  }
 ],
 "metadata": {
  "kernelspec": {
   "display_name": "Python 3 (ipykernel)",
   "language": "python",
   "name": "python3"
  },
  "language_info": {
   "codemirror_mode": {
    "name": "ipython",
    "version": 3
   },
   "file_extension": ".py",
   "mimetype": "text/x-python",
   "name": "python",
   "nbconvert_exporter": "python",
   "pygments_lexer": "ipython3",
   "version": "3.9.12"
  }
 },
 "nbformat": 4,
 "nbformat_minor": 5
}
