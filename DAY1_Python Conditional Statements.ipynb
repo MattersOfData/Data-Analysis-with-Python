{
 "cells": [
  {
   "cell_type": "markdown",
   "id": "b1d6fa2f",
   "metadata": {},
   "source": [
    "# [파이썬 제어문]"
   ]
  },
  {
   "cell_type": "markdown",
   "id": "f1250be1",
   "metadata": {},
   "source": [
    "## 1. 제어문"
   ]
  },
  {
   "cell_type": "markdown",
   "id": "96bc6c5c",
   "metadata": {},
   "source": [
    "### 1) 조건문\n",
    "- 참이면 실행 / 거짓이면 다음 조건문 실행\n",
    "- 참/ 거짓을 판단함"
   ]
  },
  {
   "cell_type": "code",
   "execution_count": null,
   "id": "70606ee4",
   "metadata": {},
   "outputs": [],
   "source": [
    "if 조건문:\n",
    "\t실행할 코드 ( if 조건문이 참일 때)\n",
    "elif 조건문: else if \n",
    "\t실행할 코드 ( elif 조건문이 참일 때)\n",
    "else: 여기에는 조건 따로 없음\n",
    "\t실행할 코드 (모든 if, elif 조건문이 거짓일 때)(필수 아님)"
   ]
  },
  {
   "cell_type": "code",
   "execution_count": 4,
   "id": "ef7f3b2b",
   "metadata": {},
   "outputs": [
    {
     "name": "stdout",
     "output_type": "stream",
     "text": [
      "1이 5보다 작습니다\n"
     ]
    }
   ],
   "source": [
    "number = 1\n",
    "\n",
    "# if 1 < 5 :\n",
    "# if Ture :\n",
    "\n",
    "if number < 5 :\n",
    "    print(f\"{number}이 5보다 작습니다\")"
   ]
  },
  {
   "cell_type": "code",
   "execution_count": 7,
   "id": "d6897663",
   "metadata": {},
   "outputs": [
    {
     "name": "stdout",
     "output_type": "stream",
     "text": [
      "8\n",
      "입력한 8이 5와 10 사이에 있습니다.\n"
     ]
    }
   ],
   "source": [
    "number = int(input())\n",
    "\n",
    "if number < 5 :  \n",
    "      print(f'입력한 {number}이 5보다 작습니다.')\n",
    "elif 5 < number< 10:\n",
    "      print(f'입력한 {number}이 5와 10 사이에 있습니다.')\n",
    "else:\n",
    "      print(f'입력한 {number}이 10보다 큽니다.')"
   ]
  },
  {
   "cell_type": "code",
   "execution_count": 10,
   "id": "c5368e6b",
   "metadata": {},
   "outputs": [
    {
     "name": "stdout",
     "output_type": "stream",
     "text": [
      "10000\n",
      "10000원 밖에 없으니 걸어가자\n"
     ]
    }
   ],
   "source": [
    "# Quiz 1번\n",
    "\n",
    "money = int(input())\n",
    "\n",
    "if money >=70_000 : \n",
    "    print(f'{money}원 있으니 비행기를 타자')\n",
    "elif money >= 50_000 :\n",
    "    print(f'{money}원 있으니 기차를 타자')\n",
    "elif money >= 30_000 :\n",
    "    print(f'{money}원 있으니 버스를 타자')\n",
    "else : \n",
    "    print(f'{money}원 밖에 없으니 걸어가자')\n"
   ]
  },
  {
   "cell_type": "code",
   "execution_count": 15,
   "id": "87e70659",
   "metadata": {},
   "outputs": [
    {
     "name": "stdout",
     "output_type": "stream",
     "text": [
      "10\n",
      "10kg 이므로 초소형 수화물 입니다\n"
     ]
    }
   ],
   "source": [
    "# Quiz 2번\n",
    "\n",
    "weight = int(input())\n",
    "if weight >= 100 :\n",
    "    print( f'{weight}kg 이므로 대형 수화물 입니다')\n",
    "elif weight >= 80 :\n",
    "    print( f'{weight}kg 이므로 중형 수화물 입니다')\n",
    "elif weight >= 60 :\n",
    "    print( f'{weight}kg 이므로 소형 수화물 입니다')   \n",
    "else :\n",
    "    print( f'{weight}kg 이므로 초소형 수화물 입니다') "
   ]
  },
  {
   "cell_type": "markdown",
   "id": "299c1380",
   "metadata": {},
   "source": [
    "### [비교 연산자] :조건문에 값을 비교할 때 사용\n",
    "\n",
    "- a와 b가 같다 : a == b\n",
    "- a와 b가 같지 않다 : a != b\n",
    "- a가 b보다 작다 : a < b\n",
    "- a가 b보다 작거나 같다 : a <= b\n",
    "- a가 b보다 크다 : a > b\n",
    "- a가 b보다 크거나 같다 : a >= b"
   ]
  },
  {
   "cell_type": "markdown",
   "id": "314067e9",
   "metadata": {},
   "source": [
    "### [and, or 연산자] : 조건이 2개 이상일 떄"
   ]
  },
  {
   "cell_type": "code",
   "execution_count": 40,
   "id": "0d426e8c",
   "metadata": {},
   "outputs": [
    {
     "name": "stdout",
     "output_type": "stream",
     "text": [
      "100000\n",
      "True\n",
      "비행기를 타고 가세요\n"
     ]
    }
   ],
   "source": [
    "money = int(input())\n",
    "airplain = input() # 여기서 input 사용하려면 true, false 를 str 으로 생각해야함 !\n",
    "\n",
    "if money >= 100_000 and airplain == 'True' :\n",
    "    print('비행기를 타고 가세요')\n",
    "elif money < 100_000 or airplain == 'False' :\n",
    "    print('기차를 타고 가세요')       \n",
    "else :\n",
    "     print('기차를 타고 가세요')    "
   ]
  },
  {
   "cell_type": "code",
   "execution_count": 52,
   "id": "6633c6fd",
   "metadata": {},
   "outputs": [
    {
     "name": "stdout",
     "output_type": "stream",
     "text": [
      "비행기를 타고 가세요\n"
     ]
    }
   ],
   "source": [
    "money = 100_000\n",
    "airplain == 'True'\n",
    "\n",
    "if money >= 100_000 and airplain == 'True' :\n",
    "    print('비행기를 타고 가세요')\n",
    "elif money < 100_000 or airplain == 'False' :\n",
    "    print('기차를 타고 가세요')            "
   ]
  },
  {
   "cell_type": "markdown",
   "id": "9375413a",
   "metadata": {},
   "source": [
    "## 2. 반복문 (for)\n",
    "- 반복되는 행위를 할 때 사용"
   ]
  },
  {
   "cell_type": "code",
   "execution_count": 61,
   "id": "0c280a02",
   "metadata": {},
   "outputs": [
    {
     "name": "stdout",
     "output_type": "stream",
     "text": [
      "1\n",
      "2\n",
      "3\n",
      "4\n",
      "5\n"
     ]
    }
   ],
   "source": [
    "# hello world 를 1000번 치려면 ?\n",
    "\n",
    "for i in range(1000): # i = 변수, range = 반복 횟수\n",
    "    print('hello world')"
   ]
  },
  {
   "cell_type": "code",
   "execution_count": 62,
   "id": "28905d0b",
   "metadata": {},
   "outputs": [
    {
     "name": "stdout",
     "output_type": "stream",
     "text": [
      "1\n",
      "2\n",
      "3\n",
      "4\n",
      "5\n"
     ]
    }
   ],
   "source": [
    "for i in [1,2,3,4,5]: # i = 변수, range = 반복 횟수\n",
    "    print(i)"
   ]
  },
  {
   "cell_type": "code",
   "execution_count": 60,
   "id": "48c91aae",
   "metadata": {},
   "outputs": [
    {
     "name": "stdout",
     "output_type": "stream",
     "text": [
      "range(0, 10)\n"
     ]
    }
   ],
   "source": [
    "print(range(10)) #  0< = i <10 : 0 ~ 9"
   ]
  },
  {
   "cell_type": "code",
   "execution_count": 63,
   "id": "94ec8e83",
   "metadata": {},
   "outputs": [
    {
     "name": "stdout",
     "output_type": "stream",
     "text": [
      "kor\n",
      "usa\n",
      "china\n"
     ]
    }
   ],
   "source": [
    "countries = [\"kor\", \"usa\", \"china\"]  # 리스트, in 범위\n",
    "\n",
    "for country in countries:\n",
    "    print(country) # 리스트 안에 있는 값들 하나씩 추출하여 변수로 사용"
   ]
  },
  {
   "cell_type": "code",
   "execution_count": 64,
   "id": "1c90e8a4",
   "metadata": {},
   "outputs": [
    {
     "name": "stdout",
     "output_type": "stream",
     "text": [
      "c\n",
      "o\n",
      "u\n",
      "n\n",
      "t\n",
      "r\n",
      "i\n",
      "e\n",
      "s\n"
     ]
    }
   ],
   "source": [
    "for country in \"countries\" :\n",
    "        print(country) #countries 가 문자열로 인식이되어서, 각 알파벳이 출력"
   ]
  },
  {
   "cell_type": "code",
   "execution_count": 70,
   "id": "1184043f",
   "metadata": {},
   "outputs": [
    {
     "name": "stdout",
     "output_type": "stream",
     "text": [
      "영어로 분석해주세요\n",
      "한글로 분석해주세요\n",
      "중국어로 분석해주세요\n"
     ]
    }
   ],
   "source": [
    "countries = ['kor', 'usa', 'china']\n",
    "# countries = ['usa', 'kor', 'china']\n",
    "\n",
    "for country in countries:\n",
    "    if country == \"kor\" :\n",
    "        print(\"한글로 분석해주세요\")\n",
    "    elif country == \"usa\" :\n",
    "        print(\"영어로 분석해주세요\")\n",
    "    elif country == \"china\" :\n",
    "        print(\"중국어로 분석해주세요\")"
   ]
  },
  {
   "cell_type": "markdown",
   "id": "08bf50f5",
   "metadata": {},
   "source": [
    "## 3.반복문 (while)\n",
    "- for문과 같이 반복되는 조건에 사용\n",
    "- 무한 반복이 필요할때 → 새로고침\n",
    "- True/False 둘 중 값 하나로 표시됨"
   ]
  },
  {
   "cell_type": "code",
   "execution_count": 71,
   "id": "98728c06",
   "metadata": {},
   "outputs": [
    {
     "name": "stdout",
     "output_type": "stream",
     "text": [
      "1\n",
      "2\n",
      "3\n",
      "4\n",
      "5\n"
     ]
    }
   ],
   "source": [
    "a = 0\n",
    "while a <5 : # 0<5 True -> 무한 반복됨\n",
    "    a += 1 # 위 조건을 넣으면 a가 5 미만일떄까지만 반복됨\n",
    "    print(a)"
   ]
  },
  {
   "cell_type": "code",
   "execution_count": 96,
   "id": "9b2b99ee",
   "metadata": {},
   "outputs": [
    {
     "name": "stdout",
     "output_type": "stream",
     "text": [
      "1\n",
      "3\n",
      "6\n",
      "10\n",
      "15\n"
     ]
    }
   ],
   "source": [
    "# Quiz :1부터 5까지 더하는 프로그램 만들기\n",
    "\n",
    "# 1) for\n",
    "\n",
    "\n",
    "## 1-1) 1부터 5까지 숫자 나타내기(a = 1+2+3+4+5)\n",
    "\n",
    "#for i in range(1,6) :\n",
    "#    print(i)\n",
    "    \n",
    "## 1-2) 1부터 5까지의 숫자가 더해질 결과를 담을 변수 정의 (result)\n",
    "\n",
    "#result = 0 # 초기값\n",
    "#result = result + i  -> 변수 + 내가 더해주고 싶은 숫자 !\n",
    "\n",
    "# 1 = 0 + 1\n",
    "# 3 = 1 + 2\n",
    "# 6 = 3 + 3\n",
    "# 10 = 6 + 4\n",
    "# 15 = 10 + 5\n",
    "\n",
    "# 1-3) 최종 결과\n",
    "\n",
    "result = 0 # 초기값\n",
    "for i in range(1,6) :\n",
    "    result = result + i # result += i \n",
    "    print(result) # 여기에 쓰면 결과값 계속 나옴(1,3,10,15)\n",
    "print(a) # 여기에 쓰면 마지막 값이 나옴(15)"
   ]
  },
  {
   "cell_type": "code",
   "execution_count": 100,
   "id": "0d8c287f",
   "metadata": {},
   "outputs": [
    {
     "name": "stdout",
     "output_type": "stream",
     "text": [
      "1\n",
      "3\n",
      "6\n",
      "10\n",
      "15\n"
     ]
    }
   ],
   "source": [
    "# 2) while\n",
    "\n",
    "result = 0\n",
    "i = 1\n",
    "while i < 6 :\n",
    "    result += i\n",
    "    i += 1\n",
    "    print(result)"
   ]
  },
  {
   "cell_type": "markdown",
   "id": "a6a9d5fe",
   "metadata": {},
   "source": [
    "## 4. 제어문 (continue, break)\n",
    "- 반복되는 문장에서 건너뛰고 싶거나(continue)\n",
    "- 반복을 멈추고 싶을 때(break) 사용"
   ]
  },
  {
   "cell_type": "code",
   "execution_count": 111,
   "id": "c0fd6589",
   "metadata": {},
   "outputs": [
    {
     "name": "stdout",
     "output_type": "stream",
     "text": [
      "0\n",
      "1\n",
      "2\n",
      "6\n",
      "7\n",
      "8\n",
      "9\n"
     ]
    }
   ],
   "source": [
    "# countinue(반복문 멈추고, 처음코드로 다시 돌아감)\n",
    "\n",
    "for i in range(10) : # 0~9 까지의 숫자\n",
    "    if 3<= i <= 5 :\n",
    "        continue # 반복문의 처음 코드로 돌아감\n",
    "    print(i) "
   ]
  },
  {
   "cell_type": "code",
   "execution_count": 112,
   "id": "f1e13db0",
   "metadata": {},
   "outputs": [
    {
     "name": "stdout",
     "output_type": "stream",
     "text": [
      "0\n",
      "1\n",
      "2\n"
     ]
    }
   ],
   "source": [
    "# break (반복문 멈춤)\n",
    "\n",
    "for i in range(10) : # 0~9 까지의 숫자\n",
    "    if 3<= i <= 5 :\n",
    "        break # 반복문을 멈춤\n",
    "    print(i) "
   ]
  }
 ],
 "metadata": {
  "kernelspec": {
   "display_name": "Python 3 (ipykernel)",
   "language": "python",
   "name": "python3"
  },
  "language_info": {
   "codemirror_mode": {
    "name": "ipython",
    "version": 3
   },
   "file_extension": ".py",
   "mimetype": "text/x-python",
   "name": "python",
   "nbconvert_exporter": "python",
   "pygments_lexer": "ipython3",
   "version": "3.9.12"
  }
 },
 "nbformat": 4,
 "nbformat_minor": 5
}
