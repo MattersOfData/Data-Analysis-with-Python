{
 "cells": [
  {
   "cell_type": "markdown",
   "id": "62176867",
   "metadata": {},
   "source": [
    "# Numpy\n",
    "- 파이썬에서 수학적 계산을 쉽게 할 수 있도록 도와주는 라이브러리\n",
    "- 파이썬에서 행렬관련 계산을 빠르게 해주는 패키지\n",
    "- ndarray: 행렬이라고 생각 -> nd = n차원을 의미 (n dimensional)\n",
    "- 주로 Tensorflow 나 pytorch, keras 등의 머신러닝 프레임워크에서 ndarray를 사용"
   ]
  },
  {
   "cell_type": "markdown",
   "id": "a948ae77",
   "metadata": {},
   "source": [
    "## 1. Numpy 배열(Array) 생성하기"
   ]
  },
  {
   "cell_type": "markdown",
   "id": "82e94613",
   "metadata": {},
   "source": [
    "### np.array() : 입력받은 파이썬 리스트를 ndarray 형태로 변형\n",
    "- 대괄호 n개수 = n차원\n",
    "    - 대괄호가 추가될수록 차원도 추가 !!\n",
    "- U(Uni-code) n (Data-size)"
   ]
  },
  {
   "cell_type": "code",
   "execution_count": 1,
   "id": "3be6b26d",
   "metadata": {},
   "outputs": [],
   "source": [
    "# 모듈 불러오기\n",
    "\n",
    "import numpy as np"
   ]
  },
  {
   "cell_type": "code",
   "execution_count": 3,
   "id": "5dd8d1d9",
   "metadata": {},
   "outputs": [],
   "source": [
    "# 1차원 배열 생성\n",
    "\n",
    "array = np.array([\"A\",\"B\",\"C\",\"D\",\"E\"]) # 벡터, 1차원 행렬\n",
    "\n"
   ]
  },
  {
   "cell_type": "code",
   "execution_count": 4,
   "id": "e35bb7ea",
   "metadata": {},
   "outputs": [
    {
     "name": "stdout",
     "output_type": "stream",
     "text": [
      "(5,)\n"
     ]
    }
   ],
   "source": [
    "print(array.shape) # array 안에 있는 요소들의 개수"
   ]
  },
  {
   "cell_type": "code",
   "execution_count": 6,
   "id": "ecb8ae27",
   "metadata": {},
   "outputs": [
    {
     "name": "stdout",
     "output_type": "stream",
     "text": [
      "(5,)\n",
      "1\n",
      "<U1\n"
     ]
    }
   ],
   "source": [
    "print(array.shape) # array 안에 있는 요소들의 개수\n",
    "print(array.ndim) # array의 차원\n",
    "print(array.dtype) # array의 데이터 타입 확인"
   ]
  },
  {
   "cell_type": "code",
   "execution_count": 7,
   "id": "654faf8c",
   "metadata": {},
   "outputs": [
    {
     "data": {
      "text/plain": [
       "array([['A', 'B', 'C'],\n",
       "       ['D', 'E', 'F']], dtype='<U1')"
      ]
     },
     "execution_count": 7,
     "metadata": {},
     "output_type": "execute_result"
    }
   ],
   "source": [
    "#2차원 배열 생성\n",
    "\n",
    "array2 = np.array([[\"A\",\"B\",\"C\"] , [\"D\",\"E\",\"F\"]])\n",
    "array2"
   ]
  },
  {
   "cell_type": "code",
   "execution_count": 8,
   "id": "e18f7a0d",
   "metadata": {
    "scrolled": true
   },
   "outputs": [
    {
     "name": "stdout",
     "output_type": "stream",
     "text": [
      "(2, 3)\n",
      "2\n",
      "<U1\n"
     ]
    }
   ],
   "source": [
    "print(array2.shape)\n",
    "print(array2.ndim)\n",
    "print(array2.dtype)"
   ]
  },
  {
   "cell_type": "code",
   "execution_count": 17,
   "id": "2ac8fc69",
   "metadata": {},
   "outputs": [
    {
     "data": {
      "text/plain": [
       "array([[['A', 'B', 'C'],\n",
       "        ['D', 'E', 'F']],\n",
       "\n",
       "       [['A', 'B', 'C'],\n",
       "        ['D', 'E', 'F']]], dtype='<U1')"
      ]
     },
     "execution_count": 17,
     "metadata": {},
     "output_type": "execute_result"
    }
   ],
   "source": [
    "# 3차원 배열 생성\n",
    "\n",
    "array3 = np.array(\n",
    "[\n",
    "    [[\"A\",\"B\",\"C\"], [\"D\",\"E\",\"F\"]],\n",
    "    [[\"A\",\"B\",\"C\"], [\"D\",\"E\",\"F\"]],\n",
    "])\n",
    "\n",
    "array3"
   ]
  },
  {
   "cell_type": "code",
   "execution_count": 16,
   "id": "8de6c61c",
   "metadata": {},
   "outputs": [
    {
     "name": "stdout",
     "output_type": "stream",
     "text": [
      "(2, 2, 3)\n",
      "3\n",
      "<U1\n"
     ]
    }
   ],
   "source": [
    "print(array3.shape) #2 by 2 by 3 \n",
    "print(array3.ndim)\n",
    "print(array3.dtype)"
   ]
  },
  {
   "cell_type": "markdown",
   "id": "eb456267",
   "metadata": {},
   "source": [
    "## 2. Numpy 형상 관련 함수"
   ]
  },
  {
   "cell_type": "markdown",
   "id": "c8a5c3c9",
   "metadata": {},
   "source": [
    "- astype() - ndarray 타입변환\n",
    "    - astype : 내가 원하는 타입으로 변환\n",
    "    - astype() -> ndarray의 타입을 변경 (int -> str, str -> int)"
   ]
  },
  {
   "cell_type": "code",
   "execution_count": 19,
   "id": "9e3b642d",
   "metadata": {},
   "outputs": [
    {
     "name": "stdout",
     "output_type": "stream",
     "text": [
      "int32\n",
      "float64\n"
     ]
    }
   ],
   "source": [
    "# array4 = np.array([\"1\",\"2\",\"3\",\"4\",\"5\"]) 문자\n",
    "array4 = np.array([1,2,3,4,5])\n",
    "print(array4.dtype)\n",
    "\n",
    "array4 = array4.astype(np.float64)\n",
    "print(array4.dtype)"
   ]
  },
  {
   "cell_type": "markdown",
   "id": "666f8e9a",
   "metadata": {},
   "source": [
    "## 3.Numpy 인덱싱 & 슬라이싱"
   ]
  },
  {
   "cell_type": "code",
   "execution_count": 21,
   "id": "b2d654e1",
   "metadata": {},
   "outputs": [
    {
     "name": "stdout",
     "output_type": "stream",
     "text": [
      "[1 2 3 4 5 6 7 8 9]\n",
      "6\n",
      "9\n",
      "[1 2 3 4]\n",
      "[1 2 3 4 5 6 7 8 9]\n",
      "[False False False False False False False  True  True]\n",
      "[8 9]\n",
      "[1 2 3 4 5 6 7]\n"
     ]
    }
   ],
   "source": [
    "#1차원 인덱싱\n",
    "\n",
    "arr = np.arange(1,10) # 나중에 np.arrange(excel)\n",
    "\n",
    "print(arr) # 전체 데이터 가져오기\n",
    "print(arr[5]) # 6번째 데이터 가져오기\n",
    "print(arr[-1]) # 맨 끝데이터 가져오기\n",
    "print(arr[0:4]) #0~ 3번쨰 데이터 가져오기\n",
    "print(arr[:]) # 전체 데이터 가져오기\n",
    "print(arr > 7) # 7 초과한 숫자 T/F 로 표현\n",
    "print(arr[arr>7]) # 7 초과한 숫자 표현\n",
    "print(arr[~(arr>7)]) # 7 초과한 안된 숫자 표현\n"
   ]
  },
  {
   "cell_type": "code",
   "execution_count": 22,
   "id": "2b2ae358",
   "metadata": {},
   "outputs": [
    {
     "name": "stdout",
     "output_type": "stream",
     "text": [
      "[False False False False False False  True  True  True]\n",
      "[7 8 9]\n"
     ]
    }
   ],
   "source": [
    "print(arr > 6)\n",
    "# 5보다 큰 데이터가 뭔지 알려줌 (true, false)\n",
    "print(arr[arr>6])\n",
    "#true 인것만 담아주기"
   ]
  },
  {
   "cell_type": "markdown",
   "id": "97241be0",
   "metadata": {},
   "source": [
    "## 4.Numpy 연산 \n",
    "- 배열 연산 필요성 -> 새로운 컬럼 추가해서 신규 데이터 생성 가능"
   ]
  },
  {
   "cell_type": "code",
   "execution_count": 24,
   "id": "192d6740",
   "metadata": {},
   "outputs": [],
   "source": [
    "#배열 연산\n",
    "\n",
    "arr1 = np.array([[1,2,], [3,4]])\n",
    "arr2 = np.array([[5,6,], [7,8]])"
   ]
  },
  {
   "cell_type": "code",
   "execution_count": null,
   "id": "254abec4",
   "metadata": {},
   "outputs": [],
   "source": [
    "#더하기\n",
    "\n",
    "add = np.add(arr1,arr2)\n",
    "print(add)\n",
    "print(arr1+arr2)\n"
   ]
  },
  {
   "cell_type": "code",
   "execution_count": null,
   "id": "c91a91e3",
   "metadata": {},
   "outputs": [],
   "source": [
    "#곱하기\n",
    "\n",
    "multiply = np.multiply(arr1,arr2)\n",
    "print(multiply)\n",
    "print(arr1*arr2)"
   ]
  },
  {
   "cell_type": "code",
   "execution_count": null,
   "id": "c347e237",
   "metadata": {},
   "outputs": [],
   "source": [
    "#최대값\n",
    "\n",
    "np.max(arr1)\n",
    "np.max(arr2)"
   ]
  },
  {
   "cell_type": "code",
   "execution_count": 40,
   "id": "ea830c87",
   "metadata": {},
   "outputs": [
    {
     "data": {
      "text/plain": [
       "3"
      ]
     },
     "execution_count": 40,
     "metadata": {},
     "output_type": "execute_result"
    }
   ],
   "source": [
    "#최대값의 인덱스\n",
    "\n",
    "np.argmax(arr1) # arr1에서 최대값은 4이고, 3번쨰 값\n",
    "np.argmax(arr2) # arr2 에서 최대값은 8이고, 3번쨰 값"
   ]
  },
  {
   "cell_type": "code",
   "execution_count": 42,
   "id": "755f0cec",
   "metadata": {},
   "outputs": [
    {
     "data": {
      "text/plain": [
       "5"
      ]
     },
     "execution_count": 42,
     "metadata": {},
     "output_type": "execute_result"
    }
   ],
   "source": [
    "#최소값\n",
    "\n",
    "np.min(arr1)\n",
    "np.min(arr2)"
   ]
  },
  {
   "cell_type": "code",
   "execution_count": 41,
   "id": "dfef34d8",
   "metadata": {},
   "outputs": [
    {
     "data": {
      "text/plain": [
       "0"
      ]
     },
     "execution_count": 41,
     "metadata": {},
     "output_type": "execute_result"
    }
   ],
   "source": [
    "# 최소값의 인덱스\n",
    "\n",
    "np.argmin(arr1) # arr1에서 최소값은 1이고, 0번쨰 값\n",
    "np.argmin(arr2)  # arr2에서 최소값은 5이고, 0번쨰 값"
   ]
  },
  {
   "cell_type": "code",
   "execution_count": 43,
   "id": "7deb90ee",
   "metadata": {},
   "outputs": [
    {
     "data": {
      "text/plain": [
       "array([[19, 22],\n",
       "       [43, 50]])"
      ]
     },
     "execution_count": 43,
     "metadata": {},
     "output_type": "execute_result"
    }
   ],
   "source": [
    "#행렬의 내적\n",
    "\n",
    "arr1.dot(arr2)"
   ]
  }
 ],
 "metadata": {
  "kernelspec": {
   "display_name": "Python 3 (ipykernel)",
   "language": "python",
   "name": "python3"
  },
  "language_info": {
   "codemirror_mode": {
    "name": "ipython",
    "version": 3
   },
   "file_extension": ".py",
   "mimetype": "text/x-python",
   "name": "python",
   "nbconvert_exporter": "python",
   "pygments_lexer": "ipython3",
   "version": "3.9.12"
  }
 },
 "nbformat": 4,
 "nbformat_minor": 5
}
