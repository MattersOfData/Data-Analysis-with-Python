{
 "cells": [
  {
   "cell_type": "markdown",
   "id": "c0ab3a5d",
   "metadata": {},
   "source": [
    "## 1. DBPIA 논문 데이터 크롤링\n",
    "- 목적 : 기본 페이지 정보 + 상세 페이지로 접근을 해서 데이터를 가져오기"
   ]
  },
  {
   "cell_type": "code",
   "execution_count": 1,
   "id": "9fea2ce3",
   "metadata": {},
   "outputs": [],
   "source": [
    "from selenium import webdriver\n",
    "from selenium.webdriver.common.by import By\n",
    "import time"
   ]
  },
  {
   "cell_type": "code",
   "execution_count": 47,
   "id": "ecb344c2",
   "metadata": {},
   "outputs": [],
   "source": [
    "browser= webdriver.Chrome()"
   ]
  },
  {
   "cell_type": "code",
   "execution_count": 48,
   "id": "f7a2d931",
   "metadata": {},
   "outputs": [
    {
     "name": "stdout",
     "output_type": "stream",
     "text": [
      "검색하시고자 하는 논문의 제목을 입력해주세요.인공지능\n",
      "https://www.dbpia.co.kr/search/topSearch?searchOption=all&query=인공지능\n"
     ]
    }
   ],
   "source": [
    "# 1) 찾고자 하는 검색어 입력\n",
    "\n",
    "search_word = input(\"검색하시고자 하는 논문의 제목을 입력해주세요.\")\n",
    "\n",
    "url = 'https://www.dbpia.co.kr/search/topSearch?searchOption=all&query={}'\n",
    "final_url = url.format(search_word)\n",
    "print(final_url)\n",
    "\n",
    "browser.get(final_url)\n",
    "browser.implicitly_wait(5)"
   ]
  },
  {
   "cell_type": "code",
   "execution_count": 49,
   "id": "b6dee88e",
   "metadata": {},
   "outputs": [],
   "source": [
    "# 2) 각 페이지 링크 찾아서 클릭\n",
    "\n",
    "for i in range(1,3) :\n",
    "    XPATH = '//*[@id=\"pageList\"]/a[{}]' # ''안에 있으니까, {}안에도 문자, i가 문자\n",
    "    XPATH = XPATH.format(str(i)) #  i를 string 으로 변환\n",
    "    \n",
    "    browser.find_element(By.XPATH, XPATH).click()\n",
    "    #print(XPATH)\n",
    "    time.sleep(5)"
   ]
  },
  {
   "cell_type": "code",
   "execution_count": null,
   "id": "8e68b8df",
   "metadata": {},
   "outputs": [],
   "source": [
    "### 페이지 규칙찾기\n",
    "\n",
    "[@id=\"pageList\"]/a[1] # 1페이지\n",
    "[@id=\"pageList\"]/a[2] # 2페이지\n",
    "[@id=\"pageList\"]/a[3] # 3페이지\n",
    "\n",
    "[@id=\"pageList\"]/a[1] # 11페이지 (1페이지와 같이 구성됨)\n",
    "\n",
    "for i range(10): \n",
    "    \n",
    "    browser.find_element(By.ID, 'goNextPage').click() # 10페이지까지 클릭 후 > 다음버튼 클릭"
   ]
  },
  {
   "cell_type": "code",
   "execution_count": null,
   "id": "48acc9e1",
   "metadata": {},
   "outputs": [],
   "source": [
    "# 3) 상세페이지 이동(비추천)\n",
    "\n",
    "links = browser.find_elements(By.CLASS_NAME, 'thesis__link')\n",
    "\n",
    "content_list = []\n",
    "\n",
    "for link in links :\n",
    "    link = browser.find_element(By.CLASS_NAME, 'thesis__link').get_attribute('href')\n",
    "    \n",
    "     \n",
    "# 4) 세부 페이지 접근 & 데이터 가져오기\n",
    "\n",
    "    browser.get(link) # 세부 페이지 접근\n",
    "    time.sleep(3) # 로딩 시간\n",
    "    \n",
    "    try :\n",
    "        content = browser.find_element(By.CLASS_NAME, 'abstractTxt').text  \n",
    "    except:\n",
    "        content = 'none' # 초록,키워드에 내용이 없는 경우\n",
    "        \n",
    "    content_list.append(content)\n",
    "    browser.back() # 뒤로가기\n",
    "\n",
    "print(content_list)"
   ]
  },
  {
   "cell_type": "code",
   "execution_count": 50,
   "id": "916b6341",
   "metadata": {},
   "outputs": [
    {
     "name": "stdout",
     "output_type": "stream",
     "text": [
      "['https://www.dbpia.co.kr/journal/articleDetail?nodeId=NODE11193927', 'https://www.dbpia.co.kr/journal/articleDetail?nodeId=NODE11193925', 'https://www.dbpia.co.kr/journal/articleDetail?nodeId=NODE11169216', 'https://www.dbpia.co.kr/journal/articleDetail?nodeId=NODE11171767', 'https://www.dbpia.co.kr/journal/articleDetail?nodeId=NODE11180230', 'https://www.dbpia.co.kr/journal/articleDetail?nodeId=NODE11192869', 'https://www.dbpia.co.kr/journal/articleDetail?nodeId=NODE11169214', 'https://www.dbpia.co.kr/journal/articleDetail?nodeId=NODE11169215', 'https://www.dbpia.co.kr/journal/articleDetail?nodeId=NODE11169218', 'https://www.dbpia.co.kr/journal/articleDetail?nodeId=NODE11169268', 'https://www.dbpia.co.kr/journal/articleDetail?nodeId=NODE11183871', 'https://www.dbpia.co.kr/journal/articleDetail?nodeId=NODE11169217', 'https://www.dbpia.co.kr/journal/articleDetail?nodeId=NODE11167173', 'https://www.dbpia.co.kr/journal/articleDetail?nodeId=NODE11166367', 'https://www.dbpia.co.kr/journal/articleDetail?nodeId=NODE11183811', 'https://www.dbpia.co.kr/journal/articleDetail?nodeId=NODE11183888', 'https://www.dbpia.co.kr/journal/articleDetail?nodeId=NODE11183757', 'https://www.dbpia.co.kr/journal/articleDetail?nodeId=NODE11183891', 'https://www.dbpia.co.kr/journal/articleDetail?nodeId=NODE11183758', 'https://www.dbpia.co.kr/journal/articleDetail?nodeId=NODE11183706']\n",
      "['none', 'none', '최근 인공지능(AI) 기술의 발달과 인공지능 기술 기반 제품과 서비스 제공이 급속히 증가함에 따라 기업뿐만 아니라 개인의 주요 정보에 노출은 불가피한 상황이 되고 있다. 이로 인하여 인공지능을 활용한 공격 기법이 증가하여 점차 사이버보안에 가장 큰 위협으로 인공지능이 지목되고 있다. 이에 본고에서는 인공지능이 제품이나 서비스로 구현되기까지의 전체 단계에 해당하는 데이터 구축, 학습, 테스트 및 상용화 단계에서 발생할 수 있는 인공지능 보안 공격 기술 동향에 대하여 알아보고 이러한 인공지능 기술을 활용한 다양한 사이버 위협 동향에 대해 살펴보며 현시점에서의 인공지능 기반 사이버 위협 대응 방안에 대해 제시해본다.', '인공지능이 발전하면서 인적자원관리 분야에서 채용을 위해 인공지능을 활용한 면접이 적극적으로 시도되고 있다. 인공채용 면접이 부작용 없이 잘 정착되고 활용되기 위해서는 구직자들이 이러한 방식의 면접을 수용하는 것이 가장 큰 관건이다. 본 연구는 기술수용에 관한 이론들과 개인특성에 관한 이론들에 기초해서 구직자들이 인공지능 면접을 수용하려는 의도에 미치는 영향요인을 검증하는 것을 목적으로 한다. 이를 위해 기술수용 이론에서 주로 논의된 성과기대, 목표기대, 사회적 영향, 그리고 개인특성과 관련된 경험에 대한 개방성과 개인 혁신성이라는 5개의 변수가 인공지능 면접을 수용하는 의도에 영향을 미칠 것이라는 가설을 설정하고 이를 검증하였다. 분석결과에 따르면 성과기대, 목표기대, 사회적 영향은 수용의도에 중요한 영향을 미치는 반면 경험에 대한 개방성과 개인 혁신성은 의미있는 영향을 미치지 못하는 것으로 나타났다. 이러한 결과에 기초해서 이론적 시사점과 향후 연구의 방향이 제시되었다.\\n\\nWith the acceleration of the digital transformation, artificial intelligence based interview has gaining ground in the business world. It is, however, important that this new method have to be accepted by the job seekers. This study aims to empirically examine the effect of variables supposed to exert an influence on the intention of its acceptance. We made three hypotheses about the influence of performance expectancy, effort expectancy, social influence based on the theories of the technology use, and two hypotheses about the influence of the openness to the experience and personal innovativeness based on the theories of personality and personal traits. The results show that former three variables are significantly related to the intention of the acceptance of the artificial intelligence interview, while latter two variables are not. Based on the these results, discussions about their implications and directions for the future studies are proposed.', 'none', 'This paper presents an AI-based rotating machinery failure diagnosis method, using multiple sensors. Today, industrial sites are showing great interest in applying condition monitoring system because it can minimize the losses due to non-operation of the equipment and also by monitoring the equipment, immediate responses to possible unexpected situations can be carried out. The ultimate goal of monitoring system is to prognose and diagnose possible events that can occur in the future for the prevention of further fatal damages. Accordingly, various methods of monitoring and prediction technologies using vibration sensors have recently been developed. However, the demand for developing a corresponding complex solution is increasing in line with the advent of the 4th Industrial Revolution and the development of the computer industry. Therefore, a more reliable failure diagnosis method is presented through the establishment of an AI-based monitoring system using current, tacho and temperature sensors along with vibration sensors.', '인공지능(Artificial Intelligence(AI), 이하 인공지능)은 거대한 데이터를 기반으로 학습하여 개인 맞춤형으로 고도화된 서비스를 제공한다. 예를 들어 인공지능 맞춤형 쇼핑정보서비스라고 한다면 구매자가 특정 상품을 구매한 내역, 구매 주기, 상품정보를 보기 위해 해당 페이지에 머무르는 시간과 관심 상품으로 등록한 정보 등을 학습하여 구매자에게 최적화된 상품을 추천하고 구매로 이어지도록 한다. 이러한 인공지능 서비스를 개발하고 이용하는 과정에서 대규모의 데이터가 활용되는데 이 과정에서 개인 식별 가능성이 높아지며 개인정보 침해가 우려된다.\\n본고에서는 개인정보 생명주기를 중심으로 인공지능에서 개인정보를 보호하기 위한 접근 방법을 제시한다.', '인공지능 기술이 발전하면서 인간과 유사한 외형을 가진 가상 인간이 등장하여 광고업계 및 소셜 미디어에서 활발히 활동하고 있다. 가상 인간은 완벽한 사생활 제어 및 시공간을 초월한 활동성으로 인해 다양한 분야에서의 수요가 급증하고 있지만, 가상 인간 생성을 위해 사용되는 개인의 음성, 이미지, 동영상 등의 외형 데이터와 관련한 프라이버시 이슈 또한 발생하고 있다. 본고에서는 가상 인간의 프라이버시 침해 사고 예방을 위해 준수해야 할 인공지능 윤리 및 개인정보보호법 동향을 살펴보고, 가상 인간의 개인정보보호 준수현황을 점검하고자 한다.', '사용자 맞춤형 인공지능기반 서비스의 증가로 인해 개인정보를 포함하는 데이터셋의 활용에 대한 수요가 증가하고 있다. 개인정보 침해를 최소화하면서 개인정보를 데이터셋으로 활용하기 위해서는 비식별화 조치가 필요하다. 특히 얼굴이미지의 경우는 민감한 개인정보의 하나로 이를 위한 다양한 비식별화 조치에 대한 인공지능 기반 연구가 이루어 지고 있다. 본 고에서는 딥러닝 기반의 얼굴 비식별 기술 동향을 살펴보고 발전방향에 대해서 전망하고자 한다.', 'none', '알파고가 강화학습으로 인간을 이길 수 없다는 상식을 깨고 인간을 상대로 바둑을 이긴 사례에서 알 수 있듯 인공지능 기술은 게임 분야에서 매우 성공적이며, 알파고 성공의 가장 핵심적인 기술은 강화학습이다. 그러나 게임 분야에서 심층 강화학습이 인공지능 학습에 어떻게 활용되는지 조사해보니 대부분의 심층 강화학습 모델은 실시간 환경에 제대로 대처하지 못하는 것으로 나타났다. 본 논문에서는 실시간 환경에서 심층 강화학습 문제를 소개하고 향후 솔루션에 대해 자세히 논의한다.\\n\\nAs we can see in the case that AlphaGo won Go game against humans, breaking common sense that it cannot beat humans through reinforcement learning, artificial intelligence technology are very successful in the game field, and the most core technology to the AlphaGo’s success is reinforcement learning. However, when we investigated how deep reinforcement learning is used to learn artificial intelligence in the game field, it turns out that most deep reinforcement learning models cannot properly cope with real-time environments. In this paper, we introduce deep reinforcement learning problems in real-time environments, and discuss future solutions in detail.', '소프트웨어 정의 네트워킹(SDN)은 제어 영역과 데이터영역을 분리하는 형태의 네트워크 분야의 새로운 아이디어이다. 과거 SDN의 개념이 논의되고 적용 및 개발 단계를 지나 최근에는 많은 기업이 손쉬운 제어가 가능한 네트워크 가상화 환경과 유연한 운영과 확장성으로 원가를 절감하기 위해 SDN 네트워크 도입을 검토하고 있다. SDN 기반의 네트워크를 구축에 앞서 보안요소는 필수적으로 검토되어야 한다. 본 논문에서는 SDN 기술에 대해 살펴보고 SDN 기술의 계층별 보안 위협과 계층별 보안솔루션에 대해 살펴본다. 인공지능이 거대한 이슈로 현실화 되고 있는 현 시점에서, 네트워크 인프라의 발전과 앞으로의 방향 그리고 보안 요소를 살펴보고 궁극적으로 개인정보를 보호하기 위한 요소들에 대해 알아본다.', 'none', 'none', 'none', '미디어파이프(mediapipe)의 손 인식 솔루션(Mediapipe Hands solution)을 활용하여 새로운 게임 인터페이스를 제안한다. 기존의 횡 스크롤(side-scroll) 게임은 게임을 플레이하는 사용자가 직접 물리적인 컨트롤러를 사용하여 게임을 플레이하는 것이 일반적이었다. 제안한 인터페이스를 활용하여 사용자가 직접 양손을 이용해 방향 이동, 공격, 점프 수류탄 등의 동작을 통해 플레이할 수 있게 제작하였다. 오른손은 검지의 각도를 이용하여 좌, 우의 방향을 제어할 수 있게 했으며, 왼손은 KNN기법(K nearest neighbor)을 활용하여 공격, 수류탄 등의 동작을 제어할 수 있게 했고, 절대적인 좌표 값을 통해 점프를 제어할 수 있게 했다. 제안한 인터페이스 성능 평가를 위해 파이게임 기반 포레스트 에이전트 게임을 제작하였고, 실험을 통해 제안한 인터페이스의 성능을 확인할 수 있었다. 제안한 게임 인터페이스는 몰입 증감을 위한 기초자료로 활용될 수 있다.\\n\\nWe propose a new game interface using Mediapipe Hands solution. In the existing side-scrolling game, it is common for a user who plays the game to directly play the game using a physical controller. Using the proposed interface, the user can directly use both hands to play through actions such as direction movement, attack, and jumping grenade. The right hand uses the angle of the index finger to control the left and right directions, and the left hand uses the K nearest neighbor technique to control attacks and grenades, and jumps through absolute coordinates. made it possible to control. To evaluate the performance of the proposed interface, a pygame-based forest agent game was produced, and the performance was confirmed through experiments. Through this, the proposed game interface can be used as basic data for increasing or decreasing immersion.', 'none', '국내 여성 유방암(breast cancer) 발생률은 전체 암 중 1위이다. 유방암에 의한 사망률을 줄이기 위하여 정확한 진단과 간편한 진단 방법이 요구되고 있다. 따라서 본 연구에서는 스태킹 분석을 기반으로 유방암 데이터를 머신러닝 하여 유방암 진단의 확률을 높이는 시스템을 연구한다. 본 모델에서는 스태킹 앙상블 기법의 데이터 추출방식에 재귀적 변형을 적용하였다. 결과적으로 제안한 향상된 데이터 추출 방법과 스태킹 기법을 적용하였을 때 적용하지 않은 비교군에 비하여 유방암 진단 정확도가 상승하였다.\\n\\nThe incidence of breast cancer in women in Korea is the highest among all cancers. Accurate diagnosis and easy diagnosis methods are required to reduce the mortality rate from breast cancer. Therefore, this study studies a system that increases the probability of breast cancer diagnosis by machine learning breast cancer data based on stacking analysis. in this model, a recursive transformation was applied to the data extraction method of the stacking ensemble technique. As a result, when the proposed improved data extraction method and stacking technique were applied, the accuracy of breast cancer diagnosis increased compared to the comparative group that was not applied.', 'none', 'none']\n"
     ]
    }
   ],
   "source": [
    "# 3) 상세페이지 이동(추천 : 한번에 링크 다 가져오기, 뒤로가기가 필요없음 !)\n",
    "containers = browser.find_elements(By.CLASS_NAME, 'thesis__summary')\n",
    "\n",
    "link_list = []\n",
    "for container in containers :\n",
    "    link = container.find_element(By.CLASS_NAME, 'thesis__link').get_attribute('href')\n",
    "    link_list.append(link)   \n",
    "\n",
    "print(link_list)\n",
    "\n",
    "# 4) 세부 페이지 접근 & 데이터 가져오기\n",
    "\n",
    "content_list = []\n",
    "for link in link_list:\n",
    "    browser.get(link)\n",
    "    time.sleep(3)\n",
    "    \n",
    "    try :\n",
    "        content = browser.find_element(By.CLASS_NAME, 'abstractTxt').text  \n",
    "    except:\n",
    "        content = 'none' # 초록,키워드에 내용이 없는 경우\n",
    "        \n",
    "    content_list.append(content)\n",
    "\n",
    "print(content_list)"
   ]
  },
  {
   "cell_type": "code",
   "execution_count": null,
   "id": "25e61e69",
   "metadata": {},
   "outputs": [],
   "source": [
    "# 상세 페이지의 이동(링크로 바로 접근)\n",
    "\n",
    "## 1건\n",
    "browser.find_element(By.CLASS_NAME, 'thesis__link').get_attribute('href') \n",
    "\n",
    "## 여러건\n",
    "links = browser.find_elements(By.CLASS_NAME, 'thesis__link')\n",
    "for i in links :\n",
    "    print(i.get_attribute('href'))\n",
    "    \n",
    "    \n",
    "# 상세 페이지의 이동(컨테이너로 접근: 부모>자식 )\n",
    "\n",
    "containers = browser.find_elements(By.CLASS_NAME, 'thesis_summary')\n",
    "for container in containers:\n",
    "    print(container.find_element(By.CLASS_NAME, 'thesis_link').get_attribute('href'))\n",
    "    "
   ]
  },
  {
   "attachments": {
    "image.png": {
     "image/png": "[encoded data removed]"
    }
   },
   "cell_type": "markdown",
   "id": "6891ce1a",
   "metadata": {},
   "source": [
    "![image.png](attachment:image.png)"
   ]
  },
  {
   "cell_type": "code",
   "execution_count": 41,
   "id": "e6303bf6",
   "metadata": {},
   "outputs": [
    {
     "ename": "TypeError",
     "evalue": "click() takes 1 positional argument but 2 were given",
     "output_type": "error",
     "traceback": [
      "\u001b[1;31m---------------------------------------------------------------------------\u001b[0m",
      "\u001b[1;31mTypeError\u001b[0m                                 Traceback (most recent call last)",
      "Input \u001b[1;32mIn [41]\u001b[0m, in \u001b[0;36m<cell line: 17>\u001b[1;34m()\u001b[0m\n\u001b[0;32m     11\u001b[0m \u001b[38;5;66;03m#여기서 element = a 태그 ! \u001b[39;00m\n\u001b[0;32m     12\u001b[0m \u001b[38;5;66;03m#속성가져오기 : get_attribute\u001b[39;00m\n\u001b[0;32m     13\u001b[0m \n\u001b[0;32m     14\u001b[0m \u001b[38;5;66;03m#print(link_list)\u001b[39;00m\n\u001b[0;32m     17\u001b[0m \u001b[38;5;28;01mfor\u001b[39;00m i \u001b[38;5;129;01min\u001b[39;00m \u001b[38;5;28mrange\u001b[39m(\u001b[38;5;241m1\u001b[39m,\u001b[38;5;241m11\u001b[39m):\n\u001b[1;32m---> 18\u001b[0m     \u001b[43mbrowser\u001b[49m\u001b[38;5;241;43m.\u001b[39;49m\u001b[43mfind_element\u001b[49m\u001b[43m(\u001b[49m\u001b[43mBy\u001b[49m\u001b[38;5;241;43m.\u001b[39;49m\u001b[43mXPATH\u001b[49m\u001b[43m,\u001b[49m\u001b[43m \u001b[49m\u001b[38;5;124;43m'\u001b[39;49m\u001b[38;5;124;43m//*[@id=\u001b[39;49m\u001b[38;5;124;43m\"\u001b[39;49m\u001b[38;5;124;43m#pub_noticeLayerPopup93\u001b[39;49m\u001b[38;5;124;43m\"\u001b[39;49m\u001b[38;5;124;43m]\u001b[39;49m\u001b[38;5;124;43m'\u001b[39;49m\u001b[43m)\u001b[49m\u001b[38;5;241;43m.\u001b[39;49m\u001b[43mclick\u001b[49m\u001b[43m(\u001b[49m\u001b[38;5;28;43mstr\u001b[39;49m\u001b[43m(\u001b[49m\u001b[43mi\u001b[49m\u001b[43m)\u001b[49m\u001b[43m)\u001b[49m \u001b[38;5;66;03m# 중간 팝업창 끄기\u001b[39;00m\n\u001b[0;32m     21\u001b[0m \u001b[38;5;66;03m#1-1) link 접근해서 내용 가져오기(링크 가져오기 가능하면, 링크로 가져오기)\u001b[39;00m\n\u001b[0;32m     22\u001b[0m content_list \u001b[38;5;241m=\u001b[39m []\n",
      "\u001b[1;31mTypeError\u001b[0m: click() takes 1 positional argument but 2 were given"
     ]
    }
   ],
   "source": [
    "import time\n",
    "#각 페이지의 URL 가져오기\n",
    "\n",
    "links = browser.find_elements(By.CLASS_NAME,'thesis__link')\n",
    "#print(links)\n",
    "\n",
    "link_list = []\n",
    "for element in links:\n",
    "    link = element.get_attribute('href')\n",
    "    link_list.append(link)\n",
    "    \n",
    "#여기서 element = a 태그 ! \n",
    "#속성가져오기 : get_attribute\n",
    "\n",
    "#print(link_list)\n",
    "\n",
    "########중간 팝업 !!!! 해결해야함 ########\n",
    "for i in range(1,11):\n",
    "    browser.find_element(By.XPATH, '//*[@id=\"#pub_noticeLayerPopup93\"]').click(str(i)) # 중간 팝업창 끄기\n",
    "\n",
    "\n",
    "#1-1) link 접근해서 내용 가져오기(링크 가져오기 가능하면, 링크로 가져오기)\n",
    "content_list = []\n",
    "for link in link_list:\n",
    "    browser.get(link) \n",
    "    time.sleep(5)\n",
    "    \n",
    "  #데이터 없는 경우도 있음 \n",
    "    try: \n",
    "        content = browser.find_element(By.CLASS_NAME, 'abstracTxt').text\n",
    "    except:   \n",
    "        content = 'vacant'\n",
    "    \n",
    "    content_list.append(content)\n",
    "\n",
    "    print(content_list)"
   ]
  },
  {
   "cell_type": "code",
   "execution_count": null,
   "id": "85cdbda1",
   "metadata": {},
   "outputs": [],
   "source": [
    "content_list = []\n",
    "for link in link_list:\n",
    "    browser.get(link)\n",
    "    time.sleep(3)\n",
    "    try:\n",
    "        content = browser.find_element(By.CLASS_NAME, 'abstractTxt').text\n",
    "        print(content)\n",
    "        content_list.append(content)\n",
    "    except:\n",
    "        print(\"pass\")\n",
    "        content_list.append(\"empty\")\n",
    "    \n",
    "print(content_list)"
   ]
  },
  {
   "cell_type": "code",
   "execution_count": 20,
   "id": "2dcb5f3c",
   "metadata": {},
   "outputs": [
    {
     "name": "stdout",
     "output_type": "stream",
     "text": [
      "https://www.dbpia.co.kr/journal/articleDetail?nodeId=NODE11112269\n",
      "https://www.dbpia.co.kr/journal/articleDetail?nodeId=NODE10596712\n",
      "https://www.dbpia.co.kr/journal/articleDetail?nodeId=NODE10599275\n",
      "https://www.dbpia.co.kr/journal/articleDetail?nodeId=NODE10600890\n",
      "https://www.dbpia.co.kr/journal/articleDetail?nodeId=NODE10594647\n",
      "https://www.dbpia.co.kr/journal/articleDetail?nodeId=NODE10595557\n",
      "https://www.dbpia.co.kr/journal/articleDetail?nodeId=NODE10606957\n",
      "https://www.dbpia.co.kr/journal/articleDetail?nodeId=NODE10606958\n",
      "https://www.dbpia.co.kr/journal/articleDetail?nodeId=NODE10602665\n",
      "https://www.dbpia.co.kr/journal/articleDetail?nodeId=NODE10593327\n",
      "https://www.dbpia.co.kr/journal/articleDetail?nodeId=NODE10590917\n",
      "https://www.dbpia.co.kr/journal/articleDetail?nodeId=NODE10593260\n",
      "https://www.dbpia.co.kr/journal/articleDetail?nodeId=NODE10593199\n",
      "https://www.dbpia.co.kr/journal/articleDetail?nodeId=NODE10571551\n",
      "https://www.dbpia.co.kr/journal/articleDetail?nodeId=NODE10592389\n",
      "https://www.dbpia.co.kr/journal/articleDetail?nodeId=NODE10571871\n",
      "https://www.dbpia.co.kr/journal/articleDetail?nodeId=NODE10570993\n",
      "https://www.dbpia.co.kr/journal/articleDetail?nodeId=NODE10621988\n",
      "https://www.dbpia.co.kr/journal/articleDetail?nodeId=NODE10591291\n",
      "https://www.dbpia.co.kr/journal/articleDetail?nodeId=NODE10582600\n"
     ]
    }
   ],
   "source": [
    "#1-2) 부모태그로 접근> 자식태그\n",
    "##'thesis_summary'로 가져왔을 경우,\n",
    "\n",
    "#containers = browser.find_elements(By.CLASS_NAME,'thesis__summary')\n",
    "#for container in containers:\n",
    "    #print(container.find_element(By.CLASS_NAME,'thesis__link').get_attribute('href'))"
   ]
  },
  {
   "cell_type": "code",
   "execution_count": null,
   "id": "6885d525",
   "metadata": {},
   "outputs": [],
   "source": [
    "##csv로 다운받기"
   ]
  },
  {
   "cell_type": "markdown",
   "id": "6ec3183b",
   "metadata": {},
   "source": [
    "## 2. 슬랙 BOT "
   ]
  },
  {
   "cell_type": "code",
   "execution_count": null,
   "id": "4e76a7dd",
   "metadata": {},
   "outputs": [],
   "source": [
    "import requests\n",
    "import json\n",
    "\n",
    "def send_slack_message():\n",
    "    slack_url = 'Webhook URL'\n",
    "    message= \"\"\"    # 여기에 넣고 싶은 텍스트, 이미지, 파일 등등 넣으면 됨 !\n",
    "    여러분 화이팅  \n",
    "    \"\"\"\n",
    "\n",
    "\n",
    "    payloads = {\n",
    "        \"text\": message  ,\n",
    "        'user_name' : '수업 신청',\n",
    "        'icon_emoji' : ':clap:'\n",
    "    }\n",
    "\n",
    "\n",
    "    response = requests.post(\n",
    "        slack_url, data=json.dumps(payloads),\n",
    "        headers = {'Content-type': 'application/json'}\n",
    "    )\n",
    "   \n",
    "    if response.status_code !=200:\n",
    "        print('error' + response.status_code)\n",
    "\n",
    "\n",
    "    send_slack_message()"
   ]
  },
  {
   "cell_type": "code",
   "execution_count": null,
   "id": "ca925c39",
   "metadata": {},
   "outputs": [],
   "source": [
    "# 크롤링 데이터 있을 경우,\n",
    "\n",
    "import requests\n",
    "import json\n",
    "\n",
    "crawling_data = []\n",
    "\n",
    "def send_slack_message(message):\n",
    "    slack_url = 'Webhook URL'\n",
    "    message= \"\"\"    # 여기에 넣고 싶은 텍스트, 이미지, 파일 등등 넣으면 됨 !\n",
    "    제목 : {}\n",
    "    링크 : {}\n",
    "    내용 : {}\n",
    "    \"\"\".format('title','link', 'content')\n",
    "\n",
    "\n",
    "    payloads = {\n",
    "        \"text\": message  ,\n",
    "        'user_name' : '수업 신청',\n",
    "        'icon_emoji' : ':clap:'\n",
    "    }\n",
    "\n",
    "\n",
    "    response = requests.post(\n",
    "        slack_url, data=json.dumps(payloads),\n",
    "        headers = {'Content-type': 'application/json'}\n",
    "    )\n",
    "   \n",
    "    if response.status_code !=200:\n",
    "        print('error' + response.status_code)\n",
    "\n",
    "\n",
    "for i in range(1,10)\n",
    "    send_slack_message(crawling_data)  \n",
    "    \n",
    "    \n",
    "    "
   ]
  }
 ],
 "metadata": {
  "kernelspec": {
   "display_name": "Python 3 (ipykernel)",
   "language": "python",
   "name": "python3"
  },
  "language_info": {
   "codemirror_mode": {
    "name": "ipython",
    "version": 3
   },
   "file_extension": ".py",
   "mimetype": "text/x-python",
   "name": "python",
   "nbconvert_exporter": "python",
   "pygments_lexer": "ipython3",
   "version": "3.9.12"
  }
 },
 "nbformat": 4,
 "nbformat_minor": 5
}
