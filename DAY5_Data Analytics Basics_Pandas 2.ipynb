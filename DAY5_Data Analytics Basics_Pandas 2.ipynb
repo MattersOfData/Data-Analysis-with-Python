{
 "cells": [
  {
   "cell_type": "markdown",
   "id": "a37d53d6",
   "metadata": {},
   "source": [
    "# 3. 집합(Aggregation)함수"
   ]
  },
  {
   "cell_type": "markdown",
   "id": "6de76c13",
   "metadata": {},
   "source": [
    "df.sum()\n",
    "df.mean()\n",
    "df.max()\n",
    "df.describe()\n",
    "- count : 총 갯수\n",
    "- mean : 평균값\n",
    "- std : 표준편차\n",
    "- min : 최소값\n",
    "- 25% : 1/4 분위수\n",
    "- 50% : 2/4 분위수\n",
    "- 75% : 3/4 분위수\n",
    "- max : 최대값"
   ]
  },
  {
   "cell_type": "code",
   "execution_count": 1,
   "id": "0f623f41",
   "metadata": {},
   "outputs": [],
   "source": [
    "import pandas as pd"
   ]
  },
  {
   "cell_type": "code",
   "execution_count": 5,
   "id": "0f5b6fb3",
   "metadata": {},
   "outputs": [],
   "source": [
    "import warnings\n",
    "warnings.filterwarnings('ignore')"
   ]
  },
  {
   "cell_type": "code",
   "execution_count": 2,
   "id": "a247b8d0",
   "metadata": {},
   "outputs": [
    {
     "data": {
      "text/html": [
       "<div>\n",
       "<style scoped>\n",
       "    .dataframe tbody tr th:only-of-type {\n",
       "        vertical-align: middle;\n",
       "    }\n",
       "\n",
       "    .dataframe tbody tr th {\n",
       "        vertical-align: top;\n",
       "    }\n",
       "\n",
       "    .dataframe thead th {\n",
       "        text-align: right;\n",
       "    }\n",
       "</style>\n",
       "<table border=\"1\" class=\"dataframe\">\n",
       "  <thead>\n",
       "    <tr style=\"text-align: right;\">\n",
       "      <th></th>\n",
       "      <th>country</th>\n",
       "      <th>rank</th>\n",
       "      <th>grade</th>\n",
       "      <th>score</th>\n",
       "    </tr>\n",
       "  </thead>\n",
       "  <tbody>\n",
       "    <tr>\n",
       "      <th>0</th>\n",
       "      <td>kor</td>\n",
       "      <td>1</td>\n",
       "      <td>A</td>\n",
       "      <td>100</td>\n",
       "    </tr>\n",
       "    <tr>\n",
       "      <th>1</th>\n",
       "      <td>usa</td>\n",
       "      <td>2</td>\n",
       "      <td>B</td>\n",
       "      <td>80</td>\n",
       "    </tr>\n",
       "    <tr>\n",
       "      <th>2</th>\n",
       "      <td>china</td>\n",
       "      <td>3</td>\n",
       "      <td>C</td>\n",
       "      <td>60</td>\n",
       "    </tr>\n",
       "    <tr>\n",
       "      <th>3</th>\n",
       "      <td>japan</td>\n",
       "      <td>4</td>\n",
       "      <td>D</td>\n",
       "      <td>40</td>\n",
       "    </tr>\n",
       "  </tbody>\n",
       "</table>\n",
       "</div>"
      ],
      "text/plain": [
       "  country  rank grade  score\n",
       "0     kor     1     A    100\n",
       "1     usa     2     B     80\n",
       "2   china     3     C     60\n",
       "3   japan     4     D     40"
      ]
     },
     "execution_count": 2,
     "metadata": {},
     "output_type": "execute_result"
    }
   ],
   "source": [
    "# DataFrame 생성\n",
    "\n",
    "data = {'country': [\"kor\", \"usa\", \"china\" , 'japan'],\n",
    "        'rank': [1, 2, 3, 4],\n",
    "        'grade' : ['A', 'B', 'C', 'D'],\n",
    "        'score': [100,80,60,40]\n",
    "        }\n",
    "df = pd.DataFrame(data)\n",
    "df"
   ]
  },
  {
   "cell_type": "code",
   "execution_count": 7,
   "id": "aead05b3",
   "metadata": {},
   "outputs": [
    {
     "name": "stdout",
     "output_type": "stream",
     "text": [
      "country    korusachinajapan\n",
      "rank                     10\n",
      "grade                  ABCD\n",
      "score                   280\n",
      "dtype: object\n",
      "rank      2.5\n",
      "score    70.0\n",
      "dtype: float64\n",
      "country    usa\n",
      "rank         4\n",
      "grade        D\n",
      "score      100\n",
      "dtype: object\n",
      "country    china\n",
      "rank           1\n",
      "grade          A\n",
      "score         40\n",
      "dtype: object\n"
     ]
    },
    {
     "data": {
      "text/html": [
       "<div>\n",
       "<style scoped>\n",
       "    .dataframe tbody tr th:only-of-type {\n",
       "        vertical-align: middle;\n",
       "    }\n",
       "\n",
       "    .dataframe tbody tr th {\n",
       "        vertical-align: top;\n",
       "    }\n",
       "\n",
       "    .dataframe thead th {\n",
       "        text-align: right;\n",
       "    }\n",
       "</style>\n",
       "<table border=\"1\" class=\"dataframe\">\n",
       "  <thead>\n",
       "    <tr style=\"text-align: right;\">\n",
       "      <th></th>\n",
       "      <th>rank</th>\n",
       "      <th>score</th>\n",
       "    </tr>\n",
       "  </thead>\n",
       "  <tbody>\n",
       "    <tr>\n",
       "      <th>count</th>\n",
       "      <td>4.000000</td>\n",
       "      <td>4.000000</td>\n",
       "    </tr>\n",
       "    <tr>\n",
       "      <th>mean</th>\n",
       "      <td>2.500000</td>\n",
       "      <td>70.000000</td>\n",
       "    </tr>\n",
       "    <tr>\n",
       "      <th>std</th>\n",
       "      <td>1.290994</td>\n",
       "      <td>25.819889</td>\n",
       "    </tr>\n",
       "    <tr>\n",
       "      <th>min</th>\n",
       "      <td>1.000000</td>\n",
       "      <td>40.000000</td>\n",
       "    </tr>\n",
       "    <tr>\n",
       "      <th>25%</th>\n",
       "      <td>1.750000</td>\n",
       "      <td>55.000000</td>\n",
       "    </tr>\n",
       "    <tr>\n",
       "      <th>50%</th>\n",
       "      <td>2.500000</td>\n",
       "      <td>70.000000</td>\n",
       "    </tr>\n",
       "    <tr>\n",
       "      <th>75%</th>\n",
       "      <td>3.250000</td>\n",
       "      <td>85.000000</td>\n",
       "    </tr>\n",
       "    <tr>\n",
       "      <th>max</th>\n",
       "      <td>4.000000</td>\n",
       "      <td>100.000000</td>\n",
       "    </tr>\n",
       "  </tbody>\n",
       "</table>\n",
       "</div>"
      ],
      "text/plain": [
       "           rank       score\n",
       "count  4.000000    4.000000\n",
       "mean   2.500000   70.000000\n",
       "std    1.290994   25.819889\n",
       "min    1.000000   40.000000\n",
       "25%    1.750000   55.000000\n",
       "50%    2.500000   70.000000\n",
       "75%    3.250000   85.000000\n",
       "max    4.000000  100.000000"
      ]
     },
     "execution_count": 7,
     "metadata": {},
     "output_type": "execute_result"
    }
   ],
   "source": [
    "print(df.sum())\n",
    "print(df.mean()) # 문자의 평균은 구할 수 없음\n",
    "print(df.max()) #  문자의 경우 ascii 코드 값이 큰 값 \n",
    "print(df.min())\n",
    "\n",
    "df.describe()"
   ]
  },
  {
   "cell_type": "code",
   "execution_count": 8,
   "id": "7cf4a860",
   "metadata": {},
   "outputs": [
    {
     "data": {
      "text/plain": [
       "70.0"
      ]
     },
     "execution_count": 8,
     "metadata": {},
     "output_type": "execute_result"
    }
   ],
   "source": [
    "# 하나의 컬럼에 적용\n",
    "## score 의 mean 값 구하기!\n",
    "\n",
    "df.score.mean()\n",
    "df['score'].mean()\n",
    "df.loc[:, 'score'].mean()\n",
    "df.iloc[:, 3].mean()"
   ]
  },
  {
   "cell_type": "code",
   "execution_count": 14,
   "id": "1e97428c",
   "metadata": {},
   "outputs": [
    {
     "name": "stdout",
     "output_type": "stream",
     "text": [
      "rank      10\n",
      "score    280\n",
      "dtype: int64\n",
      "0    101\n",
      "1     82\n",
      "2     63\n",
      "3     44\n",
      "dtype: int64\n"
     ]
    },
    {
     "data": {
      "text/html": [
       "<div>\n",
       "<style scoped>\n",
       "    .dataframe tbody tr th:only-of-type {\n",
       "        vertical-align: middle;\n",
       "    }\n",
       "\n",
       "    .dataframe tbody tr th {\n",
       "        vertical-align: top;\n",
       "    }\n",
       "\n",
       "    .dataframe thead th {\n",
       "        text-align: right;\n",
       "    }\n",
       "</style>\n",
       "<table border=\"1\" class=\"dataframe\">\n",
       "  <thead>\n",
       "    <tr style=\"text-align: right;\">\n",
       "      <th></th>\n",
       "      <th>rank</th>\n",
       "      <th>score</th>\n",
       "    </tr>\n",
       "  </thead>\n",
       "  <tbody>\n",
       "    <tr>\n",
       "      <th>count</th>\n",
       "      <td>4.000000</td>\n",
       "      <td>4.000000</td>\n",
       "    </tr>\n",
       "    <tr>\n",
       "      <th>mean</th>\n",
       "      <td>2.500000</td>\n",
       "      <td>70.000000</td>\n",
       "    </tr>\n",
       "    <tr>\n",
       "      <th>std</th>\n",
       "      <td>1.290994</td>\n",
       "      <td>25.819889</td>\n",
       "    </tr>\n",
       "    <tr>\n",
       "      <th>min</th>\n",
       "      <td>1.000000</td>\n",
       "      <td>40.000000</td>\n",
       "    </tr>\n",
       "    <tr>\n",
       "      <th>25%</th>\n",
       "      <td>1.750000</td>\n",
       "      <td>55.000000</td>\n",
       "    </tr>\n",
       "    <tr>\n",
       "      <th>50%</th>\n",
       "      <td>2.500000</td>\n",
       "      <td>70.000000</td>\n",
       "    </tr>\n",
       "    <tr>\n",
       "      <th>75%</th>\n",
       "      <td>3.250000</td>\n",
       "      <td>85.000000</td>\n",
       "    </tr>\n",
       "    <tr>\n",
       "      <th>max</th>\n",
       "      <td>4.000000</td>\n",
       "      <td>100.000000</td>\n",
       "    </tr>\n",
       "  </tbody>\n",
       "</table>\n",
       "</div>"
      ],
      "text/plain": [
       "           rank       score\n",
       "count  4.000000    4.000000\n",
       "mean   2.500000   70.000000\n",
       "std    1.290994   25.819889\n",
       "min    1.000000   40.000000\n",
       "25%    1.750000   55.000000\n",
       "50%    2.500000   70.000000\n",
       "75%    3.250000   85.000000\n",
       "max    4.000000  100.000000"
      ]
     },
     "execution_count": 14,
     "metadata": {},
     "output_type": "execute_result"
    }
   ],
   "source": [
    "# 여러 컬럼에 적용\n",
    "\n",
    "df[['rank', 'score']].sum(axis=0) # axis = 0, 가로축 중심 -> 각 행을 모두 더한값"
   ]
  },
  {
   "cell_type": "code",
   "execution_count": null,
   "id": "25cc1c7b",
   "metadata": {},
   "outputs": [],
   "source": [
    "df[['rank','score']].sum(axis=1)  # axis = 1  세로축 중심 -> 각 열을 모두 더한값\n",
    "                                    #sum 함수 : int 기준이기때문에 문자는 더하지 X"
   ]
  },
  {
   "cell_type": "code",
   "execution_count": 15,
   "id": "c441b63e",
   "metadata": {},
   "outputs": [
    {
     "data": {
      "text/html": [
       "<div>\n",
       "<style scoped>\n",
       "    .dataframe tbody tr th:only-of-type {\n",
       "        vertical-align: middle;\n",
       "    }\n",
       "\n",
       "    .dataframe tbody tr th {\n",
       "        vertical-align: top;\n",
       "    }\n",
       "\n",
       "    .dataframe thead th {\n",
       "        text-align: right;\n",
       "    }\n",
       "</style>\n",
       "<table border=\"1\" class=\"dataframe\">\n",
       "  <thead>\n",
       "    <tr style=\"text-align: right;\">\n",
       "      <th></th>\n",
       "      <th>rank</th>\n",
       "      <th>score</th>\n",
       "    </tr>\n",
       "  </thead>\n",
       "  <tbody>\n",
       "    <tr>\n",
       "      <th>count</th>\n",
       "      <td>4.000000</td>\n",
       "      <td>4.000000</td>\n",
       "    </tr>\n",
       "    <tr>\n",
       "      <th>mean</th>\n",
       "      <td>2.500000</td>\n",
       "      <td>70.000000</td>\n",
       "    </tr>\n",
       "    <tr>\n",
       "      <th>std</th>\n",
       "      <td>1.290994</td>\n",
       "      <td>25.819889</td>\n",
       "    </tr>\n",
       "    <tr>\n",
       "      <th>min</th>\n",
       "      <td>1.000000</td>\n",
       "      <td>40.000000</td>\n",
       "    </tr>\n",
       "    <tr>\n",
       "      <th>25%</th>\n",
       "      <td>1.750000</td>\n",
       "      <td>55.000000</td>\n",
       "    </tr>\n",
       "    <tr>\n",
       "      <th>50%</th>\n",
       "      <td>2.500000</td>\n",
       "      <td>70.000000</td>\n",
       "    </tr>\n",
       "    <tr>\n",
       "      <th>75%</th>\n",
       "      <td>3.250000</td>\n",
       "      <td>85.000000</td>\n",
       "    </tr>\n",
       "    <tr>\n",
       "      <th>max</th>\n",
       "      <td>4.000000</td>\n",
       "      <td>100.000000</td>\n",
       "    </tr>\n",
       "  </tbody>\n",
       "</table>\n",
       "</div>"
      ],
      "text/plain": [
       "           rank       score\n",
       "count  4.000000    4.000000\n",
       "mean   2.500000   70.000000\n",
       "std    1.290994   25.819889\n",
       "min    1.000000   40.000000\n",
       "25%    1.750000   55.000000\n",
       "50%    2.500000   70.000000\n",
       "75%    3.250000   85.000000\n",
       "max    4.000000  100.000000"
      ]
     },
     "execution_count": 15,
     "metadata": {},
     "output_type": "execute_result"
    }
   ],
   "source": [
    "df.describe()"
   ]
  },
  {
   "cell_type": "markdown",
   "id": "cb108ba1",
   "metadata": {},
   "source": [
    "# 4. 정렬\n",
    "- sort_index(), index 순서대로 정렬\n",
    "- sort_values(by=['컬럼'], ascending=True)\n",
    "- column의 value값대로 정렬 / 오름차순(True), 내림차순(False)"
   ]
  },
  {
   "cell_type": "markdown",
   "id": "5145ec3e",
   "metadata": {},
   "source": [
    "1) sort_index()"
   ]
  },
  {
   "cell_type": "code",
   "execution_count": 17,
   "id": "a3724f6b",
   "metadata": {},
   "outputs": [
    {
     "data": {
      "text/html": [
       "<div>\n",
       "<style scoped>\n",
       "    .dataframe tbody tr th:only-of-type {\n",
       "        vertical-align: middle;\n",
       "    }\n",
       "\n",
       "    .dataframe tbody tr th {\n",
       "        vertical-align: top;\n",
       "    }\n",
       "\n",
       "    .dataframe thead th {\n",
       "        text-align: right;\n",
       "    }\n",
       "</style>\n",
       "<table border=\"1\" class=\"dataframe\">\n",
       "  <thead>\n",
       "    <tr style=\"text-align: right;\">\n",
       "      <th></th>\n",
       "      <th>score</th>\n",
       "      <th>rank</th>\n",
       "      <th>grade</th>\n",
       "      <th>country</th>\n",
       "    </tr>\n",
       "  </thead>\n",
       "  <tbody>\n",
       "    <tr>\n",
       "      <th>0</th>\n",
       "      <td>100</td>\n",
       "      <td>1</td>\n",
       "      <td>A</td>\n",
       "      <td>kor</td>\n",
       "    </tr>\n",
       "    <tr>\n",
       "      <th>1</th>\n",
       "      <td>80</td>\n",
       "      <td>2</td>\n",
       "      <td>B</td>\n",
       "      <td>usa</td>\n",
       "    </tr>\n",
       "    <tr>\n",
       "      <th>2</th>\n",
       "      <td>60</td>\n",
       "      <td>3</td>\n",
       "      <td>C</td>\n",
       "      <td>china</td>\n",
       "    </tr>\n",
       "    <tr>\n",
       "      <th>3</th>\n",
       "      <td>40</td>\n",
       "      <td>4</td>\n",
       "      <td>D</td>\n",
       "      <td>japan</td>\n",
       "    </tr>\n",
       "  </tbody>\n",
       "</table>\n",
       "</div>"
      ],
      "text/plain": [
       "   score  rank grade country\n",
       "0    100     1     A     kor\n",
       "1     80     2     B     usa\n",
       "2     60     3     C   china\n",
       "3     40     4     D   japan"
      ]
     },
     "execution_count": 17,
     "metadata": {},
     "output_type": "execute_result"
    }
   ],
   "source": [
    "df.sort_index()\n",
    "df.sort_index(axis =0) # 인덱스 정렬"
   ]
  },
  {
   "cell_type": "code",
   "execution_count": 18,
   "id": "f9be39dc",
   "metadata": {},
   "outputs": [
    {
     "data": {
      "text/html": [
       "<div>\n",
       "<style scoped>\n",
       "    .dataframe tbody tr th:only-of-type {\n",
       "        vertical-align: middle;\n",
       "    }\n",
       "\n",
       "    .dataframe tbody tr th {\n",
       "        vertical-align: top;\n",
       "    }\n",
       "\n",
       "    .dataframe thead th {\n",
       "        text-align: right;\n",
       "    }\n",
       "</style>\n",
       "<table border=\"1\" class=\"dataframe\">\n",
       "  <thead>\n",
       "    <tr style=\"text-align: right;\">\n",
       "      <th></th>\n",
       "      <th>country</th>\n",
       "      <th>grade</th>\n",
       "      <th>rank</th>\n",
       "      <th>score</th>\n",
       "    </tr>\n",
       "  </thead>\n",
       "  <tbody>\n",
       "    <tr>\n",
       "      <th>0</th>\n",
       "      <td>kor</td>\n",
       "      <td>A</td>\n",
       "      <td>1</td>\n",
       "      <td>100</td>\n",
       "    </tr>\n",
       "    <tr>\n",
       "      <th>1</th>\n",
       "      <td>usa</td>\n",
       "      <td>B</td>\n",
       "      <td>2</td>\n",
       "      <td>80</td>\n",
       "    </tr>\n",
       "    <tr>\n",
       "      <th>2</th>\n",
       "      <td>china</td>\n",
       "      <td>C</td>\n",
       "      <td>3</td>\n",
       "      <td>60</td>\n",
       "    </tr>\n",
       "    <tr>\n",
       "      <th>3</th>\n",
       "      <td>japan</td>\n",
       "      <td>D</td>\n",
       "      <td>4</td>\n",
       "      <td>40</td>\n",
       "    </tr>\n",
       "  </tbody>\n",
       "</table>\n",
       "</div>"
      ],
      "text/plain": [
       "  country grade  rank  score\n",
       "0     kor     A     1    100\n",
       "1     usa     B     2     80\n",
       "2   china     C     3     60\n",
       "3   japan     D     4     40"
      ]
     },
     "execution_count": 18,
     "metadata": {},
     "output_type": "execute_result"
    }
   ],
   "source": [
    "df.sort_index(axis =1) # 컬럼순 정렬"
   ]
  },
  {
   "cell_type": "code",
   "execution_count": 19,
   "id": "a251f0dc",
   "metadata": {},
   "outputs": [
    {
     "data": {
      "text/html": [
       "<div>\n",
       "<style scoped>\n",
       "    .dataframe tbody tr th:only-of-type {\n",
       "        vertical-align: middle;\n",
       "    }\n",
       "\n",
       "    .dataframe tbody tr th {\n",
       "        vertical-align: top;\n",
       "    }\n",
       "\n",
       "    .dataframe thead th {\n",
       "        text-align: right;\n",
       "    }\n",
       "</style>\n",
       "<table border=\"1\" class=\"dataframe\">\n",
       "  <thead>\n",
       "    <tr style=\"text-align: right;\">\n",
       "      <th></th>\n",
       "      <th>score</th>\n",
       "      <th>rank</th>\n",
       "      <th>grade</th>\n",
       "      <th>country</th>\n",
       "    </tr>\n",
       "  </thead>\n",
       "  <tbody>\n",
       "    <tr>\n",
       "      <th>0</th>\n",
       "      <td>100</td>\n",
       "      <td>1</td>\n",
       "      <td>A</td>\n",
       "      <td>kor</td>\n",
       "    </tr>\n",
       "    <tr>\n",
       "      <th>1</th>\n",
       "      <td>80</td>\n",
       "      <td>2</td>\n",
       "      <td>B</td>\n",
       "      <td>usa</td>\n",
       "    </tr>\n",
       "    <tr>\n",
       "      <th>2</th>\n",
       "      <td>60</td>\n",
       "      <td>3</td>\n",
       "      <td>C</td>\n",
       "      <td>china</td>\n",
       "    </tr>\n",
       "    <tr>\n",
       "      <th>3</th>\n",
       "      <td>40</td>\n",
       "      <td>4</td>\n",
       "      <td>D</td>\n",
       "      <td>japan</td>\n",
       "    </tr>\n",
       "  </tbody>\n",
       "</table>\n",
       "</div>"
      ],
      "text/plain": [
       "   score  rank grade country\n",
       "0    100     1     A     kor\n",
       "1     80     2     B     usa\n",
       "2     60     3     C   china\n",
       "3     40     4     D   japan"
      ]
     },
     "execution_count": 19,
     "metadata": {},
     "output_type": "execute_result"
    }
   ],
   "source": [
    "df.sort_index(axis =1 , ascending=False) # 컬럼을 내림차순으로 정렬"
   ]
  },
  {
   "cell_type": "markdown",
   "id": "e4296f5f",
   "metadata": {},
   "source": [
    "2) sort_values(by=['컬럼'])"
   ]
  },
  {
   "cell_type": "code",
   "execution_count": null,
   "id": "07107847",
   "metadata": {},
   "outputs": [],
   "source": [
    "- 하나의 컬럼값으로 정렬"
   ]
  },
  {
   "cell_type": "code",
   "execution_count": 20,
   "id": "0a7e88c3",
   "metadata": {},
   "outputs": [
    {
     "data": {
      "text/html": [
       "<div>\n",
       "<style scoped>\n",
       "    .dataframe tbody tr th:only-of-type {\n",
       "        vertical-align: middle;\n",
       "    }\n",
       "\n",
       "    .dataframe tbody tr th {\n",
       "        vertical-align: top;\n",
       "    }\n",
       "\n",
       "    .dataframe thead th {\n",
       "        text-align: right;\n",
       "    }\n",
       "</style>\n",
       "<table border=\"1\" class=\"dataframe\">\n",
       "  <thead>\n",
       "    <tr style=\"text-align: right;\">\n",
       "      <th></th>\n",
       "      <th>country</th>\n",
       "      <th>rank</th>\n",
       "      <th>grade</th>\n",
       "      <th>score</th>\n",
       "    </tr>\n",
       "  </thead>\n",
       "  <tbody>\n",
       "    <tr>\n",
       "      <th>3</th>\n",
       "      <td>japan</td>\n",
       "      <td>4</td>\n",
       "      <td>D</td>\n",
       "      <td>40</td>\n",
       "    </tr>\n",
       "    <tr>\n",
       "      <th>2</th>\n",
       "      <td>china</td>\n",
       "      <td>3</td>\n",
       "      <td>C</td>\n",
       "      <td>60</td>\n",
       "    </tr>\n",
       "    <tr>\n",
       "      <th>1</th>\n",
       "      <td>usa</td>\n",
       "      <td>2</td>\n",
       "      <td>B</td>\n",
       "      <td>80</td>\n",
       "    </tr>\n",
       "    <tr>\n",
       "      <th>0</th>\n",
       "      <td>kor</td>\n",
       "      <td>1</td>\n",
       "      <td>A</td>\n",
       "      <td>100</td>\n",
       "    </tr>\n",
       "  </tbody>\n",
       "</table>\n",
       "</div>"
      ],
      "text/plain": [
       "  country  rank grade  score\n",
       "3   japan     4     D     40\n",
       "2   china     3     C     60\n",
       "1     usa     2     B     80\n",
       "0     kor     1     A    100"
      ]
     },
     "execution_count": 20,
     "metadata": {},
     "output_type": "execute_result"
    }
   ],
   "source": [
    "df.sort_values(by=['score']) # score 칼럼을 기준으로 오름차순 정렬"
   ]
  },
  {
   "cell_type": "code",
   "execution_count": 21,
   "id": "53d1e81f",
   "metadata": {},
   "outputs": [
    {
     "data": {
      "text/html": [
       "<div>\n",
       "<style scoped>\n",
       "    .dataframe tbody tr th:only-of-type {\n",
       "        vertical-align: middle;\n",
       "    }\n",
       "\n",
       "    .dataframe tbody tr th {\n",
       "        vertical-align: top;\n",
       "    }\n",
       "\n",
       "    .dataframe thead th {\n",
       "        text-align: right;\n",
       "    }\n",
       "</style>\n",
       "<table border=\"1\" class=\"dataframe\">\n",
       "  <thead>\n",
       "    <tr style=\"text-align: right;\">\n",
       "      <th></th>\n",
       "      <th>country</th>\n",
       "      <th>rank</th>\n",
       "      <th>grade</th>\n",
       "      <th>score</th>\n",
       "    </tr>\n",
       "  </thead>\n",
       "  <tbody>\n",
       "    <tr>\n",
       "      <th>0</th>\n",
       "      <td>kor</td>\n",
       "      <td>1</td>\n",
       "      <td>A</td>\n",
       "      <td>100</td>\n",
       "    </tr>\n",
       "    <tr>\n",
       "      <th>1</th>\n",
       "      <td>usa</td>\n",
       "      <td>2</td>\n",
       "      <td>B</td>\n",
       "      <td>80</td>\n",
       "    </tr>\n",
       "    <tr>\n",
       "      <th>2</th>\n",
       "      <td>china</td>\n",
       "      <td>3</td>\n",
       "      <td>C</td>\n",
       "      <td>60</td>\n",
       "    </tr>\n",
       "    <tr>\n",
       "      <th>3</th>\n",
       "      <td>japan</td>\n",
       "      <td>4</td>\n",
       "      <td>D</td>\n",
       "      <td>40</td>\n",
       "    </tr>\n",
       "  </tbody>\n",
       "</table>\n",
       "</div>"
      ],
      "text/plain": [
       "  country  rank grade  score\n",
       "0     kor     1     A    100\n",
       "1     usa     2     B     80\n",
       "2   china     3     C     60\n",
       "3   japan     4     D     40"
      ]
     },
     "execution_count": 21,
     "metadata": {},
     "output_type": "execute_result"
    }
   ],
   "source": [
    "df.sort_values(by=['score'], ascending = False) # score 칼럼을 기준으로 내림차순 정렬"
   ]
  },
  {
   "cell_type": "code",
   "execution_count": null,
   "id": "b23d0d91",
   "metadata": {},
   "outputs": [],
   "source": [
    "- 2개 이상의 컬럼값으로 정렬\n",
    "    - 첫번째 기준으로 정렬 후 -> 두번쨰 기준으로 정렬 "
   ]
  },
  {
   "cell_type": "code",
   "execution_count": 25,
   "id": "20e5756c",
   "metadata": {},
   "outputs": [
    {
     "data": {
      "text/html": [
       "<div>\n",
       "<style scoped>\n",
       "    .dataframe tbody tr th:only-of-type {\n",
       "        vertical-align: middle;\n",
       "    }\n",
       "\n",
       "    .dataframe tbody tr th {\n",
       "        vertical-align: top;\n",
       "    }\n",
       "\n",
       "    .dataframe thead th {\n",
       "        text-align: right;\n",
       "    }\n",
       "</style>\n",
       "<table border=\"1\" class=\"dataframe\">\n",
       "  <thead>\n",
       "    <tr style=\"text-align: right;\">\n",
       "      <th></th>\n",
       "      <th>country</th>\n",
       "      <th>rank</th>\n",
       "      <th>grade</th>\n",
       "      <th>score</th>\n",
       "    </tr>\n",
       "  </thead>\n",
       "  <tbody>\n",
       "    <tr>\n",
       "      <th>2</th>\n",
       "      <td>china</td>\n",
       "      <td>3</td>\n",
       "      <td>C</td>\n",
       "      <td>60</td>\n",
       "    </tr>\n",
       "    <tr>\n",
       "      <th>3</th>\n",
       "      <td>japan</td>\n",
       "      <td>4</td>\n",
       "      <td>D</td>\n",
       "      <td>40</td>\n",
       "    </tr>\n",
       "    <tr>\n",
       "      <th>0</th>\n",
       "      <td>kor</td>\n",
       "      <td>1</td>\n",
       "      <td>A</td>\n",
       "      <td>100</td>\n",
       "    </tr>\n",
       "    <tr>\n",
       "      <th>1</th>\n",
       "      <td>usa</td>\n",
       "      <td>2</td>\n",
       "      <td>B</td>\n",
       "      <td>80</td>\n",
       "    </tr>\n",
       "  </tbody>\n",
       "</table>\n",
       "</div>"
      ],
      "text/plain": [
       "  country  rank grade  score\n",
       "2   china     3     C     60\n",
       "3   japan     4     D     40\n",
       "0     kor     1     A    100\n",
       "1     usa     2     B     80"
      ]
     },
     "execution_count": 25,
     "metadata": {},
     "output_type": "execute_result"
    }
   ],
   "source": [
    "df.sort_values(by=['country', 'score']) "
   ]
  },
  {
   "cell_type": "code",
   "execution_count": 26,
   "id": "f198c937",
   "metadata": {},
   "outputs": [
    {
     "data": {
      "text/html": [
       "<div>\n",
       "<style scoped>\n",
       "    .dataframe tbody tr th:only-of-type {\n",
       "        vertical-align: middle;\n",
       "    }\n",
       "\n",
       "    .dataframe tbody tr th {\n",
       "        vertical-align: top;\n",
       "    }\n",
       "\n",
       "    .dataframe thead th {\n",
       "        text-align: right;\n",
       "    }\n",
       "</style>\n",
       "<table border=\"1\" class=\"dataframe\">\n",
       "  <thead>\n",
       "    <tr style=\"text-align: right;\">\n",
       "      <th></th>\n",
       "      <th>country</th>\n",
       "      <th>rank</th>\n",
       "      <th>grade</th>\n",
       "      <th>score</th>\n",
       "    </tr>\n",
       "  </thead>\n",
       "  <tbody>\n",
       "    <tr>\n",
       "      <th>2</th>\n",
       "      <td>china</td>\n",
       "      <td>3</td>\n",
       "      <td>C</td>\n",
       "      <td>60</td>\n",
       "    </tr>\n",
       "    <tr>\n",
       "      <th>3</th>\n",
       "      <td>japan</td>\n",
       "      <td>4</td>\n",
       "      <td>D</td>\n",
       "      <td>40</td>\n",
       "    </tr>\n",
       "    <tr>\n",
       "      <th>0</th>\n",
       "      <td>kor</td>\n",
       "      <td>1</td>\n",
       "      <td>A</td>\n",
       "      <td>100</td>\n",
       "    </tr>\n",
       "    <tr>\n",
       "      <th>1</th>\n",
       "      <td>usa</td>\n",
       "      <td>2</td>\n",
       "      <td>B</td>\n",
       "      <td>80</td>\n",
       "    </tr>\n",
       "  </tbody>\n",
       "</table>\n",
       "</div>"
      ],
      "text/plain": [
       "  country  rank grade  score\n",
       "2   china     3     C     60\n",
       "3   japan     4     D     40\n",
       "0     kor     1     A    100\n",
       "1     usa     2     B     80"
      ]
     },
     "execution_count": 26,
     "metadata": {},
     "output_type": "execute_result"
    }
   ],
   "source": [
    "df.sort_values(by=['country', 'score'], ascending=[True, False])"
   ]
  },
  {
   "cell_type": "markdown",
   "id": "a4874ebb",
   "metadata": {},
   "source": [
    "# 5. NaN 데이터 처리하기\n",
    "- NaN : Not a Number, null 데이터\n",
    "- isnull() or isna()(is not a number) : 값이 null이면 True(null 체크 함수)\n",
    "- fillna() : null 데이터를 찾아 value로 지정된 값으로 변환\n",
    "- dropna() : 행 데이터를 기준으로 null 값이 포함된 데이터 제거\n",
    "\n",
    "1.NaN 데이터는 분석 결과에 치명적인 영향을 줄 수 있음 \\\n",
    "2.우선, NaN데이터가 포함되어 있는지 여부를 체크  \n",
    "3.NaN 데이터를 어떻게 핸들링 할 것인지 결정 (값을 채울 것인지, 없앨 것인지)"
   ]
  },
  {
   "cell_type": "code",
   "execution_count": 28,
   "id": "836f99e2",
   "metadata": {},
   "outputs": [],
   "source": [
    "import numpy as np"
   ]
  },
  {
   "cell_type": "markdown",
   "id": "6d0d62b2",
   "metadata": {},
   "source": [
    "(1) NaN : Not a Number, null 데이터"
   ]
  },
  {
   "cell_type": "code",
   "execution_count": 30,
   "id": "d0a5b7ae",
   "metadata": {},
   "outputs": [
    {
     "data": {
      "text/html": [
       "<div>\n",
       "<style scoped>\n",
       "    .dataframe tbody tr th:only-of-type {\n",
       "        vertical-align: middle;\n",
       "    }\n",
       "\n",
       "    .dataframe tbody tr th {\n",
       "        vertical-align: top;\n",
       "    }\n",
       "\n",
       "    .dataframe thead th {\n",
       "        text-align: right;\n",
       "    }\n",
       "</style>\n",
       "<table border=\"1\" class=\"dataframe\">\n",
       "  <thead>\n",
       "    <tr style=\"text-align: right;\">\n",
       "      <th></th>\n",
       "      <th>country</th>\n",
       "      <th>rank</th>\n",
       "      <th>grade</th>\n",
       "      <th>score</th>\n",
       "      <th>check</th>\n",
       "    </tr>\n",
       "  </thead>\n",
       "  <tbody>\n",
       "    <tr>\n",
       "      <th>0</th>\n",
       "      <td>kor</td>\n",
       "      <td>1</td>\n",
       "      <td>A</td>\n",
       "      <td>100</td>\n",
       "      <td>NaN</td>\n",
       "    </tr>\n",
       "    <tr>\n",
       "      <th>1</th>\n",
       "      <td>usa</td>\n",
       "      <td>2</td>\n",
       "      <td>B</td>\n",
       "      <td>80</td>\n",
       "      <td>NaN</td>\n",
       "    </tr>\n",
       "    <tr>\n",
       "      <th>2</th>\n",
       "      <td>china</td>\n",
       "      <td>3</td>\n",
       "      <td>C</td>\n",
       "      <td>60</td>\n",
       "      <td>NaN</td>\n",
       "    </tr>\n",
       "    <tr>\n",
       "      <th>3</th>\n",
       "      <td>japan</td>\n",
       "      <td>4</td>\n",
       "      <td>D</td>\n",
       "      <td>40</td>\n",
       "      <td>NaN</td>\n",
       "    </tr>\n",
       "  </tbody>\n",
       "</table>\n",
       "</div>"
      ],
      "text/plain": [
       "  country  rank grade  score  check\n",
       "0     kor     1     A    100    NaN\n",
       "1     usa     2     B     80    NaN\n",
       "2   china     3     C     60    NaN\n",
       "3   japan     4     D     40    NaN"
      ]
     },
     "execution_count": 30,
     "metadata": {},
     "output_type": "execute_result"
    }
   ],
   "source": [
    "df['check'] = np.nan\n",
    "df"
   ]
  },
  {
   "cell_type": "code",
   "execution_count": 32,
   "id": "ce765e51",
   "metadata": {},
   "outputs": [
    {
     "data": {
      "text/html": [
       "<div>\n",
       "<style scoped>\n",
       "    .dataframe tbody tr th:only-of-type {\n",
       "        vertical-align: middle;\n",
       "    }\n",
       "\n",
       "    .dataframe tbody tr th {\n",
       "        vertical-align: top;\n",
       "    }\n",
       "\n",
       "    .dataframe thead th {\n",
       "        text-align: right;\n",
       "    }\n",
       "</style>\n",
       "<table border=\"1\" class=\"dataframe\">\n",
       "  <thead>\n",
       "    <tr style=\"text-align: right;\">\n",
       "      <th></th>\n",
       "      <th>country</th>\n",
       "      <th>rank</th>\n",
       "      <th>grade</th>\n",
       "      <th>score</th>\n",
       "      <th>check</th>\n",
       "    </tr>\n",
       "  </thead>\n",
       "  <tbody>\n",
       "    <tr>\n",
       "      <th>0</th>\n",
       "      <td>False</td>\n",
       "      <td>False</td>\n",
       "      <td>False</td>\n",
       "      <td>False</td>\n",
       "      <td>True</td>\n",
       "    </tr>\n",
       "    <tr>\n",
       "      <th>1</th>\n",
       "      <td>False</td>\n",
       "      <td>False</td>\n",
       "      <td>False</td>\n",
       "      <td>False</td>\n",
       "      <td>True</td>\n",
       "    </tr>\n",
       "    <tr>\n",
       "      <th>2</th>\n",
       "      <td>False</td>\n",
       "      <td>False</td>\n",
       "      <td>False</td>\n",
       "      <td>False</td>\n",
       "      <td>True</td>\n",
       "    </tr>\n",
       "    <tr>\n",
       "      <th>3</th>\n",
       "      <td>False</td>\n",
       "      <td>False</td>\n",
       "      <td>False</td>\n",
       "      <td>False</td>\n",
       "      <td>True</td>\n",
       "    </tr>\n",
       "  </tbody>\n",
       "</table>\n",
       "</div>"
      ],
      "text/plain": [
       "   country   rank  grade  score  check\n",
       "0    False  False  False  False   True\n",
       "1    False  False  False  False   True\n",
       "2    False  False  False  False   True\n",
       "3    False  False  False  False   True"
      ]
     },
     "execution_count": 32,
     "metadata": {},
     "output_type": "execute_result"
    }
   ],
   "source": [
    "df.isna() #df.isnull()"
   ]
  },
  {
   "cell_type": "markdown",
   "id": "867ec4af",
   "metadata": {},
   "source": [
    "(2) fillna()\n",
    "- NaN을 '채울값'으로 채우기"
   ]
  },
  {
   "cell_type": "code",
   "execution_count": 35,
   "id": "9a774480",
   "metadata": {},
   "outputs": [
    {
     "data": {
      "text/html": [
       "<div>\n",
       "<style scoped>\n",
       "    .dataframe tbody tr th:only-of-type {\n",
       "        vertical-align: middle;\n",
       "    }\n",
       "\n",
       "    .dataframe tbody tr th {\n",
       "        vertical-align: top;\n",
       "    }\n",
       "\n",
       "    .dataframe thead th {\n",
       "        text-align: right;\n",
       "    }\n",
       "</style>\n",
       "<table border=\"1\" class=\"dataframe\">\n",
       "  <thead>\n",
       "    <tr style=\"text-align: right;\">\n",
       "      <th></th>\n",
       "      <th>country</th>\n",
       "      <th>rank</th>\n",
       "      <th>grade</th>\n",
       "      <th>score</th>\n",
       "      <th>check</th>\n",
       "    </tr>\n",
       "  </thead>\n",
       "  <tbody>\n",
       "    <tr>\n",
       "      <th>0</th>\n",
       "      <td>kor</td>\n",
       "      <td>1</td>\n",
       "      <td>A</td>\n",
       "      <td>100</td>\n",
       "      <td>채워주세요</td>\n",
       "    </tr>\n",
       "    <tr>\n",
       "      <th>1</th>\n",
       "      <td>usa</td>\n",
       "      <td>2</td>\n",
       "      <td>B</td>\n",
       "      <td>80</td>\n",
       "      <td>채워주세요</td>\n",
       "    </tr>\n",
       "    <tr>\n",
       "      <th>2</th>\n",
       "      <td>china</td>\n",
       "      <td>3</td>\n",
       "      <td>C</td>\n",
       "      <td>60</td>\n",
       "      <td>채워주세요</td>\n",
       "    </tr>\n",
       "    <tr>\n",
       "      <th>3</th>\n",
       "      <td>japan</td>\n",
       "      <td>4</td>\n",
       "      <td>D</td>\n",
       "      <td>40</td>\n",
       "      <td>채워주세요</td>\n",
       "    </tr>\n",
       "  </tbody>\n",
       "</table>\n",
       "</div>"
      ],
      "text/plain": [
       "  country  rank grade  score  check\n",
       "0     kor     1     A    100  채워주세요\n",
       "1     usa     2     B     80  채워주세요\n",
       "2   china     3     C     60  채워주세요\n",
       "3   japan     4     D     40  채워주세요"
      ]
     },
     "execution_count": 35,
     "metadata": {},
     "output_type": "execute_result"
    }
   ],
   "source": [
    "# NaN을 True로 채우기\n",
    "df.fillna(value = \"채워주세요\")"
   ]
  },
  {
   "cell_type": "markdown",
   "id": "da1a6ca0",
   "metadata": {},
   "source": [
    "(3) dropna()\n",
    "- df.dropna(how='any'): NaN이 포함된 행은 모두 제거\n",
    "- df.dropna(how='all'): 행 전체가 NaN인 것 제거"
   ]
  },
  {
   "cell_type": "markdown",
   "id": "e581e603",
   "metadata": {},
   "source": [
    "# 6.데이터 타입 변환\n",
    "- astype()\n",
    "- to_numeric()\n",
    "- to_datetime()\n",
    "- to_timedelta()"
   ]
  },
  {
   "cell_type": "code",
   "execution_count": 37,
   "id": "c5a524f2",
   "metadata": {},
   "outputs": [
    {
     "data": {
      "text/html": [
       "<div>\n",
       "<style scoped>\n",
       "    .dataframe tbody tr th:only-of-type {\n",
       "        vertical-align: middle;\n",
       "    }\n",
       "\n",
       "    .dataframe tbody tr th {\n",
       "        vertical-align: top;\n",
       "    }\n",
       "\n",
       "    .dataframe thead th {\n",
       "        text-align: right;\n",
       "    }\n",
       "</style>\n",
       "<table border=\"1\" class=\"dataframe\">\n",
       "  <thead>\n",
       "    <tr style=\"text-align: right;\">\n",
       "      <th></th>\n",
       "      <th>country</th>\n",
       "      <th>rank</th>\n",
       "      <th>grade</th>\n",
       "      <th>score</th>\n",
       "      <th>birth</th>\n",
       "      <th>etc</th>\n",
       "    </tr>\n",
       "  </thead>\n",
       "  <tbody>\n",
       "    <tr>\n",
       "      <th>0</th>\n",
       "      <td>kor</td>\n",
       "      <td>1</td>\n",
       "      <td>NaN</td>\n",
       "      <td>100.0</td>\n",
       "      <td>1.1.2022</td>\n",
       "      <td>1</td>\n",
       "    </tr>\n",
       "    <tr>\n",
       "      <th>1</th>\n",
       "      <td>usa</td>\n",
       "      <td>2</td>\n",
       "      <td>NaN</td>\n",
       "      <td>80.0</td>\n",
       "      <td>2.1.2023</td>\n",
       "      <td>2</td>\n",
       "    </tr>\n",
       "    <tr>\n",
       "      <th>2</th>\n",
       "      <td>china</td>\n",
       "      <td>3</td>\n",
       "      <td>NaN</td>\n",
       "      <td>60.0</td>\n",
       "      <td>3.1.2024</td>\n",
       "      <td>3</td>\n",
       "    </tr>\n",
       "    <tr>\n",
       "      <th>3</th>\n",
       "      <td>japan</td>\n",
       "      <td>4</td>\n",
       "      <td>NaN</td>\n",
       "      <td>40.0</td>\n",
       "      <td>4.1.2025</td>\n",
       "      <td>4</td>\n",
       "    </tr>\n",
       "  </tbody>\n",
       "</table>\n",
       "</div>"
      ],
      "text/plain": [
       "  country  rank grade  score     birth etc\n",
       "0     kor     1   NaN  100.0  1.1.2022   1\n",
       "1     usa     2   NaN   80.0  2.1.2023   2\n",
       "2   china     3   NaN   60.0  3.1.2024   3\n",
       "3   japan     4   NaN   40.0  4.1.2025   4"
      ]
     },
     "execution_count": 37,
     "metadata": {},
     "output_type": "execute_result"
    }
   ],
   "source": [
    "# DataFrame 생성\n",
    "\n",
    "data = {'country': [\"kor\", \"usa\", \"china\", \"japan\"],\n",
    "        'rank': [1, 2, 3, 4],\n",
    "        'score': [100.0, 80.0, 60.0, 40.0],\n",
    "        'birth': [\"1.1.2022\", \"2.1.2023\", \"3.1.2024\", \"4.1.2025\"],\n",
    "        'etc': [\"1\", \"2\", \"3\", \"4\"]        \n",
    "        }\n",
    "column = ['country', 'rank', 'grade', 'score', 'birth', 'etc']\n",
    "df = pd.DataFrame(data, columns=column)\n",
    "df"
   ]
  },
  {
   "cell_type": "markdown",
   "id": "ca9ecbc5",
   "metadata": {},
   "source": [
    "(1) astype()"
   ]
  },
  {
   "cell_type": "code",
   "execution_count": 38,
   "id": "3ac30cc5",
   "metadata": {},
   "outputs": [
    {
     "data": {
      "text/plain": [
       "0    100\n",
       "1     80\n",
       "2     60\n",
       "3     40\n",
       "Name: score, dtype: int32"
      ]
     },
     "execution_count": 38,
     "metadata": {},
     "output_type": "execute_result"
    }
   ],
   "source": [
    "df.dtypes\n",
    "\n",
    "# rank 컬럼의 데이터 타입을 정수->실수형으로 변경\n",
    "df['rank'].dtypes\n",
    "df['rank'].astype('float')\n",
    "\n",
    "# score 컬럼의 데이터 타입을 실수->정수형으로 변경\n",
    "df['score'].dtypes\n",
    "df['score'].astype('int')"
   ]
  },
  {
   "cell_type": "markdown",
   "id": "6e46936b",
   "metadata": {},
   "source": [
    "(2) to_numeric() : 문자열 형태를 적절한 타입 데이터로 변환해줌"
   ]
  },
  {
   "cell_type": "code",
   "execution_count": 39,
   "id": "7d6b3143",
   "metadata": {},
   "outputs": [
    {
     "data": {
      "text/plain": [
       "dtype('O')"
      ]
     },
     "execution_count": 39,
     "metadata": {},
     "output_type": "execute_result"
    }
   ],
   "source": [
    "df['etc'].dtypes # dtype('O') => Object 즉, 문자열"
   ]
  },
  {
   "cell_type": "code",
   "execution_count": 40,
   "id": "e2a43587",
   "metadata": {},
   "outputs": [
    {
     "data": {
      "text/plain": [
       "0    1\n",
       "1    2\n",
       "2    3\n",
       "3    4\n",
       "Name: etc, dtype: int64"
      ]
     },
     "execution_count": 40,
     "metadata": {},
     "output_type": "execute_result"
    }
   ],
   "source": [
    "pd.to_numeric(df['etc'])"
   ]
  },
  {
   "cell_type": "markdown",
   "id": "8ace96e3",
   "metadata": {},
   "source": [
    "(3) to_datetime()"
   ]
  },
  {
   "cell_type": "code",
   "execution_count": 41,
   "id": "d4fd567f",
   "metadata": {},
   "outputs": [
    {
     "data": {
      "text/plain": [
       "dtype('O')"
      ]
     },
     "execution_count": 41,
     "metadata": {},
     "output_type": "execute_result"
    }
   ],
   "source": [
    "df['birth'].dtypes"
   ]
  },
  {
   "cell_type": "code",
   "execution_count": 42,
   "id": "2bdda548",
   "metadata": {},
   "outputs": [
    {
     "data": {
      "text/plain": [
       "0   2022-01-01\n",
       "1   2023-02-01\n",
       "2   2024-03-01\n",
       "3   2025-04-01\n",
       "Name: birth, dtype: datetime64[ns]"
      ]
     },
     "execution_count": 42,
     "metadata": {},
     "output_type": "execute_result"
    }
   ],
   "source": [
    "pd.to_datetime(df['birth'])\n",
    "\n",
    "## 여기서 년, 월, 일 있는 경우 변환 X\n",
    "## replace 함수로 '2022년 3월 3일, 2022년 3월 30일' 에서 '2022-3-3 혹은  2022.3.30' 로 변경하는게 좋음"
   ]
  },
  {
   "cell_type": "markdown",
   "id": "f8ef1ca0",
   "metadata": {},
   "source": [
    "## GroupBy 함수"
   ]
  },
  {
   "cell_type": "code",
   "execution_count": null,
   "id": "68f00873",
   "metadata": {},
   "outputs": [],
   "source": [
    "df = pd.read_csv('nba.csv')\n",
    "df"
   ]
  },
  {
   "cell_type": "code",
   "execution_count": null,
   "id": "2a99f615",
   "metadata": {},
   "outputs": [],
   "source": [
    "# 팀별로 그룹 생성\n",
    "groupby_team = df.groupby('Team')\n",
    "type(groupby_team)"
   ]
  },
  {
   "cell_type": "code",
   "execution_count": null,
   "id": "d3fe3304",
   "metadata": {},
   "outputs": [],
   "source": [
    "groupby_team.groups # 뒤에 나오는 숫자는? -> index번호"
   ]
  },
  {
   "cell_type": "code",
   "execution_count": null,
   "id": "e51f1582",
   "metadata": {},
   "outputs": [],
   "source": [
    "list(groupby_team) # 그룹별로 데이터를 보여줌."
   ]
  },
  {
   "cell_type": "code",
   "execution_count": null,
   "id": "f8684f7a",
   "metadata": {},
   "outputs": [],
   "source": [
    "for Name, Team in groupby_team:\n",
    "    print(Name + \" : \" + str(len(Team)))\n",
    "    print(Team)\n",
    "    print(\"===\"*10)"
   ]
  },
  {
   "cell_type": "code",
   "execution_count": null,
   "id": "fcaa9f30",
   "metadata": {},
   "outputs": [],
   "source": [
    "# 포지션별로 그룹 생성\n",
    "groupby_position = df.groupby('Position')\n",
    "type(groupby_position)"
   ]
  },
  {
   "cell_type": "code",
   "execution_count": null,
   "id": "fc9630d2",
   "metadata": {},
   "outputs": [],
   "source": [
    "for Name, Position in groupby_position:\n",
    "    print(Name + \" : \" + str(len(Position)))\n",
    "    print(Position)\n",
    "    print(\"===\"*10)"
   ]
  },
  {
   "cell_type": "code",
   "execution_count": null,
   "id": "bae84c0e",
   "metadata": {},
   "outputs": [],
   "source": [
    "new_df_position = pd.DataFrame({'count' : groupby_position.size()}).reset_index()\n",
    "new_df_position"
   ]
  },
  {
   "cell_type": "code",
   "execution_count": null,
   "id": "81c4bdfa",
   "metadata": {},
   "outputs": [],
   "source": [
    "new_df_team = pd.DataFrame({'count' : groupby_team.size()}).reset_index()\n",
    "new_df_team"
   ]
  },
  {
   "cell_type": "markdown",
   "id": "2c8b341b",
   "metadata": {},
   "source": [
    "# 7. 데이터프레임 교차\n",
    "- Transpose"
   ]
  },
  {
   "cell_type": "code",
   "execution_count": null,
   "id": "2423f245",
   "metadata": {},
   "outputs": [],
   "source": [
    "data = {'country': [\"kor\", \"usa\", \"china\", \"japan\"],\n",
    "        'rank': [1, 2, 3, 4],\n",
    "        'grade': [\"A\", \"B\", \"C\", \"D\"]\n",
    "        }\n",
    "column = ['country', 'rank', 'grade']\n",
    "df = pd.DataFrame(data, columns=column)\n",
    "df"
   ]
  },
  {
   "cell_type": "code",
   "execution_count": null,
   "id": "a3ef9fea",
   "metadata": {},
   "outputs": [],
   "source": [
    "df = df.T\n",
    "df\n",
    "df.dtypes\n",
    "df.index\n",
    "df.values"
   ]
  },
  {
   "cell_type": "markdown",
   "id": "ca4fa268",
   "metadata": {},
   "source": [
    "# 8.데이터 프레임 합치기\n",
    "- pd.concat()\n",
    "- append()\n",
    "- merge()"
   ]
  },
  {
   "cell_type": "code",
   "execution_count": null,
   "id": "08ffd282",
   "metadata": {},
   "outputs": [],
   "source": [
    "# DataFrame 생성\n",
    "data1 = {'country': [\"kor\", \"usa\"],\n",
    "        'rank': [1, 2]\n",
    "        }\n",
    "\n",
    "data2 = {'country': [\"china\", \"japan\"],\n",
    "        'rank': [3, 4]\n",
    "        }\n",
    "columns = ['country', 'rank']\n",
    "\n",
    "df1 = pd.DataFrame(data1, columns=columns)\n",
    "df2 = pd.DataFrame(data2, columns=columns)"
   ]
  },
  {
   "cell_type": "code",
   "execution_count": null,
   "id": "ad928e72",
   "metadata": {},
   "outputs": [],
   "source": [
    "(1) pd.concat()"
   ]
  },
  {
   "cell_type": "code",
   "execution_count": null,
   "id": "e68657d1",
   "metadata": {},
   "outputs": [],
   "source": [
    "# 행 기준으로 합치기\n",
    "result = pd.concat([df1, df2])\n",
    "# result = pd.concat([df1, df2], ignore_index=True)"
   ]
  },
  {
   "cell_type": "code",
   "execution_count": null,
   "id": "851ba55c",
   "metadata": {},
   "outputs": [],
   "source": [
    "# 열 기준으로 합치기 (기존 데이터프레임에 열이 추가됨)\n",
    "result = pd.concat([df1, df2], axis=1, ignore_index=True)\n",
    "result"
   ]
  },
  {
   "cell_type": "markdown",
   "id": "5b074134",
   "metadata": {},
   "source": [
    "(2) append()\n",
    "- 첫 번째 데이터 프레임의 새로운 행으로 추가"
   ]
  },
  {
   "cell_type": "code",
   "execution_count": null,
   "id": "ff435ba9",
   "metadata": {},
   "outputs": [],
   "source": [
    "result = df1.append(df2, ignore_index=True)\n",
    "result"
   ]
  },
  {
   "cell_type": "markdown",
   "id": "5ca26bec",
   "metadata": {},
   "source": [
    "(3) merge()\n",
    "- 열을 기반 데이터프레임 JOIN 시 사용\n",
    "- how 옵션: inner, left, right, outer"
   ]
  },
  {
   "cell_type": "code",
   "execution_count": null,
   "id": "6850d697",
   "metadata": {},
   "outputs": [],
   "source": [
    "df1 = pd.DataFrame({\n",
    "    '고객번호': [1001, 1002, 1003, 1004, 1005, 1006, 1007],\n",
    "    '이름': ['김남준', '민윤기', '김석진', '정호석', '박지민', '김태형', '전정국']\n",
    "}, columns=['고객번호', '이름'])\n",
    "df1"
   ]
  },
  {
   "cell_type": "code",
   "execution_count": null,
   "id": "063a1293",
   "metadata": {},
   "outputs": [],
   "source": [
    "df2 = pd.DataFrame({\n",
    "    '고객번호': [1001, 1001, 1005, 1006, 1008, 1001],\n",
    "    '금액': [10000, 20000, 15000, 5000, 100000, 30000]\n",
    "}, columns=['고객번호', '금액'])\n",
    "df2"
   ]
  },
  {
   "cell_type": "code",
   "execution_count": null,
   "id": "383597e2",
   "metadata": {},
   "outputs": [],
   "source": [
    "# inner join, 열을 기준으로 데이터프레임에 모두 키가 존재하는 데이터만 보여준다.\n",
    "pd.merge(df1, df2)\n",
    "# pd.merge(df1, df2, how='inner')"
   ]
  },
  {
   "cell_type": "code",
   "execution_count": null,
   "id": "4a0510e3",
   "metadata": {},
   "outputs": [],
   "source": [
    "# 공통되는 값이 없어도, 즉 키가 한쪽에만 있어도 데이터를 보여준다.\n",
    "pd.merge(df1, df2, how='outer')"
   ]
  },
  {
   "cell_type": "code",
   "execution_count": null,
   "id": "fa05db22",
   "metadata": {},
   "outputs": [],
   "source": [
    "# 왼쪽 데이터 프레임을 기준으로 합친다. 오른쪽 df2에는 1002 고객 데이터가 없었기 때문에 금액이 NaN이 뜬다.\n",
    "pd.merge(df1, df2, how='left')"
   ]
  },
  {
   "cell_type": "code",
   "execution_count": null,
   "id": "d36b2bb2",
   "metadata": {},
   "outputs": [],
   "source": [
    "# 오른쪽 데이터 프레임을 기준으로 합친다. 왼쪽 df1에는 1003 고객 데이터가 없기 때문에 아예 뜨지가 않는다.\n",
    "pd.merge(df1, df2, how='right')"
   ]
  },
  {
   "cell_type": "markdown",
   "id": "a89d4c73",
   "metadata": {},
   "source": [
    "# 9.데이터 입출력\n",
    "- csv, excel, html 등의 데이터 로드 및 저장 가능"
   ]
  },
  {
   "cell_type": "code",
   "execution_count": null,
   "id": "886a0e8a",
   "metadata": {},
   "outputs": [],
   "source": [
    "# DataFrame 생성\n",
    "data = {'country': [\"kor\", \"usa\", \"china\", \"japan\"],\n",
    "        'rank': [1, 2, 3, 4],\n",
    "        'grade': [\"A\", \"B\", \"C\", \"D\"]\n",
    "        }\n",
    "column = ['country', 'rank', 'grade']\n",
    "df = pd.DataFrame(data, columns=column)\n",
    "df"
   ]
  },
  {
   "cell_type": "code",
   "execution_count": null,
   "id": "f20343ff",
   "metadata": {},
   "outputs": [],
   "source": [
    "(1) to_csv() : df를 csv 파일로 저장"
   ]
  },
  {
   "cell_type": "code",
   "execution_count": null,
   "id": "c163a372",
   "metadata": {},
   "outputs": [],
   "source": [
    "# df.to_csv('../data/example.csv')\n",
    "# df.to_csv('../data/example2.csv', header=False, index=False)\n",
    "df.to_csv('../data/example3.csv', header=['header1', 'header2','header3'], index=False)"
   ]
  },
  {
   "cell_type": "code",
   "execution_count": null,
   "id": "467369bf",
   "metadata": {},
   "outputs": [],
   "source": [
    "(2) read_csv() : csv 파일 데이터 불러오기"
   ]
  },
  {
   "cell_type": "code",
   "execution_count": null,
   "id": "1410fc42",
   "metadata": {},
   "outputs": [],
   "source": [
    "data = pd.read_csv('../data/example.csv')\n",
    "data = pd.read_csv('../data/example2.csv')\n",
    "data"
   ]
  },
  {
   "cell_type": "markdown",
   "id": "93ad6e9f",
   "metadata": {},
   "source": [
    "# 10.엑셀 파일 다루기\n",
    "- pip install xlrd\n",
    "- pip install openpyxl"
   ]
  },
  {
   "cell_type": "code",
   "execution_count": null,
   "id": "817beed3",
   "metadata": {},
   "outputs": [],
   "source": [
    "! pip install xlrd"
   ]
  },
  {
   "cell_type": "code",
   "execution_count": null,
   "id": "c4b1e4a1",
   "metadata": {},
   "outputs": [],
   "source": [
    "! pip install openpyxl"
   ]
  },
  {
   "cell_type": "markdown",
   "id": "d160cd0b",
   "metadata": {},
   "source": [
    "(1) excel 파일 저장"
   ]
  },
  {
   "cell_type": "code",
   "execution_count": null,
   "id": "5aa643f8",
   "metadata": {},
   "outputs": [],
   "source": [
    "data = pd.read_csv(\"../data/example.csv\")\n",
    "data.to_excel(\"../data/example.xlsx\", 'Number1', index=False)"
   ]
  },
  {
   "cell_type": "markdown",
   "id": "aefa3f85",
   "metadata": {},
   "source": [
    "(2) excel 파일 읽기"
   ]
  },
  {
   "cell_type": "code",
   "execution_count": null,
   "id": "fda07c70",
   "metadata": {},
   "outputs": [],
   "source": [
    "data = pd.read_excel('../data/example.xlsx', 'Number1')\n",
    "data"
   ]
  },
  {
   "cell_type": "markdown",
   "id": "dbf027d7",
   "metadata": {},
   "source": [
    "(3) html의 table 데이터 불러오기"
   ]
  },
  {
   "cell_type": "code",
   "execution_count": null,
   "id": "9cd97d38",
   "metadata": {},
   "outputs": [],
   "source": [
    "! pip install lxml"
   ]
  },
  {
   "cell_type": "code",
   "execution_count": null,
   "id": "f05fb310",
   "metadata": {},
   "outputs": [],
   "source": [
    "data = pd.read_html(\"https://search.naver.com/search.naver?ie=UTF-8&query=%ED%99%98%EC%9C%A8&sm=chr_hty\")\n",
    "data"
   ]
  },
  {
   "cell_type": "code",
   "execution_count": null,
   "id": "1a490453",
   "metadata": {},
   "outputs": [],
   "source": [
    "len(data) # 테이블 개수 확인"
   ]
  },
  {
   "cell_type": "markdown",
   "id": "898dc0a6",
   "metadata": {},
   "source": [
    "# 11. 기술통계\n",
    "- Numpy를 활용한 기술통계"
   ]
  },
  {
   "cell_type": "code",
   "execution_count": null,
   "id": "948d1eae",
   "metadata": {},
   "outputs": [],
   "source": [
    "import numpy as np"
   ]
  },
  {
   "cell_type": "code",
   "execution_count": null,
   "id": "9a142889",
   "metadata": {},
   "outputs": [],
   "source": [
    "x = np.array([-123,-41,-14,-11,-18,-85,105,10,103,8])"
   ]
  },
  {
   "cell_type": "code",
   "execution_count": null,
   "id": "8926ea54",
   "metadata": {},
   "outputs": [],
   "source": [
    "x.shape"
   ]
  },
  {
   "cell_type": "code",
   "execution_count": null,
   "id": "be51e8e8",
   "metadata": {},
   "outputs": [],
   "source": [
    "len(x)"
   ]
  },
  {
   "cell_type": "code",
   "execution_count": null,
   "id": "d4be5418",
   "metadata": {},
   "outputs": [],
   "source": [
    "np.mean(x)\n",
    "# np.sum(x) / len(x)"
   ]
  },
  {
   "cell_type": "code",
   "execution_count": null,
   "id": "464538a1",
   "metadata": {},
   "outputs": [],
   "source": [
    "np.sum(x)"
   ]
  },
  {
   "cell_type": "code",
   "execution_count": null,
   "id": "5cbc7736",
   "metadata": {},
   "outputs": [],
   "source": [
    "np.var(x) # 분산 (variance)"
   ]
  },
  {
   "cell_type": "code",
   "execution_count": null,
   "id": "889184d6",
   "metadata": {},
   "outputs": [],
   "source": [
    "np.std(x) # 표준편차 (Standard deviation)\n",
    "# np.sqrt(np.var(x)) # 분산값에 루트를 씌우면 -> 표준편차"
   ]
  },
  {
   "cell_type": "code",
   "execution_count": null,
   "id": "42b7b5e2",
   "metadata": {},
   "outputs": [],
   "source": [
    "np.max(x)\n",
    "np.min(x)"
   ]
  },
  {
   "cell_type": "code",
   "execution_count": null,
   "id": "4d067103",
   "metadata": {},
   "outputs": [],
   "source": [
    "np.median(x)"
   ]
  },
  {
   "cell_type": "code",
   "execution_count": null,
   "id": "a7f6315e",
   "metadata": {},
   "outputs": [],
   "source": [
    "np.percentile(x, 25) # 1/4 분위수\n",
    "np.percentile(x, 50) # 2/4 분위수\n",
    "np.percentile(x, 75) # 3/4 분위수\n",
    "np.percentile(x, 100) # 4/4 분위수"
   ]
  },
  {
   "cell_type": "code",
   "execution_count": null,
   "id": "12e072b5",
   "metadata": {},
   "outputs": [],
   "source": [
    "np.quantile(x, 0.5) # 중앙값 = 2/4 분위수"
   ]
  },
  {
   "cell_type": "markdown",
   "id": "2631989e",
   "metadata": {},
   "source": [
    "# 12. DataFraem 기술통계"
   ]
  },
  {
   "cell_type": "code",
   "execution_count": null,
   "id": "e7102531",
   "metadata": {},
   "outputs": [],
   "source": [
    "import pandas as pd\n",
    "\n",
    "# DataFrame 생성\n",
    "data = {'country': [\"kor\", \"usa\", \"china\"],\n",
    "        'rank': [1, 2, 3],\n",
    "        'GDP': [100,300,200],\n",
    "        'popular': [4000,12000,30000]\n",
    "        }\n",
    "df = pd.DataFrame(data)\n",
    "df"
   ]
  },
  {
   "cell_type": "code",
   "execution_count": null,
   "id": "5d067d29",
   "metadata": {},
   "outputs": [],
   "source": [
    "df['GDP'].sum()\n",
    "df['popular'].sum()\n",
    "df.sum()"
   ]
  },
  {
   "cell_type": "code",
   "execution_count": null,
   "id": "7bc34332",
   "metadata": {},
   "outputs": [],
   "source": [
    "df['GDP'].mean()\n",
    "df['popular'].mean()"
   ]
  },
  {
   "cell_type": "code",
   "execution_count": null,
   "id": "0a4bfbdd",
   "metadata": {},
   "outputs": [],
   "source": [
    "df.describe()"
   ]
  },
  {
   "cell_type": "code",
   "execution_count": null,
   "id": "aab5d7a8",
   "metadata": {},
   "outputs": [],
   "source": [
    "df.info()"
   ]
  }
 ],
 "metadata": {
  "kernelspec": {
   "display_name": "Python 3 (ipykernel)",
   "language": "python",
   "name": "python3"
  },
  "language_info": {
   "codemirror_mode": {
    "name": "ipython",
    "version": 3
   },
   "file_extension": ".py",
   "mimetype": "text/x-python",
   "name": "python",
   "nbconvert_exporter": "python",
   "pygments_lexer": "ipython3",
   "version": "3.9.12"
  }
 },
 "nbformat": 4,
 "nbformat_minor": 5
}
